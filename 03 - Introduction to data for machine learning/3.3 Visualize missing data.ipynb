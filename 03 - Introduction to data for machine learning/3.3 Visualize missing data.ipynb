{
  "cells": [
    {
      "cell_type": "markdown",
      "source": [
        "# Exercise: Titanic Dataset - Find and Visualize Missing Data\n",
        "\n",
        "It is quite common for datasets to have data missing, which can cause problems when we perform machine learning. Missing data can be hard to spot at a first glance.\n",
        "\n",
        "Recall our scenario - we have obtained a list of passengers on the Titanic's failed maiden voyage and would like to try to figure out which kinds of things predicted whether a passenger would survive. Our first task, which we'll perform here, is to check whether our dataset has missing information.\n",
        "\n",
        "## Preparing data\n",
        "\n",
        "Let's use Pandas to load the dataset and take a cursory look at it:\n"
      ],
      "metadata": {}
    },
    {
      "cell_type": "code",
      "execution_count": 1,
      "source": [
        "import pandas as pd\n",
        "!pip install missingno\n",
        "\n",
        "# Load data from our dataset file into a pandas dataframe\n",
        "# !wget https://raw.githubusercontent.com/MicrosoftDocs/mslearn-introduction-to-machine-learning/main/Data/titanic.csv\n",
        "# !wget https://raw.githubusercontent.com/MicrosoftDocs/mslearn-introduction-to-machine-learning/main/graphing.py\n",
        "dataset = pd.read_csv('titanic.csv', index_col=False, sep=\",\", header=0)\n",
        "\n",
        "# Let's take a look at the data\n",
        "dataset.head()\n"
      ],
      "outputs": [
        {
          "output_type": "stream",
          "name": "stdout",
          "text": [
            "Requirement already satisfied: missingno in /Library/Frameworks/Python.framework/Versions/3.9/lib/python3.9/site-packages (0.5.0)\n",
            "Requirement already satisfied: scipy in /Library/Frameworks/Python.framework/Versions/3.9/lib/python3.9/site-packages (from missingno) (1.7.0)\n",
            "Requirement already satisfied: seaborn in /Library/Frameworks/Python.framework/Versions/3.9/lib/python3.9/site-packages (from missingno) (0.11.1)\n",
            "Requirement already satisfied: matplotlib in /Library/Frameworks/Python.framework/Versions/3.9/lib/python3.9/site-packages (from missingno) (3.4.2)\n",
            "Requirement already satisfied: numpy in /Library/Frameworks/Python.framework/Versions/3.9/lib/python3.9/site-packages (from missingno) (1.19.5)\n",
            "Requirement already satisfied: cycler>=0.10 in /Library/Frameworks/Python.framework/Versions/3.9/lib/python3.9/site-packages (from matplotlib->missingno) (0.10.0)\n",
            "Requirement already satisfied: kiwisolver>=1.0.1 in /Library/Frameworks/Python.framework/Versions/3.9/lib/python3.9/site-packages (from matplotlib->missingno) (1.3.1)\n",
            "Requirement already satisfied: pyparsing>=2.2.1 in /Library/Frameworks/Python.framework/Versions/3.9/lib/python3.9/site-packages (from matplotlib->missingno) (2.4.7)\n",
            "Requirement already satisfied: pillow>=6.2.0 in /Library/Frameworks/Python.framework/Versions/3.9/lib/python3.9/site-packages (from matplotlib->missingno) (8.3.1)\n",
            "Requirement already satisfied: python-dateutil>=2.7 in /Users/nhantran/Library/Python/3.9/lib/python/site-packages (from matplotlib->missingno) (2.8.1)\n",
            "Requirement already satisfied: six in /Library/Frameworks/Python.framework/Versions/3.9/lib/python3.9/site-packages (from cycler>=0.10->matplotlib->missingno) (1.15.0)\n",
            "Requirement already satisfied: pandas>=0.23 in /Library/Frameworks/Python.framework/Versions/3.9/lib/python3.9/site-packages (from seaborn->missingno) (1.2.4)\n",
            "Requirement already satisfied: pytz>=2017.3 in /Library/Frameworks/Python.framework/Versions/3.9/lib/python3.9/site-packages (from pandas>=0.23->seaborn->missingno) (2021.1)\n"
          ]
        },
        {
          "output_type": "execute_result",
          "data": {
            "text/plain": [
              "   PassengerId  Survived  Pclass  \\\n",
              "0            1         0       3   \n",
              "1            2         1       1   \n",
              "2            3         1       3   \n",
              "3            4         1       1   \n",
              "4            5         0       3   \n",
              "\n",
              "                                                Name     Sex   Age  SibSp  \\\n",
              "0                            Braund, Mr. Owen Harris    male  22.0      1   \n",
              "1  Cumings, Mrs. John Bradley (Florence Briggs Th...  female  38.0      1   \n",
              "2                             Heikkinen, Miss. Laina  female  26.0      0   \n",
              "3       Futrelle, Mrs. Jacques Heath (Lily May Peel)  female  35.0      1   \n",
              "4                           Allen, Mr. William Henry    male  35.0      0   \n",
              "\n",
              "   Parch            Ticket     Fare Cabin Embarked  \n",
              "0      0         A/5 21171   7.2500   NaN        S  \n",
              "1      0          PC 17599  71.2833   C85        C  \n",
              "2      0  STON/O2. 3101282   7.9250   NaN        S  \n",
              "3      0            113803  53.1000  C123        S  \n",
              "4      0            373450   8.0500   NaN        S  "
            ],
            "text/html": [
              "<div>\n",
              "<style scoped>\n",
              "    .dataframe tbody tr th:only-of-type {\n",
              "        vertical-align: middle;\n",
              "    }\n",
              "\n",
              "    .dataframe tbody tr th {\n",
              "        vertical-align: top;\n",
              "    }\n",
              "\n",
              "    .dataframe thead th {\n",
              "        text-align: right;\n",
              "    }\n",
              "</style>\n",
              "<table border=\"1\" class=\"dataframe\">\n",
              "  <thead>\n",
              "    <tr style=\"text-align: right;\">\n",
              "      <th></th>\n",
              "      <th>PassengerId</th>\n",
              "      <th>Survived</th>\n",
              "      <th>Pclass</th>\n",
              "      <th>Name</th>\n",
              "      <th>Sex</th>\n",
              "      <th>Age</th>\n",
              "      <th>SibSp</th>\n",
              "      <th>Parch</th>\n",
              "      <th>Ticket</th>\n",
              "      <th>Fare</th>\n",
              "      <th>Cabin</th>\n",
              "      <th>Embarked</th>\n",
              "    </tr>\n",
              "  </thead>\n",
              "  <tbody>\n",
              "    <tr>\n",
              "      <th>0</th>\n",
              "      <td>1</td>\n",
              "      <td>0</td>\n",
              "      <td>3</td>\n",
              "      <td>Braund, Mr. Owen Harris</td>\n",
              "      <td>male</td>\n",
              "      <td>22.0</td>\n",
              "      <td>1</td>\n",
              "      <td>0</td>\n",
              "      <td>A/5 21171</td>\n",
              "      <td>7.2500</td>\n",
              "      <td>NaN</td>\n",
              "      <td>S</td>\n",
              "    </tr>\n",
              "    <tr>\n",
              "      <th>1</th>\n",
              "      <td>2</td>\n",
              "      <td>1</td>\n",
              "      <td>1</td>\n",
              "      <td>Cumings, Mrs. John Bradley (Florence Briggs Th...</td>\n",
              "      <td>female</td>\n",
              "      <td>38.0</td>\n",
              "      <td>1</td>\n",
              "      <td>0</td>\n",
              "      <td>PC 17599</td>\n",
              "      <td>71.2833</td>\n",
              "      <td>C85</td>\n",
              "      <td>C</td>\n",
              "    </tr>\n",
              "    <tr>\n",
              "      <th>2</th>\n",
              "      <td>3</td>\n",
              "      <td>1</td>\n",
              "      <td>3</td>\n",
              "      <td>Heikkinen, Miss. Laina</td>\n",
              "      <td>female</td>\n",
              "      <td>26.0</td>\n",
              "      <td>0</td>\n",
              "      <td>0</td>\n",
              "      <td>STON/O2. 3101282</td>\n",
              "      <td>7.9250</td>\n",
              "      <td>NaN</td>\n",
              "      <td>S</td>\n",
              "    </tr>\n",
              "    <tr>\n",
              "      <th>3</th>\n",
              "      <td>4</td>\n",
              "      <td>1</td>\n",
              "      <td>1</td>\n",
              "      <td>Futrelle, Mrs. Jacques Heath (Lily May Peel)</td>\n",
              "      <td>female</td>\n",
              "      <td>35.0</td>\n",
              "      <td>1</td>\n",
              "      <td>0</td>\n",
              "      <td>113803</td>\n",
              "      <td>53.1000</td>\n",
              "      <td>C123</td>\n",
              "      <td>S</td>\n",
              "    </tr>\n",
              "    <tr>\n",
              "      <th>4</th>\n",
              "      <td>5</td>\n",
              "      <td>0</td>\n",
              "      <td>3</td>\n",
              "      <td>Allen, Mr. William Henry</td>\n",
              "      <td>male</td>\n",
              "      <td>35.0</td>\n",
              "      <td>0</td>\n",
              "      <td>0</td>\n",
              "      <td>373450</td>\n",
              "      <td>8.0500</td>\n",
              "      <td>NaN</td>\n",
              "      <td>S</td>\n",
              "    </tr>\n",
              "  </tbody>\n",
              "</table>\n",
              "</div>"
            ]
          },
          "metadata": {},
          "execution_count": 1
        }
      ],
      "metadata": {}
    },
    {
      "cell_type": "markdown",
      "source": [
        "And now a quick peek at how many samples and columns we have:\n",
        "\n"
      ],
      "metadata": {}
    },
    {
      "cell_type": "code",
      "execution_count": 2,
      "source": [
        "# Shape tells us how many rows and columns we have\n",
        "print(dataset.shape)"
      ],
      "outputs": [
        {
          "output_type": "stream",
          "name": "stdout",
          "text": [
            "(891, 12)\n"
          ]
        }
      ],
      "metadata": {}
    },
    {
      "cell_type": "markdown",
      "source": [
        "We have data for 891 passengers, each described by 12 different variables.\n",
        "\n",
        "## Finding Missing Data\n",
        "\n",
        "Do we have a complete dataset?\n",
        "\n",
        "No. We know from history that there were more than 2000 people on the Titanic, so we know straight away that we are missing information on more than 1000 people! \n",
        "\n",
        "How can we tell whether what's left is complete?\n",
        "\n",
        "We could print the entire dataset, but this would be prone to human error and impractical with this many samples.\n",
        "\n",
        "A better options is to use `pandas` to report columns that have \"empty\" cells:"
      ],
      "metadata": {}
    },
    {
      "cell_type": "code",
      "execution_count": 3,
      "source": [
        "# Calculate the number of empty cells in each column\n",
        "# The following line consists of three commands. Try\n",
        "# to think about how they work together to calculate\n",
        "# the number of missing entries per column\n",
        "missing_data = dataset.isnull().sum().to_frame()\n",
        "\n",
        "# Rename column holding the sums\n",
        "missing_data = missing_data.rename(columns={0:'Empty Cells'})\n",
        "\n",
        "# Print the results\n",
        "print(missing_data)"
      ],
      "outputs": [
        {
          "output_type": "stream",
          "name": "stdout",
          "text": [
            "             Empty Cells\n",
            "PassengerId            0\n",
            "Survived               0\n",
            "Pclass                 0\n",
            "Name                   0\n",
            "Sex                    0\n",
            "Age                  177\n",
            "SibSp                  0\n",
            "Parch                  0\n",
            "Ticket                 0\n",
            "Fare                   0\n",
            "Cabin                687\n",
            "Embarked               2\n"
          ]
        }
      ],
      "metadata": {}
    },
    {
      "cell_type": "markdown",
      "source": [
        "It looks like we don't know the age of 177 passengers, nor whether 2 of them even embarked.\n",
        "\n",
        "Cabin information for a whopping 687 persons is also missing.\n",
        "\n",
        "## Missing Data Visualizations\n",
        "\n",
        "Sometimes it can be helpful to visualise whether missing data form some kind of pattern.   \n",
        "\n",
        "There's a few ways we can plot the absence of data. One of the most helpful is to literally plot gaps in the dataset:"
      ],
      "metadata": {}
    },
    {
      "cell_type": "code",
      "execution_count": 4,
      "source": [
        "# import missingno package\n",
        "import missingno as msno\n",
        "\n",
        "# Plot a matrix chart, set chart and font size\n",
        "msno.matrix(dataset, figsize=(10,5), fontsize=11)"
      ],
      "outputs": [
        {
          "output_type": "execute_result",
          "data": {
            "text/plain": [
              "<AxesSubplot:>"
            ]
          },
          "metadata": {},
          "execution_count": 4
        },
        {
          "output_type": "display_data",
          "data": {
            "text/plain": [
              "<Figure size 720x360 with 2 Axes>"
            ],
            "image/svg+xml": "<?xml version=\"1.0\" encoding=\"utf-8\" standalone=\"no\"?>\n<!DOCTYPE svg PUBLIC \"-//W3C//DTD SVG 1.1//EN\"\n  \"http://www.w3.org/Graphics/SVG/1.1/DTD/svg11.dtd\">\n<svg height=\"355.2977pt\" version=\"1.1\" viewBox=\"0 0 615.66625 355.2977\" width=\"615.66625pt\" xmlns=\"http://www.w3.org/2000/svg\" xmlns:xlink=\"http://www.w3.org/1999/xlink\">\n <metadata>\n  <rdf:RDF xmlns:cc=\"http://creativecommons.org/ns#\" xmlns:dc=\"http://purl.org/dc/elements/1.1/\" xmlns:rdf=\"http://www.w3.org/1999/02/22-rdf-syntax-ns#\">\n   <cc:Work>\n    <dc:type rdf:resource=\"http://purl.org/dc/dcmitype/StillImage\"/>\n    <dc:date>2021-08-14T10:52:47.007439</dc:date>\n    <dc:format>image/svg+xml</dc:format>\n    <dc:creator>\n     <cc:Agent>\n      <dc:title>Matplotlib v3.4.2, https://matplotlib.org/</dc:title>\n     </cc:Agent>\n    </dc:creator>\n   </cc:Work>\n  </rdf:RDF>\n </metadata>\n <defs>\n  <style type=\"text/css\">*{stroke-linecap:butt;stroke-linejoin:round;}</style>\n </defs>\n <g id=\"figure_1\">\n  <g id=\"patch_1\">\n   <path d=\"M 0 355.2977 \nL 615.66625 355.2977 \nL 615.66625 0 \nL 0 0 \nz\n\" style=\"fill:none;\"/>\n  </g>\n  <g id=\"axes_1\">\n   <g id=\"patch_2\">\n    <path d=\"M 563.480096 340.607647 \nL 597.01375 340.607647 \nL 597.01375 68.807647 \nL 563.480096 68.807647 \nz\n\" style=\"fill:#ffffff;\"/>\n   </g>\n   <g id=\"matplotlib.axis_1\"/>\n   <g id=\"matplotlib.axis_2\"/>\n   <g id=\"line2d_1\">\n    <path clip-path=\"url(#p7053e0bcf6)\" d=\"M 580.246923 340.607647 \nL 585.835865 340.302254 \nL 574.657981 339.99686 \nL 585.835865 339.691467 \nL 580.246923 339.386074 \nL 580.246923 337.553714 \nL 585.835865 337.248321 \nL 574.657981 336.942928 \nL 580.246923 336.637535 \nL 580.246923 335.415962 \nL 585.835865 335.110568 \nL 585.835865 334.805175 \nL 580.246923 334.499782 \nL 580.246923 334.194389 \nL 574.657981 333.888995 \nL 585.835865 333.583602 \nL 580.246923 333.278209 \nL 580.246923 332.667422 \nL 574.657981 332.362029 \nL 585.835865 332.056636 \nL 580.246923 331.751243 \nL 580.246923 331.445849 \nL 574.657981 331.140456 \nL 585.835865 330.529669 \nL 580.246923 330.224276 \nL 580.246923 329.61349 \nL 585.835865 329.308096 \nL 580.246923 329.002703 \nL 580.246923 327.475737 \nL 574.657981 327.170344 \nL 580.246923 326.86495 \nL 580.246923 324.727198 \nL 574.657981 324.421804 \nL 585.835865 323.811018 \nL 580.246923 323.505625 \nL 580.246923 323.200231 \nL 574.657981 322.894838 \nL 580.246923 322.589445 \nL 580.246923 321.978658 \nL 574.657981 321.673265 \nL 580.246923 321.367872 \nL 574.657981 321.062478 \nL 574.657981 320.757085 \nL 585.835865 320.146299 \nL 580.246923 319.840905 \nL 580.246923 319.535512 \nL 585.835865 319.230119 \nL 580.246923 318.924726 \nL 580.246923 316.176186 \nL 585.835865 315.870793 \nL 580.246923 315.5654 \nL 580.246923 315.260007 \nL 585.835865 314.954613 \nL 580.246923 314.64922 \nL 580.246923 314.038434 \nL 585.835865 313.73304 \nL 580.246923 313.427647 \nL 580.246923 312.206074 \nL 585.835865 311.900681 \nL 580.246923 311.595287 \nL 580.246923 311.289894 \nL 574.657981 310.984501 \nL 574.657981 310.679108 \nL 580.246923 310.373714 \nL 574.657981 310.068321 \nL 585.835865 309.762928 \nL 580.246923 309.457535 \nL 580.246923 308.235962 \nL 574.657981 307.930568 \nL 585.835865 307.625175 \nL 585.835865 307.319782 \nL 580.246923 307.014389 \nL 585.835865 306.708995 \nL 574.657981 306.403602 \nL 580.246923 306.098209 \nL 580.246923 305.182029 \nL 574.657981 304.876636 \nL 585.835865 304.571243 \nL 580.246923 304.265849 \nL 580.246923 303.655063 \nL 574.657981 303.349669 \nL 580.246923 303.044276 \nL 574.657981 302.738883 \nL 585.835865 302.43349 \nL 580.246923 302.128096 \nL 585.835865 301.822703 \nL 580.246923 301.51731 \nL 580.246923 301.211917 \nL 574.657981 300.906523 \nL 585.835865 300.60113 \nL 580.246923 300.295737 \nL 580.246923 298.463377 \nL 585.835865 298.157984 \nL 580.246923 297.852591 \nL 580.246923 297.547198 \nL 585.835865 297.241804 \nL 580.246923 296.936411 \nL 580.246923 296.631018 \nL 585.835865 296.325625 \nL 580.246923 296.020231 \nL 580.246923 295.714838 \nL 585.835865 295.409445 \nL 585.835865 295.104051 \nL 574.657981 294.493265 \nL 574.657981 294.187872 \nL 585.835865 293.882478 \nL 580.246923 293.577085 \nL 580.246923 292.660905 \nL 574.657981 292.355512 \nL 585.835865 291.744726 \nL 580.246923 291.439332 \nL 580.246923 291.133939 \nL 574.657981 290.828546 \nL 580.246923 290.523153 \nL 580.246923 290.217759 \nL 585.835865 289.912366 \nL 580.246923 289.606973 \nL 580.246923 288.3854 \nL 574.657981 288.080007 \nL 585.835865 287.774613 \nL 585.835865 287.163827 \nL 580.246923 286.858434 \nL 580.246923 286.55304 \nL 585.835865 286.247647 \nL 580.246923 285.942254 \nL 585.835865 285.63686 \nL 574.657981 285.331467 \nL 585.835865 284.720681 \nL 580.246923 284.415287 \nL 580.246923 283.193714 \nL 585.835865 282.888321 \nL 585.835865 281.972141 \nL 574.657981 281.666748 \nL 580.246923 281.361355 \nL 580.246923 280.445175 \nL 574.657981 280.139782 \nL 585.835865 279.528995 \nL 585.835865 279.223602 \nL 580.246923 278.918209 \nL 580.246923 277.085849 \nL 585.835865 276.780456 \nL 574.657981 276.475063 \nL 585.835865 276.169669 \nL 580.246923 275.864276 \nL 580.246923 274.948096 \nL 574.657981 274.642703 \nL 580.246923 274.33731 \nL 580.246923 274.031917 \nL 585.835865 273.726523 \nL 580.246923 273.42113 \nL 580.246923 272.810344 \nL 574.657981 272.50495 \nL 580.246923 272.199557 \nL 580.246923 271.283377 \nL 585.835865 270.977984 \nL 580.246923 270.672591 \nL 580.246923 270.367198 \nL 585.835865 270.061804 \nL 580.246923 269.756411 \nL 580.246923 269.451018 \nL 574.657981 269.145625 \nL 580.246923 268.840231 \nL 580.246923 268.534838 \nL 574.657981 268.229445 \nL 580.246923 267.924051 \nL 580.246923 267.618658 \nL 574.657981 267.313265 \nL 580.246923 267.007872 \nL 574.657981 266.702478 \nL 585.835865 266.397085 \nL 580.246923 266.091692 \nL 585.835865 265.786299 \nL 574.657981 265.175512 \nL 585.835865 264.564726 \nL 574.657981 263.953939 \nL 580.246923 263.648546 \nL 580.246923 262.426973 \nL 574.657981 262.12158 \nL 585.835865 261.816186 \nL 580.246923 261.510793 \nL 585.835865 261.2054 \nL 574.657981 260.900007 \nL 585.835865 260.28922 \nL 580.246923 259.983827 \nL 585.835865 259.678434 \nL 580.246923 259.37304 \nL 580.246923 258.762254 \nL 585.835865 258.45686 \nL 580.246923 258.151467 \nL 580.246923 257.846074 \nL 585.835865 257.540681 \nL 580.246923 257.235287 \nL 580.246923 256.319108 \nL 574.657981 256.013714 \nL 574.657981 255.402928 \nL 585.835865 254.792141 \nL 580.246923 254.486748 \nL 580.246923 252.959782 \nL 574.657981 252.654389 \nL 574.657981 252.348995 \nL 585.835865 251.738209 \nL 574.657981 251.432816 \nL 580.246923 251.127422 \nL 574.657981 250.822029 \nL 580.246923 250.516636 \nL 580.246923 250.211243 \nL 574.657981 249.905849 \nL 585.835865 249.295063 \nL 574.657981 248.684276 \nL 585.835865 248.07349 \nL 580.246923 247.768096 \nL 585.835865 247.462703 \nL 574.657981 247.15731 \nL 585.835865 246.851917 \nL 580.246923 246.546523 \nL 585.835865 246.24113 \nL 580.246923 245.935737 \nL 580.246923 245.630344 \nL 574.657981 245.32495 \nL 585.835865 245.019557 \nL 580.246923 244.714164 \nL 580.246923 244.103377 \nL 574.657981 243.797984 \nL 585.835865 243.492591 \nL 585.835865 243.187198 \nL 580.246923 242.881804 \nL 580.246923 242.576411 \nL 574.657981 242.271018 \nL 580.246923 241.965625 \nL 580.246923 241.354838 \nL 574.657981 241.049445 \nL 574.657981 240.744051 \nL 580.246923 240.438658 \nL 580.246923 240.133265 \nL 574.657981 239.827872 \nL 585.835865 239.217085 \nL 574.657981 238.911692 \nL 585.835865 238.606299 \nL 580.246923 238.300905 \nL 580.246923 237.690119 \nL 574.657981 237.384726 \nL 585.835865 236.773939 \nL 580.246923 236.468546 \nL 580.246923 236.163153 \nL 574.657981 235.857759 \nL 580.246923 235.552366 \nL 580.246923 235.246973 \nL 585.835865 234.94158 \nL 580.246923 234.636186 \nL 580.246923 234.0254 \nL 585.835865 233.720007 \nL 585.835865 233.414613 \nL 574.657981 233.10922 \nL 585.835865 232.498434 \nL 580.246923 232.19304 \nL 580.246923 231.887647 \nL 574.657981 231.582254 \nL 580.246923 231.27686 \nL 574.657981 230.971467 \nL 580.246923 230.666074 \nL 580.246923 229.139108 \nL 574.657981 228.833714 \nL 585.835865 228.528321 \nL 574.657981 228.222928 \nL 585.835865 227.612141 \nL 580.246923 227.306748 \nL 580.246923 227.001355 \nL 574.657981 226.695962 \nL 585.835865 226.390568 \nL 585.835865 226.085175 \nL 580.246923 225.779782 \nL 580.246923 225.474389 \nL 585.835865 225.168995 \nL 574.657981 224.863602 \nL 580.246923 224.558209 \nL 580.246923 223.947422 \nL 574.657981 223.642029 \nL 585.835865 223.031243 \nL 585.835865 222.725849 \nL 574.657981 222.115063 \nL 580.246923 221.809669 \nL 580.246923 221.198883 \nL 585.835865 220.89349 \nL 574.657981 220.588096 \nL 585.835865 220.282703 \nL 574.657981 219.97731 \nL 580.246923 219.671917 \nL 580.246923 219.366523 \nL 585.835865 219.06113 \nL 574.657981 218.450344 \nL 580.246923 218.14495 \nL 580.246923 217.839557 \nL 585.835865 217.534164 \nL 585.835865 217.228771 \nL 574.657981 216.923377 \nL 585.835865 216.617984 \nL 580.246923 216.312591 \nL 580.246923 216.007198 \nL 574.657981 215.701804 \nL 580.246923 215.396411 \nL 580.246923 213.564051 \nL 585.835865 213.258658 \nL 580.246923 212.953265 \nL 580.246923 212.647872 \nL 574.657981 212.342478 \nL 580.246923 212.037085 \nL 574.657981 211.731692 \nL 580.246923 211.426299 \nL 574.657981 211.120905 \nL 580.246923 210.815512 \nL 574.657981 210.510119 \nL 585.835865 209.899332 \nL 580.246923 209.593939 \nL 585.835865 209.288546 \nL 574.657981 208.983153 \nL 580.246923 208.677759 \nL 580.246923 208.372366 \nL 585.835865 208.066973 \nL 574.657981 207.456186 \nL 585.835865 207.150793 \nL 585.835865 206.8454 \nL 574.657981 206.540007 \nL 585.835865 205.92922 \nL 580.246923 205.623827 \nL 580.246923 205.01304 \nL 585.835865 204.707647 \nL 574.657981 204.402254 \nL 580.246923 204.09686 \nL 580.246923 202.875287 \nL 585.835865 202.569894 \nL 580.246923 202.264501 \nL 580.246923 201.959108 \nL 585.835865 201.653714 \nL 585.835865 201.348321 \nL 580.246923 201.042928 \nL 580.246923 200.737535 \nL 574.657981 200.432141 \nL 585.835865 200.126748 \nL 585.835865 199.821355 \nL 574.657981 199.515962 \nL 580.246923 199.210568 \nL 580.246923 198.905175 \nL 574.657981 198.599782 \nL 580.246923 198.294389 \nL 580.246923 197.378209 \nL 574.657981 197.072816 \nL 580.246923 196.767422 \nL 580.246923 195.851243 \nL 574.657981 195.545849 \nL 580.246923 195.240456 \nL 574.657981 194.935063 \nL 585.835865 194.629669 \nL 574.657981 194.324276 \nL 574.657981 193.71349 \nL 580.246923 193.408096 \nL 580.246923 189.437984 \nL 585.835865 189.132591 \nL 585.835865 188.827198 \nL 580.246923 188.521804 \nL 580.246923 188.216411 \nL 585.835865 187.911018 \nL 574.657981 187.300231 \nL 580.246923 186.994838 \nL 580.246923 186.384051 \nL 574.657981 186.078658 \nL 580.246923 185.773265 \nL 580.246923 184.246299 \nL 585.835865 183.940905 \nL 574.657981 183.330119 \nL 580.246923 183.024726 \nL 580.246923 182.108546 \nL 585.835865 181.803153 \nL 585.835865 181.497759 \nL 574.657981 181.192366 \nL 574.657981 180.886973 \nL 585.835865 180.58158 \nL 574.657981 179.970793 \nL 580.246923 179.6654 \nL 580.246923 178.74922 \nL 574.657981 178.443827 \nL 574.657981 178.138434 \nL 585.835865 177.527647 \nL 574.657981 176.91686 \nL 580.246923 176.611467 \nL 580.246923 175.084501 \nL 574.657981 174.779108 \nL 585.835865 174.168321 \nL 580.246923 173.862928 \nL 580.246923 173.252141 \nL 585.835865 172.946748 \nL 585.835865 172.335962 \nL 580.246923 172.030568 \nL 585.835865 171.725175 \nL 585.835865 171.419782 \nL 574.657981 171.114389 \nL 574.657981 170.808995 \nL 585.835865 170.198209 \nL 585.835865 169.892816 \nL 574.657981 169.587422 \nL 585.835865 169.282029 \nL 580.246923 168.976636 \nL 585.835865 168.671243 \nL 580.246923 168.365849 \nL 585.835865 168.060456 \nL 574.657981 167.755063 \nL 580.246923 167.449669 \nL 580.246923 166.53349 \nL 585.835865 166.228096 \nL 585.835865 165.922703 \nL 580.246923 165.61731 \nL 580.246923 164.090344 \nL 585.835865 163.78495 \nL 585.835865 163.174164 \nL 580.246923 162.868771 \nL 585.835865 162.563377 \nL 574.657981 162.257984 \nL 585.835865 161.952591 \nL 574.657981 161.647198 \nL 580.246923 161.341804 \nL 580.246923 161.036411 \nL 574.657981 160.731018 \nL 574.657981 160.425625 \nL 585.835865 160.120231 \nL 580.246923 159.814838 \nL 585.835865 159.509445 \nL 574.657981 158.898658 \nL 580.246923 158.593265 \nL 580.246923 158.287872 \nL 585.835865 157.982478 \nL 585.835865 157.677085 \nL 580.246923 157.371692 \nL 580.246923 153.706973 \nL 574.657981 153.40158 \nL 585.835865 152.790793 \nL 574.657981 152.4854 \nL 585.835865 152.180007 \nL 580.246923 151.874613 \nL 580.246923 151.56922 \nL 574.657981 151.263827 \nL 585.835865 150.958434 \nL 585.835865 150.65304 \nL 580.246923 150.347647 \nL 580.246923 149.73686 \nL 574.657981 149.431467 \nL 585.835865 149.126074 \nL 585.835865 148.820681 \nL 574.657981 148.209894 \nL 580.246923 147.904501 \nL 580.246923 147.599108 \nL 585.835865 147.293714 \nL 574.657981 146.988321 \nL 580.246923 146.682928 \nL 580.246923 146.072141 \nL 585.835865 145.766748 \nL 585.835865 145.461355 \nL 574.657981 145.155962 \nL 585.835865 144.545175 \nL 580.246923 144.239782 \nL 580.246923 143.934389 \nL 585.835865 143.628995 \nL 580.246923 143.323602 \nL 580.246923 142.712816 \nL 574.657981 142.407422 \nL 574.657981 142.102029 \nL 580.246923 141.796636 \nL 580.246923 140.880456 \nL 574.657981 140.575063 \nL 580.246923 140.269669 \nL 580.246923 139.35349 \nL 585.835865 139.048096 \nL 574.657981 138.742703 \nL 580.246923 138.43731 \nL 580.246923 137.52113 \nL 585.835865 137.215737 \nL 574.657981 136.910344 \nL 580.246923 136.60495 \nL 580.246923 135.688771 \nL 585.835865 135.383377 \nL 580.246923 135.077984 \nL 580.246923 134.772591 \nL 585.835865 134.467198 \nL 574.657981 134.161804 \nL 580.246923 133.856411 \nL 580.246923 132.940231 \nL 585.835865 132.634838 \nL 580.246923 132.329445 \nL 580.246923 131.718658 \nL 585.835865 131.413265 \nL 580.246923 131.107872 \nL 580.246923 130.497085 \nL 574.657981 130.191692 \nL 580.246923 129.886299 \nL 580.246923 129.580905 \nL 574.657981 129.275512 \nL 580.246923 128.970119 \nL 574.657981 128.664726 \nL 585.835865 128.359332 \nL 585.835865 127.748546 \nL 580.246923 127.443153 \nL 580.246923 125.916186 \nL 574.657981 125.610793 \nL 580.246923 125.3054 \nL 580.246923 125.000007 \nL 585.835865 124.694613 \nL 574.657981 124.083827 \nL 574.657981 123.778434 \nL 580.246923 123.47304 \nL 580.246923 123.167647 \nL 585.835865 122.862254 \nL 574.657981 122.55686 \nL 585.835865 121.946074 \nL 580.246923 121.640681 \nL 580.246923 121.029894 \nL 585.835865 120.724501 \nL 574.657981 120.113714 \nL 580.246923 119.808321 \nL 580.246923 117.670568 \nL 574.657981 117.365175 \nL 574.657981 117.059782 \nL 580.246923 116.754389 \nL 580.246923 116.143602 \nL 574.657981 115.838209 \nL 580.246923 115.532816 \nL 580.246923 115.227422 \nL 585.835865 114.922029 \nL 580.246923 114.616636 \nL 580.246923 114.311243 \nL 585.835865 114.005849 \nL 580.246923 113.700456 \nL 580.246923 111.868096 \nL 574.657981 111.562703 \nL 585.835865 111.25731 \nL 580.246923 110.951917 \nL 585.835865 110.646523 \nL 585.835865 110.34113 \nL 580.246923 110.035737 \nL 580.246923 107.592591 \nL 574.657981 107.287198 \nL 585.835865 106.676411 \nL 585.835865 106.371018 \nL 574.657981 105.760231 \nL 580.246923 105.454838 \nL 580.246923 105.149445 \nL 585.835865 104.844051 \nL 580.246923 104.538658 \nL 580.246923 102.706299 \nL 585.835865 102.400905 \nL 574.657981 102.095512 \nL 580.246923 101.790119 \nL 574.657981 101.484726 \nL 580.246923 101.179332 \nL 580.246923 100.263153 \nL 585.835865 99.957759 \nL 574.657981 99.652366 \nL 580.246923 99.346973 \nL 580.246923 98.736186 \nL 585.835865 98.430793 \nL 585.835865 98.1254 \nL 574.657981 97.820007 \nL 580.246923 97.514613 \nL 580.246923 97.20922 \nL 585.835865 96.903827 \nL 580.246923 96.598434 \nL 580.246923 95.987647 \nL 585.835865 95.682254 \nL 574.657981 95.37686 \nL 580.246923 95.071467 \nL 580.246923 94.155287 \nL 574.657981 93.849894 \nL 580.246923 93.544501 \nL 580.246923 92.628321 \nL 574.657981 92.322928 \nL 574.657981 92.017535 \nL 585.835865 91.712141 \nL 580.246923 91.406748 \nL 580.246923 89.268995 \nL 585.835865 88.963602 \nL 574.657981 88.658209 \nL 574.657981 88.352816 \nL 585.835865 87.742029 \nL 580.246923 87.436636 \nL 580.246923 85.604276 \nL 585.835865 85.298883 \nL 580.246923 84.99349 \nL 585.835865 84.688096 \nL 580.246923 84.382703 \nL 580.246923 83.771917 \nL 574.657981 83.466523 \nL 574.657981 82.550344 \nL 580.246923 82.24495 \nL 580.246923 81.939557 \nL 574.657981 81.634164 \nL 580.246923 81.328771 \nL 580.246923 80.107198 \nL 574.657981 79.801804 \nL 580.246923 79.496411 \nL 580.246923 78.885625 \nL 574.657981 78.580231 \nL 580.246923 78.274838 \nL 580.246923 77.969445 \nL 574.657981 77.664051 \nL 574.657981 77.358658 \nL 585.835865 77.053265 \nL 574.657981 76.747872 \nL 580.246923 76.442478 \nL 580.246923 76.137085 \nL 585.835865 75.831692 \nL 580.246923 75.526299 \nL 585.835865 75.220905 \nL 574.657981 74.610119 \nL 580.246923 74.304726 \nL 574.657981 73.999332 \nL 580.246923 73.693939 \nL 580.246923 72.472366 \nL 585.835865 72.166973 \nL 585.835865 71.86158 \nL 580.246923 71.556186 \nL 580.246923 70.9454 \nL 585.835865 70.640007 \nL 574.657981 70.334613 \nL 585.835865 69.723827 \nL 580.246923 69.418434 \nL 585.835865 69.11304 \nL 580.246923 68.807647 \nL 580.246923 68.807647 \n\" style=\"fill:none;stroke:#404040;stroke-linecap:square;stroke-width:1.5;\"/>\n   </g>\n   <g id=\"line2d_2\">\n    <defs>\n     <path d=\"M 0 2.5 \nC 0.663008 2.5 1.29895 2.236584 1.767767 1.767767 \nC 2.236584 1.29895 2.5 0.663008 2.5 0 \nC 2.5 -0.663008 2.236584 -1.29895 1.767767 -1.767767 \nC 1.29895 -2.236584 0.663008 -2.5 0 -2.5 \nC -0.663008 -2.5 -1.29895 -2.236584 -1.767767 -1.767767 \nC -2.236584 -1.29895 -2.5 -0.663008 -2.5 0 \nC -2.5 0.663008 -2.236584 1.29895 -1.767767 1.767767 \nC -1.29895 2.236584 -0.663008 2.5 0 2.5 \nz\n\" id=\"mc55b3ebe28\" style=\"stroke:#404040;\"/>\n    </defs>\n    <g clip-path=\"url(#p7053e0bcf6)\">\n     <use style=\"fill:#404040;stroke:#404040;\" x=\"574.657981\" xlink:href=\"#mc55b3ebe28\" y=\"339.99686\"/>\n    </g>\n   </g>\n   <g id=\"line2d_3\">\n    <g clip-path=\"url(#p7053e0bcf6)\">\n     <use style=\"fill:#404040;stroke:#404040;\" x=\"585.835865\" xlink:href=\"#mc55b3ebe28\" y=\"340.302254\"/>\n    </g>\n   </g>\n   <g id=\"text_1\">\n    <!-- 12 -->\n    <g transform=\"translate(597.01375 342.785691)scale(0.09 -0.09)\">\n     <defs>\n      <path d=\"M 794 531 \nL 1825 531 \nL 1825 4091 \nL 703 3866 \nL 703 4441 \nL 1819 4666 \nL 2450 4666 \nL 2450 531 \nL 3481 531 \nL 3481 0 \nL 794 0 \nL 794 531 \nz\n\" id=\"DejaVuSans-31\" transform=\"scale(0.015625)\"/>\n      <path d=\"M 1228 531 \nL 3431 531 \nL 3431 0 \nL 469 0 \nL 469 531 \nQ 828 903 1448 1529 \nQ 2069 2156 2228 2338 \nQ 2531 2678 2651 2914 \nQ 2772 3150 2772 3378 \nQ 2772 3750 2511 3984 \nQ 2250 4219 1831 4219 \nQ 1534 4219 1204 4116 \nQ 875 4013 500 3803 \nL 500 4441 \nQ 881 4594 1212 4672 \nQ 1544 4750 1819 4750 \nQ 2544 4750 2975 4387 \nQ 3406 4025 3406 3419 \nQ 3406 3131 3298 2873 \nQ 3191 2616 2906 2266 \nQ 2828 2175 2409 1742 \nQ 1991 1309 1228 531 \nz\n\" id=\"DejaVuSans-32\" transform=\"scale(0.015625)\"/>\n     </defs>\n     <use xlink:href=\"#DejaVuSans-31\"/>\n     <use x=\"63.623047\" xlink:href=\"#DejaVuSans-32\"/>\n    </g>\n   </g>\n   <g id=\"text_2\">\n    <!-- 10 -->\n    <g transform=\"translate(552.027596 342.480298)scale(0.09 -0.09)\">\n     <defs>\n      <path d=\"M 2034 4250 \nQ 1547 4250 1301 3770 \nQ 1056 3291 1056 2328 \nQ 1056 1369 1301 889 \nQ 1547 409 2034 409 \nQ 2525 409 2770 889 \nQ 3016 1369 3016 2328 \nQ 3016 3291 2770 3770 \nQ 2525 4250 2034 4250 \nz\nM 2034 4750 \nQ 2819 4750 3233 4129 \nQ 3647 3509 3647 2328 \nQ 3647 1150 3233 529 \nQ 2819 -91 2034 -91 \nQ 1250 -91 836 529 \nQ 422 1150 422 2328 \nQ 422 3509 836 4129 \nQ 1250 4750 2034 4750 \nz\n\" id=\"DejaVuSans-30\" transform=\"scale(0.015625)\"/>\n     </defs>\n     <use xlink:href=\"#DejaVuSans-31\"/>\n     <use x=\"63.623047\" xlink:href=\"#DejaVuSans-30\"/>\n    </g>\n   </g>\n  </g>\n  <g id=\"axes_2\">\n   <g id=\"patch_3\">\n    <path d=\"M 39.01375 340.607647 \nL 542.018558 340.607647 \nL 542.018558 68.807647 \nL 39.01375 68.807647 \nz\n\" style=\"fill:#ffffff;\"/>\n   </g>\n   <g clip-path=\"url(#pb13a15305b)\">\n    <image height=\"891\" id=\"image426fc3c0f6\" style=\"image-rendering:crisp-edges;image-rendering:pixelated\" transform=\"matrix(42 0 0 0.305275 39.01375 68.607647)\" width=\"12\" xlink:href=\"data:image/png;base64,\niVBORw0KGgoAAAANSUhEUgAAAAwAAAN7CAYAAABxunsDAAADPklEQVR4nO1cS3YDMQhzerH46L5Zu5pN3jxqEgiSDNtWAWwsPp6Zx/P5/B0bstYac87x2AVc8rP7j2utMcb4goZbwPXHOykyKUTDJXk+uAHfc7oIYMXSLWDOWahB9ky7NeSTwJ2GWB9CYun6kZh9cJtkCcsRtYQFALhKbpPcGvIBtbHEQvchwadUa7iWda2FWEoDRivgTisAZOslt4Z8AGCezgd0x/6uBramKQRQTPfq0cpCZL0P+ACWfSCZwrkBsdV9/kBKvfFjPnFuQP4QgW1WSQYAZG9Ak2T7uPwBLaDTgID8LEpS/sh37AotTS1rAG2c/M1rLQCo0DUB+XUrYK0BaJIlLNxqiYIPRw5oAU3qjQvVEAvoVdoBkGUghdr7yBwH1HDkm+QG9FXtxxpIZjMmgGx2f+Qq5d/SAFIlYPCxAPpu91OAbJ4GTFn5lYCbvd0aat8HUsgPQCfODWiqTNUguw+1PRCLhhpecgNiC11LAJ0GMskNkL8HUuiyAFsawFL6Tr7HSyyx5AYA7nRoSwPE3kolHAsJhGhgA6gmRRNAFnzNSw1owD+A/BLOEpYXiBTo3g1op3cAtY/c9oX2jgAmdsB6iQWg8OyPJYDDHAWaYfnimfq1TlHabQ07AEuAQqMfR3oVhdBQuKp1a1CfwhXluJpYKqYZklhyA468n74EMFoV2gEgp4vbgdplla35uh14VwNge+wGyI+L3Bo6Wnc0KLwfB1h7A+6D2yS3BrJCl5kETABggWWJQlXJMiivpUoFMlbwgYVbAccUR2bRWoDsTrsBZKEB2CkCmgToA+CJY3GarPZWaMsAoxXQB5bwPrLQtQTQJMAsCmiSArfm35axbBwgCYQCFOZLgMsKCGC5tVQ/cUA9ECBA6UwDdigsH8OztALtQyyghwgvAhhLgCkLkGYUohXwEzjbgGupgZgPkL3bpB1RqshkWYMsobCsElmOY1nWEJNiH9RXuIR0AwB3uhbAcoDyH1IhSyiAsXTkKgH6AGgSCyA/7bpNCgUAhgbLMMeS/BznWqW1lm+V5pw9GDSleDCozktAdG8CFBo/t0mWACYUFh8UqJKsn1ZwWuGGgwVAdu1/JEDheb4/O5sphXiG3QIAAAAASUVORK5CYII=\"/>\n   </g>\n   <g id=\"matplotlib.axis_3\">\n    <g id=\"xtick_1\">\n     <g id=\"text_3\">\n      <!-- PassengerId -->\n      <g transform=\"translate(65.882481 60.19003)rotate(-45)scale(0.11 -0.11)\">\n       <defs>\n        <path d=\"M 1259 4147 \nL 1259 2394 \nL 2053 2394 \nQ 2494 2394 2734 2622 \nQ 2975 2850 2975 3272 \nQ 2975 3691 2734 3919 \nQ 2494 4147 2053 4147 \nL 1259 4147 \nz\nM 628 4666 \nL 2053 4666 \nQ 2838 4666 3239 4311 \nQ 3641 3956 3641 3272 \nQ 3641 2581 3239 2228 \nQ 2838 1875 2053 1875 \nL 1259 1875 \nL 1259 0 \nL 628 0 \nL 628 4666 \nz\n\" id=\"DejaVuSans-50\" transform=\"scale(0.015625)\"/>\n        <path d=\"M 2194 1759 \nQ 1497 1759 1228 1600 \nQ 959 1441 959 1056 \nQ 959 750 1161 570 \nQ 1363 391 1709 391 \nQ 2188 391 2477 730 \nQ 2766 1069 2766 1631 \nL 2766 1759 \nL 2194 1759 \nz\nM 3341 1997 \nL 3341 0 \nL 2766 0 \nL 2766 531 \nQ 2569 213 2275 61 \nQ 1981 -91 1556 -91 \nQ 1019 -91 701 211 \nQ 384 513 384 1019 \nQ 384 1609 779 1909 \nQ 1175 2209 1959 2209 \nL 2766 2209 \nL 2766 2266 \nQ 2766 2663 2505 2880 \nQ 2244 3097 1772 3097 \nQ 1472 3097 1187 3025 \nQ 903 2953 641 2809 \nL 641 3341 \nQ 956 3463 1253 3523 \nQ 1550 3584 1831 3584 \nQ 2591 3584 2966 3190 \nQ 3341 2797 3341 1997 \nz\n\" id=\"DejaVuSans-61\" transform=\"scale(0.015625)\"/>\n        <path d=\"M 2834 3397 \nL 2834 2853 \nQ 2591 2978 2328 3040 \nQ 2066 3103 1784 3103 \nQ 1356 3103 1142 2972 \nQ 928 2841 928 2578 \nQ 928 2378 1081 2264 \nQ 1234 2150 1697 2047 \nL 1894 2003 \nQ 2506 1872 2764 1633 \nQ 3022 1394 3022 966 \nQ 3022 478 2636 193 \nQ 2250 -91 1575 -91 \nQ 1294 -91 989 -36 \nQ 684 19 347 128 \nL 347 722 \nQ 666 556 975 473 \nQ 1284 391 1588 391 \nQ 1994 391 2212 530 \nQ 2431 669 2431 922 \nQ 2431 1156 2273 1281 \nQ 2116 1406 1581 1522 \nL 1381 1569 \nQ 847 1681 609 1914 \nQ 372 2147 372 2553 \nQ 372 3047 722 3315 \nQ 1072 3584 1716 3584 \nQ 2034 3584 2315 3537 \nQ 2597 3491 2834 3397 \nz\n\" id=\"DejaVuSans-73\" transform=\"scale(0.015625)\"/>\n        <path d=\"M 3597 1894 \nL 3597 1613 \nL 953 1613 \nQ 991 1019 1311 708 \nQ 1631 397 2203 397 \nQ 2534 397 2845 478 \nQ 3156 559 3463 722 \nL 3463 178 \nQ 3153 47 2828 -22 \nQ 2503 -91 2169 -91 \nQ 1331 -91 842 396 \nQ 353 884 353 1716 \nQ 353 2575 817 3079 \nQ 1281 3584 2069 3584 \nQ 2775 3584 3186 3129 \nQ 3597 2675 3597 1894 \nz\nM 3022 2063 \nQ 3016 2534 2758 2815 \nQ 2500 3097 2075 3097 \nQ 1594 3097 1305 2825 \nQ 1016 2553 972 2059 \nL 3022 2063 \nz\n\" id=\"DejaVuSans-65\" transform=\"scale(0.015625)\"/>\n        <path d=\"M 3513 2113 \nL 3513 0 \nL 2938 0 \nL 2938 2094 \nQ 2938 2591 2744 2837 \nQ 2550 3084 2163 3084 \nQ 1697 3084 1428 2787 \nQ 1159 2491 1159 1978 \nL 1159 0 \nL 581 0 \nL 581 3500 \nL 1159 3500 \nL 1159 2956 \nQ 1366 3272 1645 3428 \nQ 1925 3584 2291 3584 \nQ 2894 3584 3203 3211 \nQ 3513 2838 3513 2113 \nz\n\" id=\"DejaVuSans-6e\" transform=\"scale(0.015625)\"/>\n        <path d=\"M 2906 1791 \nQ 2906 2416 2648 2759 \nQ 2391 3103 1925 3103 \nQ 1463 3103 1205 2759 \nQ 947 2416 947 1791 \nQ 947 1169 1205 825 \nQ 1463 481 1925 481 \nQ 2391 481 2648 825 \nQ 2906 1169 2906 1791 \nz\nM 3481 434 \nQ 3481 -459 3084 -895 \nQ 2688 -1331 1869 -1331 \nQ 1566 -1331 1297 -1286 \nQ 1028 -1241 775 -1147 \nL 775 -588 \nQ 1028 -725 1275 -790 \nQ 1522 -856 1778 -856 \nQ 2344 -856 2625 -561 \nQ 2906 -266 2906 331 \nL 2906 616 \nQ 2728 306 2450 153 \nQ 2172 0 1784 0 \nQ 1141 0 747 490 \nQ 353 981 353 1791 \nQ 353 2603 747 3093 \nQ 1141 3584 1784 3584 \nQ 2172 3584 2450 3431 \nQ 2728 3278 2906 2969 \nL 2906 3500 \nL 3481 3500 \nL 3481 434 \nz\n\" id=\"DejaVuSans-67\" transform=\"scale(0.015625)\"/>\n        <path d=\"M 2631 2963 \nQ 2534 3019 2420 3045 \nQ 2306 3072 2169 3072 \nQ 1681 3072 1420 2755 \nQ 1159 2438 1159 1844 \nL 1159 0 \nL 581 0 \nL 581 3500 \nL 1159 3500 \nL 1159 2956 \nQ 1341 3275 1631 3429 \nQ 1922 3584 2338 3584 \nQ 2397 3584 2469 3576 \nQ 2541 3569 2628 3553 \nL 2631 2963 \nz\n\" id=\"DejaVuSans-72\" transform=\"scale(0.015625)\"/>\n        <path d=\"M 628 4666 \nL 1259 4666 \nL 1259 0 \nL 628 0 \nL 628 4666 \nz\n\" id=\"DejaVuSans-49\" transform=\"scale(0.015625)\"/>\n        <path d=\"M 2906 2969 \nL 2906 4863 \nL 3481 4863 \nL 3481 0 \nL 2906 0 \nL 2906 525 \nQ 2725 213 2448 61 \nQ 2172 -91 1784 -91 \nQ 1150 -91 751 415 \nQ 353 922 353 1747 \nQ 353 2572 751 3078 \nQ 1150 3584 1784 3584 \nQ 2172 3584 2448 3432 \nQ 2725 3281 2906 2969 \nz\nM 947 1747 \nQ 947 1113 1208 752 \nQ 1469 391 1925 391 \nQ 2381 391 2643 752 \nQ 2906 1113 2906 1747 \nQ 2906 2381 2643 2742 \nQ 2381 3103 1925 3103 \nQ 1469 3103 1208 2742 \nQ 947 2381 947 1747 \nz\n\" id=\"DejaVuSans-64\" transform=\"scale(0.015625)\"/>\n       </defs>\n       <use xlink:href=\"#DejaVuSans-50\"/>\n       <use x=\"55.802734\" xlink:href=\"#DejaVuSans-61\"/>\n       <use x=\"117.082031\" xlink:href=\"#DejaVuSans-73\"/>\n       <use x=\"169.181641\" xlink:href=\"#DejaVuSans-73\"/>\n       <use x=\"221.28125\" xlink:href=\"#DejaVuSans-65\"/>\n       <use x=\"282.804688\" xlink:href=\"#DejaVuSans-6e\"/>\n       <use x=\"346.183594\" xlink:href=\"#DejaVuSans-67\"/>\n       <use x=\"409.660156\" xlink:href=\"#DejaVuSans-65\"/>\n       <use x=\"471.183594\" xlink:href=\"#DejaVuSans-72\"/>\n       <use x=\"512.296875\" xlink:href=\"#DejaVuSans-49\"/>\n       <use x=\"541.789062\" xlink:href=\"#DejaVuSans-64\"/>\n      </g>\n     </g>\n    </g>\n    <g id=\"xtick_2\">\n     <g id=\"text_4\">\n      <!-- Survived -->\n      <g transform=\"translate(107.799548 60.19003)rotate(-45)scale(0.11 -0.11)\">\n       <defs>\n        <path d=\"M 3425 4513 \nL 3425 3897 \nQ 3066 4069 2747 4153 \nQ 2428 4238 2131 4238 \nQ 1616 4238 1336 4038 \nQ 1056 3838 1056 3469 \nQ 1056 3159 1242 3001 \nQ 1428 2844 1947 2747 \nL 2328 2669 \nQ 3034 2534 3370 2195 \nQ 3706 1856 3706 1288 \nQ 3706 609 3251 259 \nQ 2797 -91 1919 -91 \nQ 1588 -91 1214 -16 \nQ 841 59 441 206 \nL 441 856 \nQ 825 641 1194 531 \nQ 1563 422 1919 422 \nQ 2459 422 2753 634 \nQ 3047 847 3047 1241 \nQ 3047 1584 2836 1778 \nQ 2625 1972 2144 2069 \nL 1759 2144 \nQ 1053 2284 737 2584 \nQ 422 2884 422 3419 \nQ 422 4038 858 4394 \nQ 1294 4750 2059 4750 \nQ 2388 4750 2728 4690 \nQ 3069 4631 3425 4513 \nz\n\" id=\"DejaVuSans-53\" transform=\"scale(0.015625)\"/>\n        <path d=\"M 544 1381 \nL 544 3500 \nL 1119 3500 \nL 1119 1403 \nQ 1119 906 1312 657 \nQ 1506 409 1894 409 \nQ 2359 409 2629 706 \nQ 2900 1003 2900 1516 \nL 2900 3500 \nL 3475 3500 \nL 3475 0 \nL 2900 0 \nL 2900 538 \nQ 2691 219 2414 64 \nQ 2138 -91 1772 -91 \nQ 1169 -91 856 284 \nQ 544 659 544 1381 \nz\nM 1991 3584 \nL 1991 3584 \nz\n\" id=\"DejaVuSans-75\" transform=\"scale(0.015625)\"/>\n        <path d=\"M 191 3500 \nL 800 3500 \nL 1894 563 \nL 2988 3500 \nL 3597 3500 \nL 2284 0 \nL 1503 0 \nL 191 3500 \nz\n\" id=\"DejaVuSans-76\" transform=\"scale(0.015625)\"/>\n        <path d=\"M 603 3500 \nL 1178 3500 \nL 1178 0 \nL 603 0 \nL 603 3500 \nz\nM 603 4863 \nL 1178 4863 \nL 1178 4134 \nL 603 4134 \nL 603 4863 \nz\n\" id=\"DejaVuSans-69\" transform=\"scale(0.015625)\"/>\n       </defs>\n       <use xlink:href=\"#DejaVuSans-53\"/>\n       <use x=\"63.476562\" xlink:href=\"#DejaVuSans-75\"/>\n       <use x=\"126.855469\" xlink:href=\"#DejaVuSans-72\"/>\n       <use x=\"167.96875\" xlink:href=\"#DejaVuSans-76\"/>\n       <use x=\"227.148438\" xlink:href=\"#DejaVuSans-69\"/>\n       <use x=\"254.931641\" xlink:href=\"#DejaVuSans-76\"/>\n       <use x=\"314.111328\" xlink:href=\"#DejaVuSans-65\"/>\n       <use x=\"375.634766\" xlink:href=\"#DejaVuSans-64\"/>\n      </g>\n     </g>\n    </g>\n    <g id=\"xtick_3\">\n     <g id=\"text_5\">\n      <!-- Pclass -->\n      <g transform=\"translate(149.716616 60.19003)rotate(-45)scale(0.11 -0.11)\">\n       <defs>\n        <path d=\"M 3122 3366 \nL 3122 2828 \nQ 2878 2963 2633 3030 \nQ 2388 3097 2138 3097 \nQ 1578 3097 1268 2742 \nQ 959 2388 959 1747 \nQ 959 1106 1268 751 \nQ 1578 397 2138 397 \nQ 2388 397 2633 464 \nQ 2878 531 3122 666 \nL 3122 134 \nQ 2881 22 2623 -34 \nQ 2366 -91 2075 -91 \nQ 1284 -91 818 406 \nQ 353 903 353 1747 \nQ 353 2603 823 3093 \nQ 1294 3584 2113 3584 \nQ 2378 3584 2631 3529 \nQ 2884 3475 3122 3366 \nz\n\" id=\"DejaVuSans-63\" transform=\"scale(0.015625)\"/>\n        <path d=\"M 603 4863 \nL 1178 4863 \nL 1178 0 \nL 603 0 \nL 603 4863 \nz\n\" id=\"DejaVuSans-6c\" transform=\"scale(0.015625)\"/>\n       </defs>\n       <use xlink:href=\"#DejaVuSans-50\"/>\n       <use x=\"60.302734\" xlink:href=\"#DejaVuSans-63\"/>\n       <use x=\"115.283203\" xlink:href=\"#DejaVuSans-6c\"/>\n       <use x=\"143.066406\" xlink:href=\"#DejaVuSans-61\"/>\n       <use x=\"204.345703\" xlink:href=\"#DejaVuSans-73\"/>\n       <use x=\"256.445312\" xlink:href=\"#DejaVuSans-73\"/>\n      </g>\n     </g>\n    </g>\n    <g id=\"xtick_4\">\n     <g id=\"text_6\">\n      <!-- Name -->\n      <g transform=\"translate(191.633683 60.19003)rotate(-45)scale(0.11 -0.11)\">\n       <defs>\n        <path d=\"M 628 4666 \nL 1478 4666 \nL 3547 763 \nL 3547 4666 \nL 4159 4666 \nL 4159 0 \nL 3309 0 \nL 1241 3903 \nL 1241 0 \nL 628 0 \nL 628 4666 \nz\n\" id=\"DejaVuSans-4e\" transform=\"scale(0.015625)\"/>\n        <path d=\"M 3328 2828 \nQ 3544 3216 3844 3400 \nQ 4144 3584 4550 3584 \nQ 5097 3584 5394 3201 \nQ 5691 2819 5691 2113 \nL 5691 0 \nL 5113 0 \nL 5113 2094 \nQ 5113 2597 4934 2840 \nQ 4756 3084 4391 3084 \nQ 3944 3084 3684 2787 \nQ 3425 2491 3425 1978 \nL 3425 0 \nL 2847 0 \nL 2847 2094 \nQ 2847 2600 2669 2842 \nQ 2491 3084 2119 3084 \nQ 1678 3084 1418 2786 \nQ 1159 2488 1159 1978 \nL 1159 0 \nL 581 0 \nL 581 3500 \nL 1159 3500 \nL 1159 2956 \nQ 1356 3278 1631 3431 \nQ 1906 3584 2284 3584 \nQ 2666 3584 2933 3390 \nQ 3200 3197 3328 2828 \nz\n\" id=\"DejaVuSans-6d\" transform=\"scale(0.015625)\"/>\n       </defs>\n       <use xlink:href=\"#DejaVuSans-4e\"/>\n       <use x=\"74.804688\" xlink:href=\"#DejaVuSans-61\"/>\n       <use x=\"136.083984\" xlink:href=\"#DejaVuSans-6d\"/>\n       <use x=\"233.496094\" xlink:href=\"#DejaVuSans-65\"/>\n      </g>\n     </g>\n    </g>\n    <g id=\"xtick_5\">\n     <g id=\"text_7\">\n      <!-- Sex -->\n      <g transform=\"translate(233.55075 60.19003)rotate(-45)scale(0.11 -0.11)\">\n       <defs>\n        <path d=\"M 3513 3500 \nL 2247 1797 \nL 3578 0 \nL 2900 0 \nL 1881 1375 \nL 863 0 \nL 184 0 \nL 1544 1831 \nL 300 3500 \nL 978 3500 \nL 1906 2253 \nL 2834 3500 \nL 3513 3500 \nz\n\" id=\"DejaVuSans-78\" transform=\"scale(0.015625)\"/>\n       </defs>\n       <use xlink:href=\"#DejaVuSans-53\"/>\n       <use x=\"63.476562\" xlink:href=\"#DejaVuSans-65\"/>\n       <use x=\"123.25\" xlink:href=\"#DejaVuSans-78\"/>\n      </g>\n     </g>\n    </g>\n    <g id=\"xtick_6\">\n     <g id=\"text_8\">\n      <!-- Age -->\n      <g transform=\"translate(275.467818 60.19003)rotate(-45)scale(0.11 -0.11)\">\n       <defs>\n        <path d=\"M 2188 4044 \nL 1331 1722 \nL 3047 1722 \nL 2188 4044 \nz\nM 1831 4666 \nL 2547 4666 \nL 4325 0 \nL 3669 0 \nL 3244 1197 \nL 1141 1197 \nL 716 0 \nL 50 0 \nL 1831 4666 \nz\n\" id=\"DejaVuSans-41\" transform=\"scale(0.015625)\"/>\n       </defs>\n       <use xlink:href=\"#DejaVuSans-41\"/>\n       <use x=\"68.408203\" xlink:href=\"#DejaVuSans-67\"/>\n       <use x=\"131.884766\" xlink:href=\"#DejaVuSans-65\"/>\n      </g>\n     </g>\n    </g>\n    <g id=\"xtick_7\">\n     <g id=\"text_9\">\n      <!-- SibSp -->\n      <g transform=\"translate(317.384885 60.19003)rotate(-45)scale(0.11 -0.11)\">\n       <defs>\n        <path d=\"M 3116 1747 \nQ 3116 2381 2855 2742 \nQ 2594 3103 2138 3103 \nQ 1681 3103 1420 2742 \nQ 1159 2381 1159 1747 \nQ 1159 1113 1420 752 \nQ 1681 391 2138 391 \nQ 2594 391 2855 752 \nQ 3116 1113 3116 1747 \nz\nM 1159 2969 \nQ 1341 3281 1617 3432 \nQ 1894 3584 2278 3584 \nQ 2916 3584 3314 3078 \nQ 3713 2572 3713 1747 \nQ 3713 922 3314 415 \nQ 2916 -91 2278 -91 \nQ 1894 -91 1617 61 \nQ 1341 213 1159 525 \nL 1159 0 \nL 581 0 \nL 581 4863 \nL 1159 4863 \nL 1159 2969 \nz\n\" id=\"DejaVuSans-62\" transform=\"scale(0.015625)\"/>\n        <path d=\"M 1159 525 \nL 1159 -1331 \nL 581 -1331 \nL 581 3500 \nL 1159 3500 \nL 1159 2969 \nQ 1341 3281 1617 3432 \nQ 1894 3584 2278 3584 \nQ 2916 3584 3314 3078 \nQ 3713 2572 3713 1747 \nQ 3713 922 3314 415 \nQ 2916 -91 2278 -91 \nQ 1894 -91 1617 61 \nQ 1341 213 1159 525 \nz\nM 3116 1747 \nQ 3116 2381 2855 2742 \nQ 2594 3103 2138 3103 \nQ 1681 3103 1420 2742 \nQ 1159 2381 1159 1747 \nQ 1159 1113 1420 752 \nQ 1681 391 2138 391 \nQ 2594 391 2855 752 \nQ 3116 1113 3116 1747 \nz\n\" id=\"DejaVuSans-70\" transform=\"scale(0.015625)\"/>\n       </defs>\n       <use xlink:href=\"#DejaVuSans-53\"/>\n       <use x=\"63.476562\" xlink:href=\"#DejaVuSans-69\"/>\n       <use x=\"91.259766\" xlink:href=\"#DejaVuSans-62\"/>\n       <use x=\"154.736328\" xlink:href=\"#DejaVuSans-53\"/>\n       <use x=\"218.212891\" xlink:href=\"#DejaVuSans-70\"/>\n      </g>\n     </g>\n    </g>\n    <g id=\"xtick_8\">\n     <g id=\"text_10\">\n      <!-- Parch -->\n      <g transform=\"translate(359.301952 60.19003)rotate(-45)scale(0.11 -0.11)\">\n       <defs>\n        <path d=\"M 3513 2113 \nL 3513 0 \nL 2938 0 \nL 2938 2094 \nQ 2938 2591 2744 2837 \nQ 2550 3084 2163 3084 \nQ 1697 3084 1428 2787 \nQ 1159 2491 1159 1978 \nL 1159 0 \nL 581 0 \nL 581 4863 \nL 1159 4863 \nL 1159 2956 \nQ 1366 3272 1645 3428 \nQ 1925 3584 2291 3584 \nQ 2894 3584 3203 3211 \nQ 3513 2838 3513 2113 \nz\n\" id=\"DejaVuSans-68\" transform=\"scale(0.015625)\"/>\n       </defs>\n       <use xlink:href=\"#DejaVuSans-50\"/>\n       <use x=\"55.802734\" xlink:href=\"#DejaVuSans-61\"/>\n       <use x=\"117.082031\" xlink:href=\"#DejaVuSans-72\"/>\n       <use x=\"155.945312\" xlink:href=\"#DejaVuSans-63\"/>\n       <use x=\"210.925781\" xlink:href=\"#DejaVuSans-68\"/>\n      </g>\n     </g>\n    </g>\n    <g id=\"xtick_9\">\n     <g id=\"text_11\">\n      <!-- Ticket -->\n      <g transform=\"translate(401.219019 60.19003)rotate(-45)scale(0.11 -0.11)\">\n       <defs>\n        <path d=\"M -19 4666 \nL 3928 4666 \nL 3928 4134 \nL 2272 4134 \nL 2272 0 \nL 1638 0 \nL 1638 4134 \nL -19 4134 \nL -19 4666 \nz\n\" id=\"DejaVuSans-54\" transform=\"scale(0.015625)\"/>\n        <path d=\"M 581 4863 \nL 1159 4863 \nL 1159 1991 \nL 2875 3500 \nL 3609 3500 \nL 1753 1863 \nL 3688 0 \nL 2938 0 \nL 1159 1709 \nL 1159 0 \nL 581 0 \nL 581 4863 \nz\n\" id=\"DejaVuSans-6b\" transform=\"scale(0.015625)\"/>\n        <path d=\"M 1172 4494 \nL 1172 3500 \nL 2356 3500 \nL 2356 3053 \nL 1172 3053 \nL 1172 1153 \nQ 1172 725 1289 603 \nQ 1406 481 1766 481 \nL 2356 481 \nL 2356 0 \nL 1766 0 \nQ 1100 0 847 248 \nQ 594 497 594 1153 \nL 594 3053 \nL 172 3053 \nL 172 3500 \nL 594 3500 \nL 594 4494 \nL 1172 4494 \nz\n\" id=\"DejaVuSans-74\" transform=\"scale(0.015625)\"/>\n       </defs>\n       <use xlink:href=\"#DejaVuSans-54\"/>\n       <use x=\"57.958984\" xlink:href=\"#DejaVuSans-69\"/>\n       <use x=\"85.742188\" xlink:href=\"#DejaVuSans-63\"/>\n       <use x=\"140.722656\" xlink:href=\"#DejaVuSans-6b\"/>\n       <use x=\"195.007812\" xlink:href=\"#DejaVuSans-65\"/>\n       <use x=\"256.53125\" xlink:href=\"#DejaVuSans-74\"/>\n      </g>\n     </g>\n    </g>\n    <g id=\"xtick_10\">\n     <g id=\"text_12\">\n      <!-- Fare -->\n      <g transform=\"translate(443.136087 60.19003)rotate(-45)scale(0.11 -0.11)\">\n       <defs>\n        <path d=\"M 628 4666 \nL 3309 4666 \nL 3309 4134 \nL 1259 4134 \nL 1259 2759 \nL 3109 2759 \nL 3109 2228 \nL 1259 2228 \nL 1259 0 \nL 628 0 \nL 628 4666 \nz\n\" id=\"DejaVuSans-46\" transform=\"scale(0.015625)\"/>\n       </defs>\n       <use xlink:href=\"#DejaVuSans-46\"/>\n       <use x=\"48.394531\" xlink:href=\"#DejaVuSans-61\"/>\n       <use x=\"109.673828\" xlink:href=\"#DejaVuSans-72\"/>\n       <use x=\"148.537109\" xlink:href=\"#DejaVuSans-65\"/>\n      </g>\n     </g>\n    </g>\n    <g id=\"xtick_11\">\n     <g id=\"text_13\">\n      <!-- Cabin -->\n      <g transform=\"translate(485.053154 60.19003)rotate(-45)scale(0.11 -0.11)\">\n       <defs>\n        <path d=\"M 4122 4306 \nL 4122 3641 \nQ 3803 3938 3442 4084 \nQ 3081 4231 2675 4231 \nQ 1875 4231 1450 3742 \nQ 1025 3253 1025 2328 \nQ 1025 1406 1450 917 \nQ 1875 428 2675 428 \nQ 3081 428 3442 575 \nQ 3803 722 4122 1019 \nL 4122 359 \nQ 3791 134 3420 21 \nQ 3050 -91 2638 -91 \nQ 1578 -91 968 557 \nQ 359 1206 359 2328 \nQ 359 3453 968 4101 \nQ 1578 4750 2638 4750 \nQ 3056 4750 3426 4639 \nQ 3797 4528 4122 4306 \nz\n\" id=\"DejaVuSans-43\" transform=\"scale(0.015625)\"/>\n       </defs>\n       <use xlink:href=\"#DejaVuSans-43\"/>\n       <use x=\"69.824219\" xlink:href=\"#DejaVuSans-61\"/>\n       <use x=\"131.103516\" xlink:href=\"#DejaVuSans-62\"/>\n       <use x=\"194.580078\" xlink:href=\"#DejaVuSans-69\"/>\n       <use x=\"222.363281\" xlink:href=\"#DejaVuSans-6e\"/>\n      </g>\n     </g>\n    </g>\n    <g id=\"xtick_12\">\n     <g id=\"text_14\">\n      <!-- Embarked -->\n      <g transform=\"translate(526.970221 60.19003)rotate(-45)scale(0.11 -0.11)\">\n       <defs>\n        <path d=\"M 628 4666 \nL 3578 4666 \nL 3578 4134 \nL 1259 4134 \nL 1259 2753 \nL 3481 2753 \nL 3481 2222 \nL 1259 2222 \nL 1259 531 \nL 3634 531 \nL 3634 0 \nL 628 0 \nL 628 4666 \nz\n\" id=\"DejaVuSans-45\" transform=\"scale(0.015625)\"/>\n       </defs>\n       <use xlink:href=\"#DejaVuSans-45\"/>\n       <use x=\"63.183594\" xlink:href=\"#DejaVuSans-6d\"/>\n       <use x=\"160.595703\" xlink:href=\"#DejaVuSans-62\"/>\n       <use x=\"224.072266\" xlink:href=\"#DejaVuSans-61\"/>\n       <use x=\"285.351562\" xlink:href=\"#DejaVuSans-72\"/>\n       <use x=\"326.464844\" xlink:href=\"#DejaVuSans-6b\"/>\n       <use x=\"380.75\" xlink:href=\"#DejaVuSans-65\"/>\n       <use x=\"442.273438\" xlink:href=\"#DejaVuSans-64\"/>\n      </g>\n     </g>\n    </g>\n   </g>\n   <g id=\"matplotlib.axis_4\">\n    <g id=\"ytick_1\">\n     <g id=\"text_15\">\n      <!-- 1 -->\n      <g transform=\"translate(23.7425 73.899157)scale(0.13 -0.13)\">\n       <use xlink:href=\"#DejaVuSans-31\"/>\n      </g>\n     </g>\n    </g>\n    <g id=\"ytick_2\">\n     <g id=\"text_16\">\n      <!-- 891 -->\n      <g transform=\"translate(7.2 345.394106)scale(0.13 -0.13)\">\n       <defs>\n        <path d=\"M 2034 2216 \nQ 1584 2216 1326 1975 \nQ 1069 1734 1069 1313 \nQ 1069 891 1326 650 \nQ 1584 409 2034 409 \nQ 2484 409 2743 651 \nQ 3003 894 3003 1313 \nQ 3003 1734 2745 1975 \nQ 2488 2216 2034 2216 \nz\nM 1403 2484 \nQ 997 2584 770 2862 \nQ 544 3141 544 3541 \nQ 544 4100 942 4425 \nQ 1341 4750 2034 4750 \nQ 2731 4750 3128 4425 \nQ 3525 4100 3525 3541 \nQ 3525 3141 3298 2862 \nQ 3072 2584 2669 2484 \nQ 3125 2378 3379 2068 \nQ 3634 1759 3634 1313 \nQ 3634 634 3220 271 \nQ 2806 -91 2034 -91 \nQ 1263 -91 848 271 \nQ 434 634 434 1313 \nQ 434 1759 690 2068 \nQ 947 2378 1403 2484 \nz\nM 1172 3481 \nQ 1172 3119 1398 2916 \nQ 1625 2713 2034 2713 \nQ 2441 2713 2670 2916 \nQ 2900 3119 2900 3481 \nQ 2900 3844 2670 4047 \nQ 2441 4250 2034 4250 \nQ 1625 4250 1398 4047 \nQ 1172 3844 1172 3481 \nz\n\" id=\"DejaVuSans-38\" transform=\"scale(0.015625)\"/>\n        <path d=\"M 703 97 \nL 703 672 \nQ 941 559 1184 500 \nQ 1428 441 1663 441 \nQ 2288 441 2617 861 \nQ 2947 1281 2994 2138 \nQ 2813 1869 2534 1725 \nQ 2256 1581 1919 1581 \nQ 1219 1581 811 2004 \nQ 403 2428 403 3163 \nQ 403 3881 828 4315 \nQ 1253 4750 1959 4750 \nQ 2769 4750 3195 4129 \nQ 3622 3509 3622 2328 \nQ 3622 1225 3098 567 \nQ 2575 -91 1691 -91 \nQ 1453 -91 1209 -44 \nQ 966 3 703 97 \nz\nM 1959 2075 \nQ 2384 2075 2632 2365 \nQ 2881 2656 2881 3163 \nQ 2881 3666 2632 3958 \nQ 2384 4250 1959 4250 \nQ 1534 4250 1286 3958 \nQ 1038 3666 1038 3163 \nQ 1038 2656 1286 2365 \nQ 1534 2075 1959 2075 \nz\n\" id=\"DejaVuSans-39\" transform=\"scale(0.015625)\"/>\n       </defs>\n       <use xlink:href=\"#DejaVuSans-38\"/>\n       <use x=\"63.623047\" xlink:href=\"#DejaVuSans-39\"/>\n       <use x=\"127.246094\" xlink:href=\"#DejaVuSans-31\"/>\n      </g>\n     </g>\n    </g>\n   </g>\n   <g id=\"line2d_4\">\n    <path clip-path=\"url(#pb13a15305b)\" d=\"M 80.930817 340.607647 \nL 80.930817 68.807647 \n\" style=\"fill:none;stroke:#ffffff;stroke-linecap:square;stroke-width:1.5;\"/>\n   </g>\n   <g id=\"line2d_5\">\n    <path clip-path=\"url(#pb13a15305b)\" d=\"M 122.847885 340.607647 \nL 122.847885 68.807647 \n\" style=\"fill:none;stroke:#ffffff;stroke-linecap:square;stroke-width:1.5;\"/>\n   </g>\n   <g id=\"line2d_6\">\n    <path clip-path=\"url(#pb13a15305b)\" d=\"M 164.764952 340.607647 \nL 164.764952 68.807647 \n\" style=\"fill:none;stroke:#ffffff;stroke-linecap:square;stroke-width:1.5;\"/>\n   </g>\n   <g id=\"line2d_7\">\n    <path clip-path=\"url(#pb13a15305b)\" d=\"M 206.682019 340.607647 \nL 206.682019 68.807647 \n\" style=\"fill:none;stroke:#ffffff;stroke-linecap:square;stroke-width:1.5;\"/>\n   </g>\n   <g id=\"line2d_8\">\n    <path clip-path=\"url(#pb13a15305b)\" d=\"M 248.599087 340.607647 \nL 248.599087 68.807647 \n\" style=\"fill:none;stroke:#ffffff;stroke-linecap:square;stroke-width:1.5;\"/>\n   </g>\n   <g id=\"line2d_9\">\n    <path clip-path=\"url(#pb13a15305b)\" d=\"M 290.516154 340.607647 \nL 290.516154 68.807647 \n\" style=\"fill:none;stroke:#ffffff;stroke-linecap:square;stroke-width:1.5;\"/>\n   </g>\n   <g id=\"line2d_10\">\n    <path clip-path=\"url(#pb13a15305b)\" d=\"M 332.433221 340.607647 \nL 332.433221 68.807647 \n\" style=\"fill:none;stroke:#ffffff;stroke-linecap:square;stroke-width:1.5;\"/>\n   </g>\n   <g id=\"line2d_11\">\n    <path clip-path=\"url(#pb13a15305b)\" d=\"M 374.350288 340.607647 \nL 374.350288 68.807647 \n\" style=\"fill:none;stroke:#ffffff;stroke-linecap:square;stroke-width:1.5;\"/>\n   </g>\n   <g id=\"line2d_12\">\n    <path clip-path=\"url(#pb13a15305b)\" d=\"M 416.267356 340.607647 \nL 416.267356 68.807647 \n\" style=\"fill:none;stroke:#ffffff;stroke-linecap:square;stroke-width:1.5;\"/>\n   </g>\n   <g id=\"line2d_13\">\n    <path clip-path=\"url(#pb13a15305b)\" d=\"M 458.184423 340.607647 \nL 458.184423 68.807647 \n\" style=\"fill:none;stroke:#ffffff;stroke-linecap:square;stroke-width:1.5;\"/>\n   </g>\n   <g id=\"line2d_14\">\n    <path clip-path=\"url(#pb13a15305b)\" d=\"M 500.10149 340.607647 \nL 500.10149 68.807647 \n\" style=\"fill:none;stroke:#ffffff;stroke-linecap:square;stroke-width:1.5;\"/>\n   </g>\n  </g>\n </g>\n <defs>\n  <clipPath id=\"p7053e0bcf6\">\n   <rect height=\"271.8\" width=\"33.533654\" x=\"563.480096\" y=\"68.807647\"/>\n  </clipPath>\n  <clipPath id=\"pb13a15305b\">\n   <rect height=\"271.8\" width=\"503.004808\" x=\"39.01375\" y=\"68.807647\"/>\n  </clipPath>\n </defs>\n</svg>\n",
            "image/png": "[encoded data removed]"
          },
          "metadata": {
            "needs_background": "light"
          }
        }
      ],
      "metadata": {}
    },
    {
      "cell_type": "markdown",
      "source": [
        "The white bars in the graph show where data are missing. Here, the patterns aren't clear visually, but it could it be that many passengers missing `Age` information are also missing `Cabin` information?\n",
        "\n",
        "## Identifying Individual Passengers with Missing Information.\n",
        "\n",
        "Let's use pandas to get a list of passengers whose age we don't know:"
      ],
      "metadata": {}
    },
    {
      "cell_type": "code",
      "execution_count": 5,
      "source": [
        "# Select Passengers with unknown age\n",
        "# Notice how we use .isnull() rows with no value\n",
        "unknown_age = dataset[dataset[\"Age\"].isnull()]\n",
        "\n",
        "# Print only the colums we want for the moment (to better fit the screen)\n",
        "# limit output to 20 rows\n",
        "unknown_age[[\"PassengerId\",\"Name\", \"Survived\", \"Age\"]][:20]"
      ],
      "outputs": [
        {
          "output_type": "execute_result",
          "data": {
            "text/plain": [
              "    PassengerId                                            Name  Survived  Age\n",
              "5             6                                Moran, Mr. James         0  NaN\n",
              "17           18                    Williams, Mr. Charles Eugene         1  NaN\n",
              "19           20                         Masselmani, Mrs. Fatima         1  NaN\n",
              "26           27                         Emir, Mr. Farred Chehab         0  NaN\n",
              "28           29                   O'Dwyer, Miss. Ellen \"Nellie\"         1  NaN\n",
              "29           30                             Todoroff, Mr. Lalio         0  NaN\n",
              "31           32  Spencer, Mrs. William Augustus (Marie Eugenie)         1  NaN\n",
              "32           33                        Glynn, Miss. Mary Agatha         1  NaN\n",
              "36           37                                Mamee, Mr. Hanna         1  NaN\n",
              "42           43                             Kraeff, Mr. Theodor         0  NaN\n",
              "45           46                        Rogers, Mr. William John         0  NaN\n",
              "46           47                               Lennon, Mr. Denis         0  NaN\n",
              "47           48                       O'Driscoll, Miss. Bridget         1  NaN\n",
              "48           49                             Samaan, Mr. Youssef         0  NaN\n",
              "55           56                               Woolner, Mr. Hugh         1  NaN\n",
              "64           65                           Stewart, Mr. Albert A         0  NaN\n",
              "65           66                        Moubarek, Master. Gerios         1  NaN\n",
              "76           77                               Staneff, Mr. Ivan         0  NaN\n",
              "77           78                        Moutal, Mr. Rahamin Haim         0  NaN\n",
              "82           83                  McDermott, Miss. Brigdet Delia         1  NaN"
            ],
            "text/html": [
              "<div>\n",
              "<style scoped>\n",
              "    .dataframe tbody tr th:only-of-type {\n",
              "        vertical-align: middle;\n",
              "    }\n",
              "\n",
              "    .dataframe tbody tr th {\n",
              "        vertical-align: top;\n",
              "    }\n",
              "\n",
              "    .dataframe thead th {\n",
              "        text-align: right;\n",
              "    }\n",
              "</style>\n",
              "<table border=\"1\" class=\"dataframe\">\n",
              "  <thead>\n",
              "    <tr style=\"text-align: right;\">\n",
              "      <th></th>\n",
              "      <th>PassengerId</th>\n",
              "      <th>Name</th>\n",
              "      <th>Survived</th>\n",
              "      <th>Age</th>\n",
              "    </tr>\n",
              "  </thead>\n",
              "  <tbody>\n",
              "    <tr>\n",
              "      <th>5</th>\n",
              "      <td>6</td>\n",
              "      <td>Moran, Mr. James</td>\n",
              "      <td>0</td>\n",
              "      <td>NaN</td>\n",
              "    </tr>\n",
              "    <tr>\n",
              "      <th>17</th>\n",
              "      <td>18</td>\n",
              "      <td>Williams, Mr. Charles Eugene</td>\n",
              "      <td>1</td>\n",
              "      <td>NaN</td>\n",
              "    </tr>\n",
              "    <tr>\n",
              "      <th>19</th>\n",
              "      <td>20</td>\n",
              "      <td>Masselmani, Mrs. Fatima</td>\n",
              "      <td>1</td>\n",
              "      <td>NaN</td>\n",
              "    </tr>\n",
              "    <tr>\n",
              "      <th>26</th>\n",
              "      <td>27</td>\n",
              "      <td>Emir, Mr. Farred Chehab</td>\n",
              "      <td>0</td>\n",
              "      <td>NaN</td>\n",
              "    </tr>\n",
              "    <tr>\n",
              "      <th>28</th>\n",
              "      <td>29</td>\n",
              "      <td>O'Dwyer, Miss. Ellen \"Nellie\"</td>\n",
              "      <td>1</td>\n",
              "      <td>NaN</td>\n",
              "    </tr>\n",
              "    <tr>\n",
              "      <th>29</th>\n",
              "      <td>30</td>\n",
              "      <td>Todoroff, Mr. Lalio</td>\n",
              "      <td>0</td>\n",
              "      <td>NaN</td>\n",
              "    </tr>\n",
              "    <tr>\n",
              "      <th>31</th>\n",
              "      <td>32</td>\n",
              "      <td>Spencer, Mrs. William Augustus (Marie Eugenie)</td>\n",
              "      <td>1</td>\n",
              "      <td>NaN</td>\n",
              "    </tr>\n",
              "    <tr>\n",
              "      <th>32</th>\n",
              "      <td>33</td>\n",
              "      <td>Glynn, Miss. Mary Agatha</td>\n",
              "      <td>1</td>\n",
              "      <td>NaN</td>\n",
              "    </tr>\n",
              "    <tr>\n",
              "      <th>36</th>\n",
              "      <td>37</td>\n",
              "      <td>Mamee, Mr. Hanna</td>\n",
              "      <td>1</td>\n",
              "      <td>NaN</td>\n",
              "    </tr>\n",
              "    <tr>\n",
              "      <th>42</th>\n",
              "      <td>43</td>\n",
              "      <td>Kraeff, Mr. Theodor</td>\n",
              "      <td>0</td>\n",
              "      <td>NaN</td>\n",
              "    </tr>\n",
              "    <tr>\n",
              "      <th>45</th>\n",
              "      <td>46</td>\n",
              "      <td>Rogers, Mr. William John</td>\n",
              "      <td>0</td>\n",
              "      <td>NaN</td>\n",
              "    </tr>\n",
              "    <tr>\n",
              "      <th>46</th>\n",
              "      <td>47</td>\n",
              "      <td>Lennon, Mr. Denis</td>\n",
              "      <td>0</td>\n",
              "      <td>NaN</td>\n",
              "    </tr>\n",
              "    <tr>\n",
              "      <th>47</th>\n",
              "      <td>48</td>\n",
              "      <td>O'Driscoll, Miss. Bridget</td>\n",
              "      <td>1</td>\n",
              "      <td>NaN</td>\n",
              "    </tr>\n",
              "    <tr>\n",
              "      <th>48</th>\n",
              "      <td>49</td>\n",
              "      <td>Samaan, Mr. Youssef</td>\n",
              "      <td>0</td>\n",
              "      <td>NaN</td>\n",
              "    </tr>\n",
              "    <tr>\n",
              "      <th>55</th>\n",
              "      <td>56</td>\n",
              "      <td>Woolner, Mr. Hugh</td>\n",
              "      <td>1</td>\n",
              "      <td>NaN</td>\n",
              "    </tr>\n",
              "    <tr>\n",
              "      <th>64</th>\n",
              "      <td>65</td>\n",
              "      <td>Stewart, Mr. Albert A</td>\n",
              "      <td>0</td>\n",
              "      <td>NaN</td>\n",
              "    </tr>\n",
              "    <tr>\n",
              "      <th>65</th>\n",
              "      <td>66</td>\n",
              "      <td>Moubarek, Master. Gerios</td>\n",
              "      <td>1</td>\n",
              "      <td>NaN</td>\n",
              "    </tr>\n",
              "    <tr>\n",
              "      <th>76</th>\n",
              "      <td>77</td>\n",
              "      <td>Staneff, Mr. Ivan</td>\n",
              "      <td>0</td>\n",
              "      <td>NaN</td>\n",
              "    </tr>\n",
              "    <tr>\n",
              "      <th>77</th>\n",
              "      <td>78</td>\n",
              "      <td>Moutal, Mr. Rahamin Haim</td>\n",
              "      <td>0</td>\n",
              "      <td>NaN</td>\n",
              "    </tr>\n",
              "    <tr>\n",
              "      <th>82</th>\n",
              "      <td>83</td>\n",
              "      <td>McDermott, Miss. Brigdet Delia</td>\n",
              "      <td>1</td>\n",
              "      <td>NaN</td>\n",
              "    </tr>\n",
              "  </tbody>\n",
              "</table>\n",
              "</div>"
            ]
          },
          "metadata": {},
          "execution_count": 5
        }
      ],
      "metadata": {}
    },
    {
      "cell_type": "markdown",
      "source": [
        "This technique can be used to list the passengers with missing `Cabin` or `Embarked` information as well. Let's combine these using a `AND` to see how many passengers are missing both Cabin and Age information\n"
      ],
      "metadata": {}
    },
    {
      "cell_type": "code",
      "execution_count": 6,
      "source": [
        "# Find those missing age or cabin information\n",
        "missing_age = dataset[\"Age\"].isnull()\n",
        "missing_cabin = dataset[\"Cabin\"].isnull()\n",
        "\n",
        "# Find those missing both\n",
        "unknown_age_and_cabin = dataset[missing_age & missing_cabin]\n",
        "print(\"Number of passengers missing age and cabin information:\", len(unknown_age_and_cabin))"
      ],
      "outputs": [
        {
          "output_type": "stream",
          "name": "stdout",
          "text": [
            "Number of passengers missing age and cabin information: 158\n"
          ]
        }
      ],
      "metadata": {}
    },
    {
      "cell_type": "markdown",
      "source": [
        "Our suspicions were correct - most passengers missing age information are also missing cabin information. \n",
        "\n",
        "Normally, from here, we would want to know _why_ we have this issue. A good hypothesis is that information was not collected well for the passengers with the cheap tickets. \n",
        "\n",
        "Let's plot a histogram of ticket classes, and another of just people missing information. "
      ],
      "metadata": {}
    },
    {
      "cell_type": "code",
      "execution_count": 7,
      "source": [
        "import graphing\n",
        "\n",
        "# 'graphing' is custom code we use to make graphs quickly.\n",
        "# If you would like to read it in detail, it can be found\n",
        "# in our GitHub repository\n",
        "graphing.histogram(dataset, 'Pclass', title='Ticket Class (All Passengers)', show=True)\n",
        "graphing.histogram(unknown_age_and_cabin, 'Pclass', title='Ticket Class (Passengers Missing Cabin and Age Information)')"
      ],
      "outputs": [
        {
          "output_type": "display_data",
          "data": {
            "application/vnd.plotly.v1+json": {
              "config": {
                "plotlyServerURL": "https://plot.ly"
              },
              "data": [
                {
                  "alignmentgroup": "True",
                  "bingroup": "x",
                  "hovertemplate": "Pclass=%{x}<br>count=%{y}<extra></extra>",
                  "legendgroup": "",
                  "marker": {
                    "color": "#636efa",
                    "pattern": {
                      "shape": ""
                    }
                  },
                  "name": "",
                  "offsetgroup": "",
                  "orientation": "v",
                  "showlegend": false,
                  "type": "histogram",
                  "x": [
                    3,
                    1,
                    3,
                    1,
                    3,
                    3,
                    1,
                    3,
                    3,
                    2,
                    3,
                    1,
                    3,
                    3,
                    3,
                    2,
                    3,
                    2,
                    3,
                    3,
                    2,
                    2,
                    3,
                    1,
                    3,
                    3,
                    3,
                    1,
                    3,
                    3,
                    1,
                    1,
                    3,
                    2,
                    1,
                    1,
                    3,
                    3,
                    3,
                    3,
                    3,
                    2,
                    3,
                    2,
                    3,
                    3,
                    3,
                    3,
                    3,
                    3,
                    3,
                    3,
                    1,
                    2,
                    1,
                    1,
                    2,
                    3,
                    2,
                    3,
                    3,
                    1,
                    1,
                    3,
                    1,
                    3,
                    2,
                    3,
                    3,
                    3,
                    2,
                    3,
                    2,
                    3,
                    3,
                    3,
                    3,
                    3,
                    2,
                    3,
                    3,
                    3,
                    3,
                    1,
                    2,
                    3,
                    3,
                    3,
                    1,
                    3,
                    3,
                    3,
                    1,
                    3,
                    3,
                    3,
                    1,
                    1,
                    2,
                    2,
                    3,
                    3,
                    1,
                    3,
                    3,
                    3,
                    3,
                    3,
                    3,
                    3,
                    1,
                    3,
                    3,
                    3,
                    3,
                    3,
                    3,
                    2,
                    1,
                    3,
                    2,
                    3,
                    2,
                    2,
                    1,
                    3,
                    3,
                    3,
                    3,
                    3,
                    3,
                    3,
                    3,
                    2,
                    2,
                    2,
                    1,
                    1,
                    3,
                    1,
                    3,
                    3,
                    3,
                    3,
                    2,
                    2,
                    3,
                    3,
                    2,
                    2,
                    2,
                    1,
                    3,
                    3,
                    3,
                    1,
                    3,
                    3,
                    3,
                    3,
                    3,
                    2,
                    3,
                    3,
                    3,
                    3,
                    1,
                    3,
                    1,
                    3,
                    1,
                    3,
                    3,
                    3,
                    1,
                    3,
                    3,
                    1,
                    2,
                    3,
                    3,
                    2,
                    3,
                    2,
                    3,
                    1,
                    3,
                    1,
                    3,
                    3,
                    2,
                    2,
                    3,
                    2,
                    1,
                    1,
                    3,
                    3,
                    3,
                    2,
                    3,
                    3,
                    3,
                    3,
                    3,
                    3,
                    3,
                    3,
                    3,
                    1,
                    3,
                    2,
                    3,
                    2,
                    3,
                    1,
                    3,
                    2,
                    1,
                    2,
                    3,
                    2,
                    3,
                    3,
                    1,
                    3,
                    2,
                    3,
                    2,
                    3,
                    1,
                    3,
                    2,
                    3,
                    2,
                    3,
                    2,
                    2,
                    2,
                    2,
                    3,
                    3,
                    2,
                    3,
                    3,
                    1,
                    3,
                    2,
                    1,
                    2,
                    3,
                    3,
                    1,
                    3,
                    3,
                    3,
                    1,
                    1,
                    1,
                    2,
                    3,
                    3,
                    1,
                    1,
                    3,
                    2,
                    3,
                    3,
                    1,
                    1,
                    1,
                    3,
                    2,
                    1,
                    3,
                    1,
                    3,
                    2,
                    3,
                    3,
                    3,
                    3,
                    3,
                    3,
                    1,
                    3,
                    3,
                    3,
                    2,
                    3,
                    1,
                    1,
                    2,
                    3,
                    3,
                    1,
                    3,
                    1,
                    1,
                    1,
                    3,
                    3,
                    3,
                    2,
                    3,
                    1,
                    1,
                    1,
                    2,
                    1,
                    1,
                    1,
                    2,
                    3,
                    2,
                    3,
                    2,
                    2,
                    1,
                    1,
                    3,
                    3,
                    2,
                    2,
                    3,
                    1,
                    3,
                    2,
                    3,
                    1,
                    3,
                    1,
                    1,
                    3,
                    1,
                    3,
                    1,
                    1,
                    3,
                    1,
                    2,
                    1,
                    2,
                    2,
                    2,
                    2,
                    2,
                    3,
                    3,
                    3,
                    3,
                    1,
                    3,
                    3,
                    3,
                    3,
                    1,
                    2,
                    3,
                    3,
                    3,
                    2,
                    3,
                    3,
                    3,
                    3,
                    1,
                    3,
                    3,
                    1,
                    1,
                    3,
                    3,
                    1,
                    3,
                    1,
                    3,
                    1,
                    3,
                    3,
                    1,
                    3,
                    3,
                    1,
                    3,
                    2,
                    3,
                    2,
                    3,
                    2,
                    1,
                    3,
                    3,
                    1,
                    3,
                    3,
                    3,
                    2,
                    2,
                    2,
                    3,
                    3,
                    3,
                    3,
                    3,
                    2,
                    3,
                    2,
                    3,
                    3,
                    3,
                    3,
                    1,
                    2,
                    3,
                    3,
                    2,
                    2,
                    2,
                    3,
                    3,
                    3,
                    3,
                    3,
                    3,
                    3,
                    2,
                    2,
                    3,
                    3,
                    1,
                    3,
                    2,
                    3,
                    1,
                    1,
                    3,
                    2,
                    1,
                    2,
                    2,
                    3,
                    3,
                    2,
                    3,
                    1,
                    2,
                    1,
                    3,
                    1,
                    2,
                    3,
                    1,
                    1,
                    3,
                    3,
                    1,
                    1,
                    2,
                    3,
                    1,
                    3,
                    1,
                    2,
                    3,
                    3,
                    2,
                    1,
                    3,
                    3,
                    3,
                    3,
                    2,
                    2,
                    3,
                    1,
                    2,
                    3,
                    3,
                    3,
                    3,
                    2,
                    3,
                    3,
                    1,
                    3,
                    1,
                    1,
                    3,
                    3,
                    3,
                    3,
                    1,
                    1,
                    3,
                    3,
                    1,
                    3,
                    1,
                    3,
                    3,
                    3,
                    3,
                    3,
                    1,
                    1,
                    2,
                    1,
                    3,
                    3,
                    3,
                    3,
                    1,
                    1,
                    3,
                    1,
                    2,
                    3,
                    2,
                    3,
                    1,
                    3,
                    3,
                    1,
                    3,
                    3,
                    2,
                    1,
                    3,
                    2,
                    2,
                    3,
                    3,
                    3,
                    3,
                    2,
                    1,
                    1,
                    3,
                    1,
                    1,
                    3,
                    3,
                    2,
                    1,
                    1,
                    2,
                    2,
                    3,
                    2,
                    1,
                    2,
                    3,
                    3,
                    3,
                    1,
                    1,
                    1,
                    1,
                    3,
                    3,
                    3,
                    2,
                    3,
                    3,
                    3,
                    3,
                    3,
                    3,
                    3,
                    2,
                    1,
                    1,
                    3,
                    3,
                    3,
                    2,
                    1,
                    3,
                    3,
                    2,
                    1,
                    2,
                    1,
                    3,
                    1,
                    2,
                    1,
                    3,
                    3,
                    3,
                    1,
                    3,
                    3,
                    2,
                    3,
                    2,
                    3,
                    3,
                    1,
                    2,
                    3,
                    1,
                    3,
                    1,
                    3,
                    3,
                    1,
                    2,
                    1,
                    3,
                    3,
                    3,
                    3,
                    3,
                    2,
                    3,
                    3,
                    2,
                    2,
                    3,
                    1,
                    3,
                    3,
                    3,
                    1,
                    2,
                    1,
                    3,
                    3,
                    1,
                    3,
                    1,
                    1,
                    3,
                    2,
                    3,
                    2,
                    3,
                    3,
                    3,
                    1,
                    3,
                    3,
                    3,
                    1,
                    3,
                    1,
                    3,
                    3,
                    3,
                    2,
                    3,
                    3,
                    3,
                    2,
                    3,
                    3,
                    2,
                    1,
                    1,
                    3,
                    1,
                    3,
                    3,
                    2,
                    2,
                    3,
                    3,
                    1,
                    2,
                    1,
                    2,
                    2,
                    2,
                    3,
                    3,
                    3,
                    3,
                    1,
                    3,
                    1,
                    3,
                    3,
                    2,
                    2,
                    3,
                    3,
                    3,
                    1,
                    1,
                    3,
                    3,
                    3,
                    1,
                    2,
                    3,
                    3,
                    1,
                    3,
                    1,
                    1,
                    3,
                    3,
                    3,
                    2,
                    2,
                    1,
                    1,
                    3,
                    1,
                    1,
                    1,
                    3,
                    2,
                    3,
                    1,
                    2,
                    3,
                    3,
                    2,
                    3,
                    2,
                    2,
                    1,
                    3,
                    2,
                    3,
                    2,
                    3,
                    1,
                    3,
                    2,
                    2,
                    2,
                    3,
                    3,
                    1,
                    3,
                    3,
                    1,
                    1,
                    1,
                    3,
                    3,
                    1,
                    3,
                    2,
                    1,
                    3,
                    2,
                    3,
                    3,
                    3,
                    2,
                    2,
                    3,
                    2,
                    3,
                    1,
                    3,
                    3,
                    3,
                    1,
                    3,
                    1,
                    1,
                    3,
                    3,
                    3,
                    3,
                    3,
                    2,
                    3,
                    2,
                    3,
                    3,
                    3,
                    3,
                    1,
                    3,
                    1,
                    1,
                    3,
                    3,
                    3,
                    3,
                    3,
                    3,
                    1,
                    3,
                    2,
                    3,
                    1,
                    3,
                    2,
                    1,
                    3,
                    3,
                    3,
                    2,
                    2,
                    1,
                    3,
                    3,
                    3,
                    1,
                    3,
                    2,
                    1,
                    3,
                    3,
                    2,
                    3,
                    3,
                    1,
                    3,
                    2,
                    3,
                    3,
                    1,
                    3,
                    1,
                    3,
                    3,
                    3,
                    3,
                    2,
                    3,
                    1,
                    3,
                    2,
                    3,
                    3,
                    3,
                    1,
                    3,
                    3,
                    3,
                    1,
                    3,
                    2,
                    1,
                    3,
                    3,
                    3,
                    3,
                    3,
                    2,
                    1,
                    3,
                    3,
                    3,
                    1,
                    2,
                    3,
                    1,
                    1,
                    3,
                    3,
                    3,
                    2,
                    1,
                    3,
                    2,
                    2,
                    2,
                    1,
                    3,
                    3,
                    3,
                    1,
                    1,
                    3,
                    2,
                    3,
                    3,
                    3,
                    3,
                    1,
                    2,
                    3,
                    3,
                    2,
                    3,
                    3,
                    2,
                    1,
                    3,
                    1,
                    3
                  ],
                  "xaxis": "x",
                  "yaxis": "y"
                }
              ],
              "layout": {
                "barmode": "relative",
                "legend": {
                  "tracegroupgap": 0
                },
                "template": {
                  "data": {
                    "bar": [
                      {
                        "error_x": {
                          "color": "#2a3f5f"
                        },
                        "error_y": {
                          "color": "#2a3f5f"
                        },
                        "marker": {
                          "line": {
                            "color": "white",
                            "width": 0.5
                          },
                          "pattern": {
                            "fillmode": "overlay",
                            "size": 10,
                            "solidity": 0.2
                          }
                        },
                        "type": "bar"
                      }
                    ],
                    "barpolar": [
                      {
                        "marker": {
                          "line": {
                            "color": "white",
                            "width": 0.5
                          },
                          "pattern": {
                            "fillmode": "overlay",
                            "size": 10,
                            "solidity": 0.2
                          }
                        },
                        "type": "barpolar"
                      }
                    ],
                    "box": [
                      {
                        "boxpoints": "outliers",
                        "notched": false,
                        "type": "box"
                      }
                    ],
                    "carpet": [
                      {
                        "aaxis": {
                          "endlinecolor": "#2a3f5f",
                          "gridcolor": "#C8D4E3",
                          "linecolor": "#C8D4E3",
                          "minorgridcolor": "#C8D4E3",
                          "startlinecolor": "#2a3f5f"
                        },
                        "baxis": {
                          "endlinecolor": "#2a3f5f",
                          "gridcolor": "#C8D4E3",
                          "linecolor": "#C8D4E3",
                          "minorgridcolor": "#C8D4E3",
                          "startlinecolor": "#2a3f5f"
                        },
                        "type": "carpet"
                      }
                    ],
                    "choropleth": [
                      {
                        "colorbar": {
                          "outlinewidth": 0,
                          "ticks": ""
                        },
                        "type": "choropleth"
                      }
                    ],
                    "contour": [
                      {
                        "colorbar": {
                          "outlinewidth": 0,
                          "ticks": ""
                        },
                        "colorscale": [
                          [
                            0,
                            "#0d0887"
                          ],
                          [
                            0.1111111111111111,
                            "#46039f"
                          ],
                          [
                            0.2222222222222222,
                            "#7201a8"
                          ],
                          [
                            0.3333333333333333,
                            "#9c179e"
                          ],
                          [
                            0.4444444444444444,
                            "#bd3786"
                          ],
                          [
                            0.5555555555555556,
                            "#d8576b"
                          ],
                          [
                            0.6666666666666666,
                            "#ed7953"
                          ],
                          [
                            0.7777777777777778,
                            "#fb9f3a"
                          ],
                          [
                            0.8888888888888888,
                            "#fdca26"
                          ],
                          [
                            1,
                            "#f0f921"
                          ]
                        ],
                        "type": "contour"
                      }
                    ],
                    "contourcarpet": [
                      {
                        "colorbar": {
                          "outlinewidth": 0,
                          "ticks": ""
                        },
                        "type": "contourcarpet"
                      }
                    ],
                    "heatmap": [
                      {
                        "colorbar": {
                          "outlinewidth": 0,
                          "ticks": ""
                        },
                        "colorscale": [
                          [
                            0,
                            "#0d0887"
                          ],
                          [
                            0.1111111111111111,
                            "#46039f"
                          ],
                          [
                            0.2222222222222222,
                            "#7201a8"
                          ],
                          [
                            0.3333333333333333,
                            "#9c179e"
                          ],
                          [
                            0.4444444444444444,
                            "#bd3786"
                          ],
                          [
                            0.5555555555555556,
                            "#d8576b"
                          ],
                          [
                            0.6666666666666666,
                            "#ed7953"
                          ],
                          [
                            0.7777777777777778,
                            "#fb9f3a"
                          ],
                          [
                            0.8888888888888888,
                            "#fdca26"
                          ],
                          [
                            1,
                            "#f0f921"
                          ]
                        ],
                        "type": "heatmap"
                      }
                    ],
                    "heatmapgl": [
                      {
                        "colorbar": {
                          "outlinewidth": 0,
                          "ticks": ""
                        },
                        "colorscale": [
                          [
                            0,
                            "#0d0887"
                          ],
                          [
                            0.1111111111111111,
                            "#46039f"
                          ],
                          [
                            0.2222222222222222,
                            "#7201a8"
                          ],
                          [
                            0.3333333333333333,
                            "#9c179e"
                          ],
                          [
                            0.4444444444444444,
                            "#bd3786"
                          ],
                          [
                            0.5555555555555556,
                            "#d8576b"
                          ],
                          [
                            0.6666666666666666,
                            "#ed7953"
                          ],
                          [
                            0.7777777777777778,
                            "#fb9f3a"
                          ],
                          [
                            0.8888888888888888,
                            "#fdca26"
                          ],
                          [
                            1,
                            "#f0f921"
                          ]
                        ],
                        "type": "heatmapgl"
                      }
                    ],
                    "histogram": [
                      {
                        "marker": {
                          "line": {
                            "width": 1
                          },
                          "pattern": {
                            "fillmode": "overlay",
                            "size": 10,
                            "solidity": 0.2
                          }
                        },
                        "type": "histogram"
                      }
                    ],
                    "histogram2d": [
                      {
                        "colorbar": {
                          "outlinewidth": 0,
                          "ticks": ""
                        },
                        "colorscale": [
                          [
                            0,
                            "#0d0887"
                          ],
                          [
                            0.1111111111111111,
                            "#46039f"
                          ],
                          [
                            0.2222222222222222,
                            "#7201a8"
                          ],
                          [
                            0.3333333333333333,
                            "#9c179e"
                          ],
                          [
                            0.4444444444444444,
                            "#bd3786"
                          ],
                          [
                            0.5555555555555556,
                            "#d8576b"
                          ],
                          [
                            0.6666666666666666,
                            "#ed7953"
                          ],
                          [
                            0.7777777777777778,
                            "#fb9f3a"
                          ],
                          [
                            0.8888888888888888,
                            "#fdca26"
                          ],
                          [
                            1,
                            "#f0f921"
                          ]
                        ],
                        "type": "histogram2d"
                      }
                    ],
                    "histogram2dcontour": [
                      {
                        "colorbar": {
                          "outlinewidth": 0,
                          "ticks": ""
                        },
                        "colorscale": [
                          [
                            0,
                            "#0d0887"
                          ],
                          [
                            0.1111111111111111,
                            "#46039f"
                          ],
                          [
                            0.2222222222222222,
                            "#7201a8"
                          ],
                          [
                            0.3333333333333333,
                            "#9c179e"
                          ],
                          [
                            0.4444444444444444,
                            "#bd3786"
                          ],
                          [
                            0.5555555555555556,
                            "#d8576b"
                          ],
                          [
                            0.6666666666666666,
                            "#ed7953"
                          ],
                          [
                            0.7777777777777778,
                            "#fb9f3a"
                          ],
                          [
                            0.8888888888888888,
                            "#fdca26"
                          ],
                          [
                            1,
                            "#f0f921"
                          ]
                        ],
                        "type": "histogram2dcontour"
                      }
                    ],
                    "mesh3d": [
                      {
                        "colorbar": {
                          "outlinewidth": 0,
                          "ticks": ""
                        },
                        "type": "mesh3d"
                      }
                    ],
                    "parcoords": [
                      {
                        "line": {
                          "colorbar": {
                            "outlinewidth": 0,
                            "ticks": ""
                          }
                        },
                        "type": "parcoords"
                      }
                    ],
                    "pie": [
                      {
                        "automargin": true,
                        "type": "pie"
                      }
                    ],
                    "scatter": [
                      {
                        "marker": {
                          "colorbar": {
                            "outlinewidth": 0,
                            "ticks": ""
                          },
                          "opacity": 0.8
                        },
                        "type": "scatter"
                      }
                    ],
                    "scatter3d": [
                      {
                        "line": {
                          "colorbar": {
                            "outlinewidth": 0,
                            "ticks": ""
                          }
                        },
                        "marker": {
                          "colorbar": {
                            "outlinewidth": 0,
                            "ticks": ""
                          },
                          "opacity": 0.8
                        },
                        "type": "scatter3d"
                      }
                    ],
                    "scattercarpet": [
                      {
                        "marker": {
                          "colorbar": {
                            "outlinewidth": 0,
                            "ticks": ""
                          }
                        },
                        "type": "scattercarpet"
                      }
                    ],
                    "scattergeo": [
                      {
                        "marker": {
                          "colorbar": {
                            "outlinewidth": 0,
                            "ticks": ""
                          }
                        },
                        "type": "scattergeo"
                      }
                    ],
                    "scattergl": [
                      {
                        "marker": {
                          "colorbar": {
                            "outlinewidth": 0,
                            "ticks": ""
                          }
                        },
                        "type": "scattergl"
                      }
                    ],
                    "scattermapbox": [
                      {
                        "marker": {
                          "colorbar": {
                            "outlinewidth": 0,
                            "ticks": ""
                          }
                        },
                        "type": "scattermapbox"
                      }
                    ],
                    "scatterpolar": [
                      {
                        "marker": {
                          "colorbar": {
                            "outlinewidth": 0,
                            "ticks": ""
                          }
                        },
                        "type": "scatterpolar"
                      }
                    ],
                    "scatterpolargl": [
                      {
                        "marker": {
                          "colorbar": {
                            "outlinewidth": 0,
                            "ticks": ""
                          }
                        },
                        "type": "scatterpolargl"
                      }
                    ],
                    "scatterternary": [
                      {
                        "marker": {
                          "colorbar": {
                            "outlinewidth": 0,
                            "ticks": ""
                          }
                        },
                        "type": "scatterternary"
                      }
                    ],
                    "surface": [
                      {
                        "colorbar": {
                          "outlinewidth": 0,
                          "ticks": ""
                        },
                        "colorscale": [
                          [
                            0,
                            "#0d0887"
                          ],
                          [
                            0.1111111111111111,
                            "#46039f"
                          ],
                          [
                            0.2222222222222222,
                            "#7201a8"
                          ],
                          [
                            0.3333333333333333,
                            "#9c179e"
                          ],
                          [
                            0.4444444444444444,
                            "#bd3786"
                          ],
                          [
                            0.5555555555555556,
                            "#d8576b"
                          ],
                          [
                            0.6666666666666666,
                            "#ed7953"
                          ],
                          [
                            0.7777777777777778,
                            "#fb9f3a"
                          ],
                          [
                            0.8888888888888888,
                            "#fdca26"
                          ],
                          [
                            1,
                            "#f0f921"
                          ]
                        ],
                        "type": "surface"
                      }
                    ],
                    "table": [
                      {
                        "cells": {
                          "fill": {
                            "color": "#EBF0F8"
                          },
                          "line": {
                            "color": "white"
                          }
                        },
                        "header": {
                          "fill": {
                            "color": "#C8D4E3"
                          },
                          "line": {
                            "color": "white"
                          }
                        },
                        "type": "table"
                      }
                    ]
                  },
                  "layout": {
                    "annotationdefaults": {
                      "arrowcolor": "#2a3f5f",
                      "arrowhead": 0,
                      "arrowwidth": 1
                    },
                    "autotypenumbers": "strict",
                    "coloraxis": {
                      "colorbar": {
                        "outlinewidth": 0,
                        "ticks": ""
                      }
                    },
                    "colorscale": {
                      "diverging": [
                        [
                          0,
                          "#8e0152"
                        ],
                        [
                          0.1,
                          "#c51b7d"
                        ],
                        [
                          0.2,
                          "#de77ae"
                        ],
                        [
                          0.3,
                          "#f1b6da"
                        ],
                        [
                          0.4,
                          "#fde0ef"
                        ],
                        [
                          0.5,
                          "#f7f7f7"
                        ],
                        [
                          0.6,
                          "#e6f5d0"
                        ],
                        [
                          0.7,
                          "#b8e186"
                        ],
                        [
                          0.8,
                          "#7fbc41"
                        ],
                        [
                          0.9,
                          "#4d9221"
                        ],
                        [
                          1,
                          "#276419"
                        ]
                      ],
                      "sequential": [
                        [
                          0,
                          "#0d0887"
                        ],
                        [
                          0.1111111111111111,
                          "#46039f"
                        ],
                        [
                          0.2222222222222222,
                          "#7201a8"
                        ],
                        [
                          0.3333333333333333,
                          "#9c179e"
                        ],
                        [
                          0.4444444444444444,
                          "#bd3786"
                        ],
                        [
                          0.5555555555555556,
                          "#d8576b"
                        ],
                        [
                          0.6666666666666666,
                          "#ed7953"
                        ],
                        [
                          0.7777777777777778,
                          "#fb9f3a"
                        ],
                        [
                          0.8888888888888888,
                          "#fdca26"
                        ],
                        [
                          1,
                          "#f0f921"
                        ]
                      ],
                      "sequentialminus": [
                        [
                          0,
                          "#0d0887"
                        ],
                        [
                          0.1111111111111111,
                          "#46039f"
                        ],
                        [
                          0.2222222222222222,
                          "#7201a8"
                        ],
                        [
                          0.3333333333333333,
                          "#9c179e"
                        ],
                        [
                          0.4444444444444444,
                          "#bd3786"
                        ],
                        [
                          0.5555555555555556,
                          "#d8576b"
                        ],
                        [
                          0.6666666666666666,
                          "#ed7953"
                        ],
                        [
                          0.7777777777777778,
                          "#fb9f3a"
                        ],
                        [
                          0.8888888888888888,
                          "#fdca26"
                        ],
                        [
                          1,
                          "#f0f921"
                        ]
                      ]
                    },
                    "colorway": [
                      "#636efa",
                      "#EF553B",
                      "#00cc96",
                      "#ab63fa",
                      "#FFA15A",
                      "#19d3f3",
                      "#FF6692",
                      "#B6E880",
                      "#FF97FF",
                      "#FECB52"
                    ],
                    "font": {
                      "color": "#2a3f5f"
                    },
                    "geo": {
                      "bgcolor": "white",
                      "lakecolor": "white",
                      "landcolor": "white",
                      "showlakes": true,
                      "showland": true,
                      "subunitcolor": "#C8D4E3"
                    },
                    "height": 400,
                    "hoverlabel": {
                      "align": "left"
                    },
                    "hovermode": "closest",
                    "mapbox": {
                      "style": "light"
                    },
                    "margin": {
                      "b": 2,
                      "l": 2,
                      "r": 2,
                      "t": 30
                    },
                    "paper_bgcolor": "white",
                    "plot_bgcolor": "white",
                    "polar": {
                      "angularaxis": {
                        "gridcolor": "#EBF0F8",
                        "linecolor": "#EBF0F8",
                        "ticks": ""
                      },
                      "bgcolor": "white",
                      "radialaxis": {
                        "gridcolor": "#EBF0F8",
                        "linecolor": "#EBF0F8",
                        "ticks": ""
                      }
                    },
                    "scene": {
                      "camera": {
                        "eye": {
                          "x": 1.5,
                          "y": 1.5,
                          "z": 0.1
                        }
                      },
                      "xaxis": {
                        "backgroundcolor": "white",
                        "gridcolor": "#DFE8F3",
                        "gridwidth": 2,
                        "linecolor": "#EBF0F8",
                        "showbackground": true,
                        "ticks": "",
                        "zerolinecolor": "#EBF0F8"
                      },
                      "yaxis": {
                        "backgroundcolor": "white",
                        "gridcolor": "#DFE8F3",
                        "gridwidth": 2,
                        "linecolor": "#EBF0F8",
                        "showbackground": true,
                        "ticks": "",
                        "zerolinecolor": "#EBF0F8"
                      },
                      "zaxis": {
                        "backgroundcolor": "white",
                        "gridcolor": "#DFE8F3",
                        "gridwidth": 2,
                        "linecolor": "#EBF0F8",
                        "showbackground": true,
                        "ticks": "",
                        "zerolinecolor": "#EBF0F8"
                      }
                    },
                    "shapedefaults": {
                      "line": {
                        "color": "#2a3f5f"
                      }
                    },
                    "ternary": {
                      "aaxis": {
                        "gridcolor": "#DFE8F3",
                        "linecolor": "#A2B1C6",
                        "ticks": ""
                      },
                      "baxis": {
                        "gridcolor": "#DFE8F3",
                        "linecolor": "#A2B1C6",
                        "ticks": ""
                      },
                      "bgcolor": "white",
                      "caxis": {
                        "gridcolor": "#DFE8F3",
                        "linecolor": "#A2B1C6",
                        "ticks": ""
                      }
                    },
                    "title": {
                      "x": 0.5
                    },
                    "xaxis": {
                      "automargin": true,
                      "gridcolor": "#EBF0F8",
                      "linecolor": "#EBF0F8",
                      "linewidth": 2,
                      "showline": true,
                      "ticks": "",
                      "title": {
                        "standoff": 15
                      },
                      "zerolinecolor": "#EBF0F8",
                      "zerolinewidth": 2
                    },
                    "yaxis": {
                      "automargin": true,
                      "gridcolor": "#EBF0F8",
                      "linecolor": "#EBF0F8",
                      "linewidth": 2,
                      "showline": true,
                      "ticks": "",
                      "title": {
                        "standoff": 15
                      },
                      "zerolinecolor": "#EBF0F8",
                      "zerolinewidth": 2
                    }
                  }
                },
                "title": {
                  "text": "Ticket Class (All Passengers)"
                },
                "xaxis": {
                  "anchor": "y",
                  "domain": [
                    0,
                    1
                  ],
                  "title": {
                    "text": "Pclass"
                  }
                },
                "yaxis": {
                  "anchor": "x",
                  "domain": [
                    0,
                    1
                  ],
                  "title": {
                    "text": "count"
                  }
                }
              }
            }
          },
          "metadata": {}
        },
        {
          "output_type": "display_data",
          "data": {
            "application/vnd.plotly.v1+json": {
              "config": {
                "plotlyServerURL": "https://plot.ly"
              },
              "data": [
                {
                  "alignmentgroup": "True",
                  "bingroup": "x",
                  "hovertemplate": "Pclass=%{x}<br>count=%{y}<extra></extra>",
                  "legendgroup": "",
                  "marker": {
                    "color": "#636efa",
                    "pattern": {
                      "shape": ""
                    }
                  },
                  "name": "",
                  "offsetgroup": "",
                  "orientation": "v",
                  "showlegend": false,
                  "type": "histogram",
                  "x": [
                    3,
                    2,
                    3,
                    3,
                    3,
                    3,
                    3,
                    3,
                    3,
                    3,
                    3,
                    3,
                    3,
                    1,
                    3,
                    3,
                    3,
                    3,
                    3,
                    3,
                    3,
                    3,
                    3,
                    3,
                    3,
                    3,
                    3,
                    3,
                    3,
                    1,
                    3,
                    3,
                    2,
                    3,
                    3,
                    3,
                    3,
                    3,
                    3,
                    3,
                    3,
                    3,
                    3,
                    3,
                    1,
                    3,
                    3,
                    1,
                    3,
                    2,
                    1,
                    3,
                    3,
                    3,
                    1,
                    3,
                    3,
                    1,
                    3,
                    3,
                    3,
                    3,
                    3,
                    3,
                    3,
                    3,
                    1,
                    3,
                    3,
                    3,
                    3,
                    3,
                    2,
                    3,
                    3,
                    3,
                    3,
                    3,
                    3,
                    3,
                    3,
                    3,
                    3,
                    2,
                    3,
                    3,
                    2,
                    3,
                    3,
                    3,
                    3,
                    3,
                    1,
                    3,
                    3,
                    3,
                    3,
                    3,
                    3,
                    3,
                    2,
                    3,
                    1,
                    3,
                    3,
                    3,
                    3,
                    3,
                    3,
                    3,
                    3,
                    3,
                    2,
                    3,
                    3,
                    1,
                    3,
                    3,
                    3,
                    3,
                    1,
                    3,
                    3,
                    3,
                    3,
                    3,
                    3,
                    3,
                    2,
                    3,
                    3,
                    3,
                    3,
                    3,
                    3,
                    2,
                    3,
                    3,
                    3,
                    1,
                    3,
                    3,
                    3,
                    3,
                    3,
                    3,
                    1,
                    3,
                    3,
                    3,
                    3,
                    3,
                    3,
                    3,
                    3,
                    3,
                    3,
                    3
                  ],
                  "xaxis": "x",
                  "yaxis": "y"
                }
              ],
              "layout": {
                "barmode": "relative",
                "legend": {
                  "tracegroupgap": 0
                },
                "template": {
                  "data": {
                    "bar": [
                      {
                        "error_x": {
                          "color": "#2a3f5f"
                        },
                        "error_y": {
                          "color": "#2a3f5f"
                        },
                        "marker": {
                          "line": {
                            "color": "white",
                            "width": 0.5
                          },
                          "pattern": {
                            "fillmode": "overlay",
                            "size": 10,
                            "solidity": 0.2
                          }
                        },
                        "type": "bar"
                      }
                    ],
                    "barpolar": [
                      {
                        "marker": {
                          "line": {
                            "color": "white",
                            "width": 0.5
                          },
                          "pattern": {
                            "fillmode": "overlay",
                            "size": 10,
                            "solidity": 0.2
                          }
                        },
                        "type": "barpolar"
                      }
                    ],
                    "box": [
                      {
                        "boxpoints": "outliers",
                        "notched": false,
                        "type": "box"
                      }
                    ],
                    "carpet": [
                      {
                        "aaxis": {
                          "endlinecolor": "#2a3f5f",
                          "gridcolor": "#C8D4E3",
                          "linecolor": "#C8D4E3",
                          "minorgridcolor": "#C8D4E3",
                          "startlinecolor": "#2a3f5f"
                        },
                        "baxis": {
                          "endlinecolor": "#2a3f5f",
                          "gridcolor": "#C8D4E3",
                          "linecolor": "#C8D4E3",
                          "minorgridcolor": "#C8D4E3",
                          "startlinecolor": "#2a3f5f"
                        },
                        "type": "carpet"
                      }
                    ],
                    "choropleth": [
                      {
                        "colorbar": {
                          "outlinewidth": 0,
                          "ticks": ""
                        },
                        "type": "choropleth"
                      }
                    ],
                    "contour": [
                      {
                        "colorbar": {
                          "outlinewidth": 0,
                          "ticks": ""
                        },
                        "colorscale": [
                          [
                            0,
                            "#0d0887"
                          ],
                          [
                            0.1111111111111111,
                            "#46039f"
                          ],
                          [
                            0.2222222222222222,
                            "#7201a8"
                          ],
                          [
                            0.3333333333333333,
                            "#9c179e"
                          ],
                          [
                            0.4444444444444444,
                            "#bd3786"
                          ],
                          [
                            0.5555555555555556,
                            "#d8576b"
                          ],
                          [
                            0.6666666666666666,
                            "#ed7953"
                          ],
                          [
                            0.7777777777777778,
                            "#fb9f3a"
                          ],
                          [
                            0.8888888888888888,
                            "#fdca26"
                          ],
                          [
                            1,
                            "#f0f921"
                          ]
                        ],
                        "type": "contour"
                      }
                    ],
                    "contourcarpet": [
                      {
                        "colorbar": {
                          "outlinewidth": 0,
                          "ticks": ""
                        },
                        "type": "contourcarpet"
                      }
                    ],
                    "heatmap": [
                      {
                        "colorbar": {
                          "outlinewidth": 0,
                          "ticks": ""
                        },
                        "colorscale": [
                          [
                            0,
                            "#0d0887"
                          ],
                          [
                            0.1111111111111111,
                            "#46039f"
                          ],
                          [
                            0.2222222222222222,
                            "#7201a8"
                          ],
                          [
                            0.3333333333333333,
                            "#9c179e"
                          ],
                          [
                            0.4444444444444444,
                            "#bd3786"
                          ],
                          [
                            0.5555555555555556,
                            "#d8576b"
                          ],
                          [
                            0.6666666666666666,
                            "#ed7953"
                          ],
                          [
                            0.7777777777777778,
                            "#fb9f3a"
                          ],
                          [
                            0.8888888888888888,
                            "#fdca26"
                          ],
                          [
                            1,
                            "#f0f921"
                          ]
                        ],
                        "type": "heatmap"
                      }
                    ],
                    "heatmapgl": [
                      {
                        "colorbar": {
                          "outlinewidth": 0,
                          "ticks": ""
                        },
                        "colorscale": [
                          [
                            0,
                            "#0d0887"
                          ],
                          [
                            0.1111111111111111,
                            "#46039f"
                          ],
                          [
                            0.2222222222222222,
                            "#7201a8"
                          ],
                          [
                            0.3333333333333333,
                            "#9c179e"
                          ],
                          [
                            0.4444444444444444,
                            "#bd3786"
                          ],
                          [
                            0.5555555555555556,
                            "#d8576b"
                          ],
                          [
                            0.6666666666666666,
                            "#ed7953"
                          ],
                          [
                            0.7777777777777778,
                            "#fb9f3a"
                          ],
                          [
                            0.8888888888888888,
                            "#fdca26"
                          ],
                          [
                            1,
                            "#f0f921"
                          ]
                        ],
                        "type": "heatmapgl"
                      }
                    ],
                    "histogram": [
                      {
                        "marker": {
                          "line": {
                            "width": 1
                          },
                          "pattern": {
                            "fillmode": "overlay",
                            "size": 10,
                            "solidity": 0.2
                          }
                        },
                        "type": "histogram"
                      }
                    ],
                    "histogram2d": [
                      {
                        "colorbar": {
                          "outlinewidth": 0,
                          "ticks": ""
                        },
                        "colorscale": [
                          [
                            0,
                            "#0d0887"
                          ],
                          [
                            0.1111111111111111,
                            "#46039f"
                          ],
                          [
                            0.2222222222222222,
                            "#7201a8"
                          ],
                          [
                            0.3333333333333333,
                            "#9c179e"
                          ],
                          [
                            0.4444444444444444,
                            "#bd3786"
                          ],
                          [
                            0.5555555555555556,
                            "#d8576b"
                          ],
                          [
                            0.6666666666666666,
                            "#ed7953"
                          ],
                          [
                            0.7777777777777778,
                            "#fb9f3a"
                          ],
                          [
                            0.8888888888888888,
                            "#fdca26"
                          ],
                          [
                            1,
                            "#f0f921"
                          ]
                        ],
                        "type": "histogram2d"
                      }
                    ],
                    "histogram2dcontour": [
                      {
                        "colorbar": {
                          "outlinewidth": 0,
                          "ticks": ""
                        },
                        "colorscale": [
                          [
                            0,
                            "#0d0887"
                          ],
                          [
                            0.1111111111111111,
                            "#46039f"
                          ],
                          [
                            0.2222222222222222,
                            "#7201a8"
                          ],
                          [
                            0.3333333333333333,
                            "#9c179e"
                          ],
                          [
                            0.4444444444444444,
                            "#bd3786"
                          ],
                          [
                            0.5555555555555556,
                            "#d8576b"
                          ],
                          [
                            0.6666666666666666,
                            "#ed7953"
                          ],
                          [
                            0.7777777777777778,
                            "#fb9f3a"
                          ],
                          [
                            0.8888888888888888,
                            "#fdca26"
                          ],
                          [
                            1,
                            "#f0f921"
                          ]
                        ],
                        "type": "histogram2dcontour"
                      }
                    ],
                    "mesh3d": [
                      {
                        "colorbar": {
                          "outlinewidth": 0,
                          "ticks": ""
                        },
                        "type": "mesh3d"
                      }
                    ],
                    "parcoords": [
                      {
                        "line": {
                          "colorbar": {
                            "outlinewidth": 0,
                            "ticks": ""
                          }
                        },
                        "type": "parcoords"
                      }
                    ],
                    "pie": [
                      {
                        "automargin": true,
                        "type": "pie"
                      }
                    ],
                    "scatter": [
                      {
                        "marker": {
                          "colorbar": {
                            "outlinewidth": 0,
                            "ticks": ""
                          },
                          "opacity": 0.8
                        },
                        "type": "scatter"
                      }
                    ],
                    "scatter3d": [
                      {
                        "line": {
                          "colorbar": {
                            "outlinewidth": 0,
                            "ticks": ""
                          }
                        },
                        "marker": {
                          "colorbar": {
                            "outlinewidth": 0,
                            "ticks": ""
                          },
                          "opacity": 0.8
                        },
                        "type": "scatter3d"
                      }
                    ],
                    "scattercarpet": [
                      {
                        "marker": {
                          "colorbar": {
                            "outlinewidth": 0,
                            "ticks": ""
                          }
                        },
                        "type": "scattercarpet"
                      }
                    ],
                    "scattergeo": [
                      {
                        "marker": {
                          "colorbar": {
                            "outlinewidth": 0,
                            "ticks": ""
                          }
                        },
                        "type": "scattergeo"
                      }
                    ],
                    "scattergl": [
                      {
                        "marker": {
                          "colorbar": {
                            "outlinewidth": 0,
                            "ticks": ""
                          }
                        },
                        "type": "scattergl"
                      }
                    ],
                    "scattermapbox": [
                      {
                        "marker": {
                          "colorbar": {
                            "outlinewidth": 0,
                            "ticks": ""
                          }
                        },
                        "type": "scattermapbox"
                      }
                    ],
                    "scatterpolar": [
                      {
                        "marker": {
                          "colorbar": {
                            "outlinewidth": 0,
                            "ticks": ""
                          }
                        },
                        "type": "scatterpolar"
                      }
                    ],
                    "scatterpolargl": [
                      {
                        "marker": {
                          "colorbar": {
                            "outlinewidth": 0,
                            "ticks": ""
                          }
                        },
                        "type": "scatterpolargl"
                      }
                    ],
                    "scatterternary": [
                      {
                        "marker": {
                          "colorbar": {
                            "outlinewidth": 0,
                            "ticks": ""
                          }
                        },
                        "type": "scatterternary"
                      }
                    ],
                    "surface": [
                      {
                        "colorbar": {
                          "outlinewidth": 0,
                          "ticks": ""
                        },
                        "colorscale": [
                          [
                            0,
                            "#0d0887"
                          ],
                          [
                            0.1111111111111111,
                            "#46039f"
                          ],
                          [
                            0.2222222222222222,
                            "#7201a8"
                          ],
                          [
                            0.3333333333333333,
                            "#9c179e"
                          ],
                          [
                            0.4444444444444444,
                            "#bd3786"
                          ],
                          [
                            0.5555555555555556,
                            "#d8576b"
                          ],
                          [
                            0.6666666666666666,
                            "#ed7953"
                          ],
                          [
                            0.7777777777777778,
                            "#fb9f3a"
                          ],
                          [
                            0.8888888888888888,
                            "#fdca26"
                          ],
                          [
                            1,
                            "#f0f921"
                          ]
                        ],
                        "type": "surface"
                      }
                    ],
                    "table": [
                      {
                        "cells": {
                          "fill": {
                            "color": "#EBF0F8"
                          },
                          "line": {
                            "color": "white"
                          }
                        },
                        "header": {
                          "fill": {
                            "color": "#C8D4E3"
                          },
                          "line": {
                            "color": "white"
                          }
                        },
                        "type": "table"
                      }
                    ]
                  },
                  "layout": {
                    "annotationdefaults": {
                      "arrowcolor": "#2a3f5f",
                      "arrowhead": 0,
                      "arrowwidth": 1
                    },
                    "autotypenumbers": "strict",
                    "coloraxis": {
                      "colorbar": {
                        "outlinewidth": 0,
                        "ticks": ""
                      }
                    },
                    "colorscale": {
                      "diverging": [
                        [
                          0,
                          "#8e0152"
                        ],
                        [
                          0.1,
                          "#c51b7d"
                        ],
                        [
                          0.2,
                          "#de77ae"
                        ],
                        [
                          0.3,
                          "#f1b6da"
                        ],
                        [
                          0.4,
                          "#fde0ef"
                        ],
                        [
                          0.5,
                          "#f7f7f7"
                        ],
                        [
                          0.6,
                          "#e6f5d0"
                        ],
                        [
                          0.7,
                          "#b8e186"
                        ],
                        [
                          0.8,
                          "#7fbc41"
                        ],
                        [
                          0.9,
                          "#4d9221"
                        ],
                        [
                          1,
                          "#276419"
                        ]
                      ],
                      "sequential": [
                        [
                          0,
                          "#0d0887"
                        ],
                        [
                          0.1111111111111111,
                          "#46039f"
                        ],
                        [
                          0.2222222222222222,
                          "#7201a8"
                        ],
                        [
                          0.3333333333333333,
                          "#9c179e"
                        ],
                        [
                          0.4444444444444444,
                          "#bd3786"
                        ],
                        [
                          0.5555555555555556,
                          "#d8576b"
                        ],
                        [
                          0.6666666666666666,
                          "#ed7953"
                        ],
                        [
                          0.7777777777777778,
                          "#fb9f3a"
                        ],
                        [
                          0.8888888888888888,
                          "#fdca26"
                        ],
                        [
                          1,
                          "#f0f921"
                        ]
                      ],
                      "sequentialminus": [
                        [
                          0,
                          "#0d0887"
                        ],
                        [
                          0.1111111111111111,
                          "#46039f"
                        ],
                        [
                          0.2222222222222222,
                          "#7201a8"
                        ],
                        [
                          0.3333333333333333,
                          "#9c179e"
                        ],
                        [
                          0.4444444444444444,
                          "#bd3786"
                        ],
                        [
                          0.5555555555555556,
                          "#d8576b"
                        ],
                        [
                          0.6666666666666666,
                          "#ed7953"
                        ],
                        [
                          0.7777777777777778,
                          "#fb9f3a"
                        ],
                        [
                          0.8888888888888888,
                          "#fdca26"
                        ],
                        [
                          1,
                          "#f0f921"
                        ]
                      ]
                    },
                    "colorway": [
                      "#636efa",
                      "#EF553B",
                      "#00cc96",
                      "#ab63fa",
                      "#FFA15A",
                      "#19d3f3",
                      "#FF6692",
                      "#B6E880",
                      "#FF97FF",
                      "#FECB52"
                    ],
                    "font": {
                      "color": "#2a3f5f"
                    },
                    "geo": {
                      "bgcolor": "white",
                      "lakecolor": "white",
                      "landcolor": "white",
                      "showlakes": true,
                      "showland": true,
                      "subunitcolor": "#C8D4E3"
                    },
                    "height": 400,
                    "hoverlabel": {
                      "align": "left"
                    },
                    "hovermode": "closest",
                    "mapbox": {
                      "style": "light"
                    },
                    "margin": {
                      "b": 2,
                      "l": 2,
                      "r": 2,
                      "t": 30
                    },
                    "paper_bgcolor": "white",
                    "plot_bgcolor": "white",
                    "polar": {
                      "angularaxis": {
                        "gridcolor": "#EBF0F8",
                        "linecolor": "#EBF0F8",
                        "ticks": ""
                      },
                      "bgcolor": "white",
                      "radialaxis": {
                        "gridcolor": "#EBF0F8",
                        "linecolor": "#EBF0F8",
                        "ticks": ""
                      }
                    },
                    "scene": {
                      "camera": {
                        "eye": {
                          "x": 1.5,
                          "y": 1.5,
                          "z": 0.1
                        }
                      },
                      "xaxis": {
                        "backgroundcolor": "white",
                        "gridcolor": "#DFE8F3",
                        "gridwidth": 2,
                        "linecolor": "#EBF0F8",
                        "showbackground": true,
                        "ticks": "",
                        "zerolinecolor": "#EBF0F8"
                      },
                      "yaxis": {
                        "backgroundcolor": "white",
                        "gridcolor": "#DFE8F3",
                        "gridwidth": 2,
                        "linecolor": "#EBF0F8",
                        "showbackground": true,
                        "ticks": "",
                        "zerolinecolor": "#EBF0F8"
                      },
                      "zaxis": {
                        "backgroundcolor": "white",
                        "gridcolor": "#DFE8F3",
                        "gridwidth": 2,
                        "linecolor": "#EBF0F8",
                        "showbackground": true,
                        "ticks": "",
                        "zerolinecolor": "#EBF0F8"
                      }
                    },
                    "shapedefaults": {
                      "line": {
                        "color": "#2a3f5f"
                      }
                    },
                    "ternary": {
                      "aaxis": {
                        "gridcolor": "#DFE8F3",
                        "linecolor": "#A2B1C6",
                        "ticks": ""
                      },
                      "baxis": {
                        "gridcolor": "#DFE8F3",
                        "linecolor": "#A2B1C6",
                        "ticks": ""
                      },
                      "bgcolor": "white",
                      "caxis": {
                        "gridcolor": "#DFE8F3",
                        "linecolor": "#A2B1C6",
                        "ticks": ""
                      }
                    },
                    "title": {
                      "x": 0.5
                    },
                    "xaxis": {
                      "automargin": true,
                      "gridcolor": "#EBF0F8",
                      "linecolor": "#EBF0F8",
                      "linewidth": 2,
                      "showline": true,
                      "ticks": "",
                      "title": {
                        "standoff": 15
                      },
                      "zerolinecolor": "#EBF0F8",
                      "zerolinewidth": 2
                    },
                    "yaxis": {
                      "automargin": true,
                      "gridcolor": "#EBF0F8",
                      "linecolor": "#EBF0F8",
                      "linewidth": 2,
                      "showline": true,
                      "ticks": "",
                      "title": {
                        "standoff": 15
                      },
                      "zerolinecolor": "#EBF0F8",
                      "zerolinewidth": 2
                    }
                  }
                },
                "title": {
                  "text": "Ticket Class (Passengers Missing Cabin and Age Information)"
                },
                "xaxis": {
                  "anchor": "y",
                  "domain": [
                    0,
                    1
                  ],
                  "title": {
                    "text": "Pclass"
                  }
                },
                "yaxis": {
                  "anchor": "x",
                  "domain": [
                    0,
                    1
                  ],
                  "title": {
                    "text": "count"
                  }
                }
              }
            }
          },
          "metadata": {}
        }
      ],
      "metadata": {}
    },
    {
      "cell_type": "markdown",
      "source": [
        "It seems that those missing information typically were passengers with cheaper tickets. These sorts of biases might cause problems in real-world analyses.\n",
        "\n",
        "## Missing as Zero\n",
        "\n",
        "Another issue to watch for is that some datasets may have missing values appearing as zero. While the Titanic dataset doesn't have this problem, let's see what would have happened had this been the case \n"
      ],
      "metadata": {}
    },
    {
      "cell_type": "code",
      "execution_count": 8,
      "source": [
        "import numpy as np\n",
        "\n",
        "# Print out the average age of passengers we have age data for\n",
        "mean_age = np.mean(dataset.Age)\n",
        "print(\"The average age on the ship was\", mean_age, \"years old\")\n",
        "\n",
        "# Now make another model where missing ages contained a 0\n",
        "dataset['Age_2'] = dataset['Age'].fillna(0)\n",
        "mean_age = np.mean(dataset.Age_2)\n",
        "print(\"The average age on the ship was\", mean_age, \"years old\")"
      ],
      "outputs": [
        {
          "output_type": "stream",
          "name": "stdout",
          "text": [
            "The average age on the ship was 29.69911764705882 years old\n",
            "The average age on the ship was 23.79929292929293 years old\n"
          ]
        }
      ],
      "metadata": {}
    },
    {
      "cell_type": "markdown",
      "source": [
        "What has happened here? Our analyses have considered the values of `0` to not be 'missing' but rather to be actual ages.\n",
        "\n",
        "This goes to show that it can be important to time looking at your raw data before running analyses. Another fast way to get a feel for a dataset is to graph how it's distributed:"
      ],
      "metadata": {}
    },
    {
      "cell_type": "code",
      "execution_count": 9,
      "source": [
        "graphing.histogram(dataset, label_x=\"Age_2\")"
      ],
      "outputs": [
        {
          "output_type": "display_data",
          "data": {
            "application/vnd.plotly.v1+json": {
              "config": {
                "plotlyServerURL": "https://plot.ly"
              },
              "data": [
                {
                  "alignmentgroup": "True",
                  "bingroup": "x",
                  "hovertemplate": "Age 2=%{x}<br>count=%{y}<extra></extra>",
                  "legendgroup": "",
                  "marker": {
                    "color": "#636efa",
                    "pattern": {
                      "shape": ""
                    }
                  },
                  "name": "",
                  "offsetgroup": "",
                  "orientation": "v",
                  "showlegend": false,
                  "type": "histogram",
                  "x": [
                    22,
                    38,
                    26,
                    35,
                    35,
                    0,
                    54,
                    2,
                    27,
                    14,
                    4,
                    58,
                    20,
                    39,
                    14,
                    55,
                    2,
                    0,
                    31,
                    0,
                    35,
                    34,
                    15,
                    28,
                    8,
                    38,
                    0,
                    19,
                    0,
                    0,
                    40,
                    0,
                    0,
                    66,
                    28,
                    42,
                    0,
                    21,
                    18,
                    14,
                    40,
                    27,
                    0,
                    3,
                    19,
                    0,
                    0,
                    0,
                    0,
                    18,
                    7,
                    21,
                    49,
                    29,
                    65,
                    0,
                    21,
                    28.5,
                    5,
                    11,
                    22,
                    38,
                    45,
                    4,
                    0,
                    0,
                    29,
                    19,
                    17,
                    26,
                    32,
                    16,
                    21,
                    26,
                    32,
                    25,
                    0,
                    0,
                    0.83,
                    30,
                    22,
                    29,
                    0,
                    28,
                    17,
                    33,
                    16,
                    0,
                    23,
                    24,
                    29,
                    20,
                    46,
                    26,
                    59,
                    0,
                    71,
                    23,
                    34,
                    34,
                    28,
                    0,
                    21,
                    33,
                    37,
                    28,
                    21,
                    0,
                    38,
                    0,
                    47,
                    14.5,
                    22,
                    20,
                    17,
                    21,
                    70.5,
                    29,
                    24,
                    2,
                    21,
                    0,
                    32.5,
                    32.5,
                    54,
                    12,
                    0,
                    24,
                    0,
                    45,
                    33,
                    20,
                    47,
                    29,
                    25,
                    23,
                    19,
                    37,
                    16,
                    24,
                    0,
                    22,
                    24,
                    19,
                    18,
                    19,
                    27,
                    9,
                    36.5,
                    42,
                    51,
                    22,
                    55.5,
                    40.5,
                    0,
                    51,
                    16,
                    30,
                    0,
                    0,
                    44,
                    40,
                    26,
                    17,
                    1,
                    9,
                    0,
                    45,
                    0,
                    28,
                    61,
                    4,
                    1,
                    21,
                    56,
                    18,
                    0,
                    50,
                    30,
                    36,
                    0,
                    0,
                    9,
                    1,
                    4,
                    0,
                    0,
                    45,
                    40,
                    36,
                    32,
                    19,
                    19,
                    3,
                    44,
                    58,
                    0,
                    42,
                    0,
                    24,
                    28,
                    0,
                    34,
                    45.5,
                    18,
                    2,
                    32,
                    26,
                    16,
                    40,
                    24,
                    35,
                    22,
                    30,
                    0,
                    31,
                    27,
                    42,
                    32,
                    30,
                    16,
                    27,
                    51,
                    0,
                    38,
                    22,
                    19,
                    20.5,
                    18,
                    0,
                    35,
                    29,
                    59,
                    5,
                    24,
                    0,
                    44,
                    8,
                    19,
                    33,
                    0,
                    0,
                    29,
                    22,
                    30,
                    44,
                    25,
                    24,
                    37,
                    54,
                    0,
                    29,
                    62,
                    30,
                    41,
                    29,
                    0,
                    30,
                    35,
                    50,
                    0,
                    3,
                    52,
                    40,
                    0,
                    36,
                    16,
                    25,
                    58,
                    35,
                    0,
                    25,
                    41,
                    37,
                    0,
                    63,
                    45,
                    0,
                    7,
                    35,
                    65,
                    28,
                    16,
                    19,
                    0,
                    33,
                    30,
                    22,
                    42,
                    22,
                    26,
                    19,
                    36,
                    24,
                    24,
                    0,
                    23.5,
                    2,
                    0,
                    50,
                    0,
                    0,
                    19,
                    0,
                    0,
                    0.92,
                    0,
                    17,
                    30,
                    30,
                    24,
                    18,
                    26,
                    28,
                    43,
                    26,
                    24,
                    54,
                    31,
                    40,
                    22,
                    27,
                    30,
                    22,
                    0,
                    36,
                    61,
                    36,
                    31,
                    16,
                    0,
                    45.5,
                    38,
                    16,
                    0,
                    0,
                    29,
                    41,
                    45,
                    45,
                    2,
                    24,
                    28,
                    25,
                    36,
                    24,
                    40,
                    0,
                    3,
                    42,
                    23,
                    0,
                    15,
                    25,
                    0,
                    28,
                    22,
                    38,
                    0,
                    0,
                    40,
                    29,
                    45,
                    35,
                    0,
                    30,
                    60,
                    0,
                    0,
                    24,
                    25,
                    18,
                    19,
                    22,
                    3,
                    0,
                    22,
                    27,
                    20,
                    19,
                    42,
                    1,
                    32,
                    35,
                    0,
                    18,
                    1,
                    36,
                    0,
                    17,
                    36,
                    21,
                    28,
                    23,
                    24,
                    22,
                    31,
                    46,
                    23,
                    28,
                    39,
                    26,
                    21,
                    28,
                    20,
                    34,
                    51,
                    3,
                    21,
                    0,
                    0,
                    0,
                    33,
                    0,
                    44,
                    0,
                    34,
                    18,
                    30,
                    10,
                    0,
                    21,
                    29,
                    28,
                    18,
                    0,
                    28,
                    19,
                    0,
                    32,
                    28,
                    0,
                    42,
                    17,
                    50,
                    14,
                    21,
                    24,
                    64,
                    31,
                    45,
                    20,
                    25,
                    28,
                    0,
                    4,
                    13,
                    34,
                    5,
                    52,
                    36,
                    0,
                    30,
                    49,
                    0,
                    29,
                    65,
                    0,
                    50,
                    0,
                    48,
                    34,
                    47,
                    48,
                    0,
                    38,
                    0,
                    56,
                    0,
                    0.75,
                    0,
                    38,
                    33,
                    23,
                    22,
                    0,
                    34,
                    29,
                    22,
                    2,
                    9,
                    0,
                    50,
                    63,
                    25,
                    0,
                    35,
                    58,
                    30,
                    9,
                    0,
                    21,
                    55,
                    71,
                    21,
                    0,
                    54,
                    0,
                    25,
                    24,
                    17,
                    21,
                    0,
                    37,
                    16,
                    18,
                    33,
                    0,
                    28,
                    26,
                    29,
                    0,
                    36,
                    54,
                    24,
                    47,
                    34,
                    0,
                    36,
                    32,
                    30,
                    22,
                    0,
                    44,
                    0,
                    40.5,
                    50,
                    0,
                    39,
                    23,
                    2,
                    0,
                    17,
                    0,
                    30,
                    7,
                    45,
                    30,
                    0,
                    22,
                    36,
                    9,
                    11,
                    32,
                    50,
                    64,
                    19,
                    0,
                    33,
                    8,
                    17,
                    27,
                    0,
                    22,
                    22,
                    62,
                    48,
                    0,
                    39,
                    36,
                    0,
                    40,
                    28,
                    0,
                    0,
                    24,
                    19,
                    29,
                    0,
                    32,
                    62,
                    53,
                    36,
                    0,
                    16,
                    19,
                    34,
                    39,
                    0,
                    32,
                    25,
                    39,
                    54,
                    36,
                    0,
                    18,
                    47,
                    60,
                    22,
                    0,
                    35,
                    52,
                    47,
                    0,
                    37,
                    36,
                    0,
                    49,
                    0,
                    49,
                    24,
                    0,
                    0,
                    44,
                    35,
                    36,
                    30,
                    27,
                    22,
                    40,
                    39,
                    0,
                    0,
                    0,
                    35,
                    24,
                    34,
                    26,
                    4,
                    26,
                    27,
                    42,
                    20,
                    21,
                    21,
                    61,
                    57,
                    21,
                    26,
                    0,
                    80,
                    51,
                    32,
                    0,
                    9,
                    28,
                    32,
                    31,
                    41,
                    0,
                    20,
                    24,
                    2,
                    0,
                    0.75,
                    48,
                    19,
                    56,
                    0,
                    23,
                    0,
                    18,
                    21,
                    0,
                    18,
                    24,
                    0,
                    32,
                    23,
                    58,
                    50,
                    40,
                    47,
                    36,
                    20,
                    32,
                    25,
                    0,
                    43,
                    0,
                    40,
                    31,
                    70,
                    31,
                    0,
                    18,
                    24.5,
                    18,
                    43,
                    36,
                    0,
                    27,
                    20,
                    14,
                    60,
                    25,
                    14,
                    19,
                    18,
                    15,
                    31,
                    4,
                    0,
                    25,
                    60,
                    52,
                    44,
                    0,
                    49,
                    42,
                    18,
                    35,
                    18,
                    25,
                    26,
                    39,
                    45,
                    42,
                    22,
                    0,
                    24,
                    0,
                    48,
                    29,
                    52,
                    19,
                    38,
                    27,
                    0,
                    33,
                    6,
                    17,
                    34,
                    50,
                    27,
                    20,
                    30,
                    0,
                    25,
                    25,
                    29,
                    11,
                    0,
                    23,
                    23,
                    28.5,
                    48,
                    35,
                    0,
                    0,
                    0,
                    36,
                    21,
                    24,
                    31,
                    70,
                    16,
                    30,
                    19,
                    31,
                    4,
                    6,
                    33,
                    23,
                    48,
                    0.67,
                    28,
                    18,
                    34,
                    33,
                    0,
                    41,
                    20,
                    36,
                    16,
                    51,
                    0,
                    30.5,
                    0,
                    32,
                    24,
                    48,
                    57,
                    0,
                    54,
                    18,
                    0,
                    5,
                    0,
                    43,
                    13,
                    17,
                    29,
                    0,
                    25,
                    25,
                    18,
                    8,
                    1,
                    46,
                    0,
                    16,
                    0,
                    0,
                    25,
                    39,
                    49,
                    31,
                    30,
                    30,
                    34,
                    31,
                    11,
                    0.42,
                    27,
                    31,
                    39,
                    18,
                    39,
                    33,
                    26,
                    39,
                    35,
                    6,
                    30.5,
                    0,
                    23,
                    31,
                    43,
                    10,
                    52,
                    27,
                    38,
                    27,
                    2,
                    0,
                    0,
                    1,
                    0,
                    62,
                    15,
                    0.83,
                    0,
                    23,
                    18,
                    39,
                    21,
                    0,
                    32,
                    0,
                    20,
                    16,
                    30,
                    34.5,
                    17,
                    42,
                    0,
                    35,
                    28,
                    0,
                    4,
                    74,
                    9,
                    16,
                    44,
                    18,
                    45,
                    51,
                    24,
                    0,
                    41,
                    21,
                    48,
                    0,
                    24,
                    42,
                    27,
                    31,
                    0,
                    4,
                    26,
                    47,
                    33,
                    47,
                    28,
                    15,
                    20,
                    19,
                    0,
                    56,
                    25,
                    33,
                    22,
                    28,
                    25,
                    39,
                    27,
                    19,
                    0,
                    26,
                    32
                  ],
                  "xaxis": "x",
                  "yaxis": "y"
                }
              ],
              "layout": {
                "barmode": "relative",
                "legend": {
                  "tracegroupgap": 0
                },
                "template": {
                  "data": {
                    "bar": [
                      {
                        "error_x": {
                          "color": "#2a3f5f"
                        },
                        "error_y": {
                          "color": "#2a3f5f"
                        },
                        "marker": {
                          "line": {
                            "color": "white",
                            "width": 0.5
                          },
                          "pattern": {
                            "fillmode": "overlay",
                            "size": 10,
                            "solidity": 0.2
                          }
                        },
                        "type": "bar"
                      }
                    ],
                    "barpolar": [
                      {
                        "marker": {
                          "line": {
                            "color": "white",
                            "width": 0.5
                          },
                          "pattern": {
                            "fillmode": "overlay",
                            "size": 10,
                            "solidity": 0.2
                          }
                        },
                        "type": "barpolar"
                      }
                    ],
                    "box": [
                      {
                        "boxpoints": "outliers",
                        "notched": false,
                        "type": "box"
                      }
                    ],
                    "carpet": [
                      {
                        "aaxis": {
                          "endlinecolor": "#2a3f5f",
                          "gridcolor": "#C8D4E3",
                          "linecolor": "#C8D4E3",
                          "minorgridcolor": "#C8D4E3",
                          "startlinecolor": "#2a3f5f"
                        },
                        "baxis": {
                          "endlinecolor": "#2a3f5f",
                          "gridcolor": "#C8D4E3",
                          "linecolor": "#C8D4E3",
                          "minorgridcolor": "#C8D4E3",
                          "startlinecolor": "#2a3f5f"
                        },
                        "type": "carpet"
                      }
                    ],
                    "choropleth": [
                      {
                        "colorbar": {
                          "outlinewidth": 0,
                          "ticks": ""
                        },
                        "type": "choropleth"
                      }
                    ],
                    "contour": [
                      {
                        "colorbar": {
                          "outlinewidth": 0,
                          "ticks": ""
                        },
                        "colorscale": [
                          [
                            0,
                            "#0d0887"
                          ],
                          [
                            0.1111111111111111,
                            "#46039f"
                          ],
                          [
                            0.2222222222222222,
                            "#7201a8"
                          ],
                          [
                            0.3333333333333333,
                            "#9c179e"
                          ],
                          [
                            0.4444444444444444,
                            "#bd3786"
                          ],
                          [
                            0.5555555555555556,
                            "#d8576b"
                          ],
                          [
                            0.6666666666666666,
                            "#ed7953"
                          ],
                          [
                            0.7777777777777778,
                            "#fb9f3a"
                          ],
                          [
                            0.8888888888888888,
                            "#fdca26"
                          ],
                          [
                            1,
                            "#f0f921"
                          ]
                        ],
                        "type": "contour"
                      }
                    ],
                    "contourcarpet": [
                      {
                        "colorbar": {
                          "outlinewidth": 0,
                          "ticks": ""
                        },
                        "type": "contourcarpet"
                      }
                    ],
                    "heatmap": [
                      {
                        "colorbar": {
                          "outlinewidth": 0,
                          "ticks": ""
                        },
                        "colorscale": [
                          [
                            0,
                            "#0d0887"
                          ],
                          [
                            0.1111111111111111,
                            "#46039f"
                          ],
                          [
                            0.2222222222222222,
                            "#7201a8"
                          ],
                          [
                            0.3333333333333333,
                            "#9c179e"
                          ],
                          [
                            0.4444444444444444,
                            "#bd3786"
                          ],
                          [
                            0.5555555555555556,
                            "#d8576b"
                          ],
                          [
                            0.6666666666666666,
                            "#ed7953"
                          ],
                          [
                            0.7777777777777778,
                            "#fb9f3a"
                          ],
                          [
                            0.8888888888888888,
                            "#fdca26"
                          ],
                          [
                            1,
                            "#f0f921"
                          ]
                        ],
                        "type": "heatmap"
                      }
                    ],
                    "heatmapgl": [
                      {
                        "colorbar": {
                          "outlinewidth": 0,
                          "ticks": ""
                        },
                        "colorscale": [
                          [
                            0,
                            "#0d0887"
                          ],
                          [
                            0.1111111111111111,
                            "#46039f"
                          ],
                          [
                            0.2222222222222222,
                            "#7201a8"
                          ],
                          [
                            0.3333333333333333,
                            "#9c179e"
                          ],
                          [
                            0.4444444444444444,
                            "#bd3786"
                          ],
                          [
                            0.5555555555555556,
                            "#d8576b"
                          ],
                          [
                            0.6666666666666666,
                            "#ed7953"
                          ],
                          [
                            0.7777777777777778,
                            "#fb9f3a"
                          ],
                          [
                            0.8888888888888888,
                            "#fdca26"
                          ],
                          [
                            1,
                            "#f0f921"
                          ]
                        ],
                        "type": "heatmapgl"
                      }
                    ],
                    "histogram": [
                      {
                        "marker": {
                          "line": {
                            "width": 1
                          },
                          "pattern": {
                            "fillmode": "overlay",
                            "size": 10,
                            "solidity": 0.2
                          }
                        },
                        "type": "histogram"
                      }
                    ],
                    "histogram2d": [
                      {
                        "colorbar": {
                          "outlinewidth": 0,
                          "ticks": ""
                        },
                        "colorscale": [
                          [
                            0,
                            "#0d0887"
                          ],
                          [
                            0.1111111111111111,
                            "#46039f"
                          ],
                          [
                            0.2222222222222222,
                            "#7201a8"
                          ],
                          [
                            0.3333333333333333,
                            "#9c179e"
                          ],
                          [
                            0.4444444444444444,
                            "#bd3786"
                          ],
                          [
                            0.5555555555555556,
                            "#d8576b"
                          ],
                          [
                            0.6666666666666666,
                            "#ed7953"
                          ],
                          [
                            0.7777777777777778,
                            "#fb9f3a"
                          ],
                          [
                            0.8888888888888888,
                            "#fdca26"
                          ],
                          [
                            1,
                            "#f0f921"
                          ]
                        ],
                        "type": "histogram2d"
                      }
                    ],
                    "histogram2dcontour": [
                      {
                        "colorbar": {
                          "outlinewidth": 0,
                          "ticks": ""
                        },
                        "colorscale": [
                          [
                            0,
                            "#0d0887"
                          ],
                          [
                            0.1111111111111111,
                            "#46039f"
                          ],
                          [
                            0.2222222222222222,
                            "#7201a8"
                          ],
                          [
                            0.3333333333333333,
                            "#9c179e"
                          ],
                          [
                            0.4444444444444444,
                            "#bd3786"
                          ],
                          [
                            0.5555555555555556,
                            "#d8576b"
                          ],
                          [
                            0.6666666666666666,
                            "#ed7953"
                          ],
                          [
                            0.7777777777777778,
                            "#fb9f3a"
                          ],
                          [
                            0.8888888888888888,
                            "#fdca26"
                          ],
                          [
                            1,
                            "#f0f921"
                          ]
                        ],
                        "type": "histogram2dcontour"
                      }
                    ],
                    "mesh3d": [
                      {
                        "colorbar": {
                          "outlinewidth": 0,
                          "ticks": ""
                        },
                        "type": "mesh3d"
                      }
                    ],
                    "parcoords": [
                      {
                        "line": {
                          "colorbar": {
                            "outlinewidth": 0,
                            "ticks": ""
                          }
                        },
                        "type": "parcoords"
                      }
                    ],
                    "pie": [
                      {
                        "automargin": true,
                        "type": "pie"
                      }
                    ],
                    "scatter": [
                      {
                        "marker": {
                          "colorbar": {
                            "outlinewidth": 0,
                            "ticks": ""
                          },
                          "opacity": 0.8
                        },
                        "type": "scatter"
                      }
                    ],
                    "scatter3d": [
                      {
                        "line": {
                          "colorbar": {
                            "outlinewidth": 0,
                            "ticks": ""
                          }
                        },
                        "marker": {
                          "colorbar": {
                            "outlinewidth": 0,
                            "ticks": ""
                          },
                          "opacity": 0.8
                        },
                        "type": "scatter3d"
                      }
                    ],
                    "scattercarpet": [
                      {
                        "marker": {
                          "colorbar": {
                            "outlinewidth": 0,
                            "ticks": ""
                          }
                        },
                        "type": "scattercarpet"
                      }
                    ],
                    "scattergeo": [
                      {
                        "marker": {
                          "colorbar": {
                            "outlinewidth": 0,
                            "ticks": ""
                          }
                        },
                        "type": "scattergeo"
                      }
                    ],
                    "scattergl": [
                      {
                        "marker": {
                          "colorbar": {
                            "outlinewidth": 0,
                            "ticks": ""
                          }
                        },
                        "type": "scattergl"
                      }
                    ],
                    "scattermapbox": [
                      {
                        "marker": {
                          "colorbar": {
                            "outlinewidth": 0,
                            "ticks": ""
                          }
                        },
                        "type": "scattermapbox"
                      }
                    ],
                    "scatterpolar": [
                      {
                        "marker": {
                          "colorbar": {
                            "outlinewidth": 0,
                            "ticks": ""
                          }
                        },
                        "type": "scatterpolar"
                      }
                    ],
                    "scatterpolargl": [
                      {
                        "marker": {
                          "colorbar": {
                            "outlinewidth": 0,
                            "ticks": ""
                          }
                        },
                        "type": "scatterpolargl"
                      }
                    ],
                    "scatterternary": [
                      {
                        "marker": {
                          "colorbar": {
                            "outlinewidth": 0,
                            "ticks": ""
                          }
                        },
                        "type": "scatterternary"
                      }
                    ],
                    "surface": [
                      {
                        "colorbar": {
                          "outlinewidth": 0,
                          "ticks": ""
                        },
                        "colorscale": [
                          [
                            0,
                            "#0d0887"
                          ],
                          [
                            0.1111111111111111,
                            "#46039f"
                          ],
                          [
                            0.2222222222222222,
                            "#7201a8"
                          ],
                          [
                            0.3333333333333333,
                            "#9c179e"
                          ],
                          [
                            0.4444444444444444,
                            "#bd3786"
                          ],
                          [
                            0.5555555555555556,
                            "#d8576b"
                          ],
                          [
                            0.6666666666666666,
                            "#ed7953"
                          ],
                          [
                            0.7777777777777778,
                            "#fb9f3a"
                          ],
                          [
                            0.8888888888888888,
                            "#fdca26"
                          ],
                          [
                            1,
                            "#f0f921"
                          ]
                        ],
                        "type": "surface"
                      }
                    ],
                    "table": [
                      {
                        "cells": {
                          "fill": {
                            "color": "#EBF0F8"
                          },
                          "line": {
                            "color": "white"
                          }
                        },
                        "header": {
                          "fill": {
                            "color": "#C8D4E3"
                          },
                          "line": {
                            "color": "white"
                          }
                        },
                        "type": "table"
                      }
                    ]
                  },
                  "layout": {
                    "annotationdefaults": {
                      "arrowcolor": "#2a3f5f",
                      "arrowhead": 0,
                      "arrowwidth": 1
                    },
                    "autotypenumbers": "strict",
                    "coloraxis": {
                      "colorbar": {
                        "outlinewidth": 0,
                        "ticks": ""
                      }
                    },
                    "colorscale": {
                      "diverging": [
                        [
                          0,
                          "#8e0152"
                        ],
                        [
                          0.1,
                          "#c51b7d"
                        ],
                        [
                          0.2,
                          "#de77ae"
                        ],
                        [
                          0.3,
                          "#f1b6da"
                        ],
                        [
                          0.4,
                          "#fde0ef"
                        ],
                        [
                          0.5,
                          "#f7f7f7"
                        ],
                        [
                          0.6,
                          "#e6f5d0"
                        ],
                        [
                          0.7,
                          "#b8e186"
                        ],
                        [
                          0.8,
                          "#7fbc41"
                        ],
                        [
                          0.9,
                          "#4d9221"
                        ],
                        [
                          1,
                          "#276419"
                        ]
                      ],
                      "sequential": [
                        [
                          0,
                          "#0d0887"
                        ],
                        [
                          0.1111111111111111,
                          "#46039f"
                        ],
                        [
                          0.2222222222222222,
                          "#7201a8"
                        ],
                        [
                          0.3333333333333333,
                          "#9c179e"
                        ],
                        [
                          0.4444444444444444,
                          "#bd3786"
                        ],
                        [
                          0.5555555555555556,
                          "#d8576b"
                        ],
                        [
                          0.6666666666666666,
                          "#ed7953"
                        ],
                        [
                          0.7777777777777778,
                          "#fb9f3a"
                        ],
                        [
                          0.8888888888888888,
                          "#fdca26"
                        ],
                        [
                          1,
                          "#f0f921"
                        ]
                      ],
                      "sequentialminus": [
                        [
                          0,
                          "#0d0887"
                        ],
                        [
                          0.1111111111111111,
                          "#46039f"
                        ],
                        [
                          0.2222222222222222,
                          "#7201a8"
                        ],
                        [
                          0.3333333333333333,
                          "#9c179e"
                        ],
                        [
                          0.4444444444444444,
                          "#bd3786"
                        ],
                        [
                          0.5555555555555556,
                          "#d8576b"
                        ],
                        [
                          0.6666666666666666,
                          "#ed7953"
                        ],
                        [
                          0.7777777777777778,
                          "#fb9f3a"
                        ],
                        [
                          0.8888888888888888,
                          "#fdca26"
                        ],
                        [
                          1,
                          "#f0f921"
                        ]
                      ]
                    },
                    "colorway": [
                      "#636efa",
                      "#EF553B",
                      "#00cc96",
                      "#ab63fa",
                      "#FFA15A",
                      "#19d3f3",
                      "#FF6692",
                      "#B6E880",
                      "#FF97FF",
                      "#FECB52"
                    ],
                    "font": {
                      "color": "#2a3f5f"
                    },
                    "geo": {
                      "bgcolor": "white",
                      "lakecolor": "white",
                      "landcolor": "white",
                      "showlakes": true,
                      "showland": true,
                      "subunitcolor": "#C8D4E3"
                    },
                    "height": 400,
                    "hoverlabel": {
                      "align": "left"
                    },
                    "hovermode": "closest",
                    "mapbox": {
                      "style": "light"
                    },
                    "margin": {
                      "b": 2,
                      "l": 2,
                      "r": 2,
                      "t": 30
                    },
                    "paper_bgcolor": "white",
                    "plot_bgcolor": "white",
                    "polar": {
                      "angularaxis": {
                        "gridcolor": "#EBF0F8",
                        "linecolor": "#EBF0F8",
                        "ticks": ""
                      },
                      "bgcolor": "white",
                      "radialaxis": {
                        "gridcolor": "#EBF0F8",
                        "linecolor": "#EBF0F8",
                        "ticks": ""
                      }
                    },
                    "scene": {
                      "camera": {
                        "eye": {
                          "x": 1.5,
                          "y": 1.5,
                          "z": 0.1
                        }
                      },
                      "xaxis": {
                        "backgroundcolor": "white",
                        "gridcolor": "#DFE8F3",
                        "gridwidth": 2,
                        "linecolor": "#EBF0F8",
                        "showbackground": true,
                        "ticks": "",
                        "zerolinecolor": "#EBF0F8"
                      },
                      "yaxis": {
                        "backgroundcolor": "white",
                        "gridcolor": "#DFE8F3",
                        "gridwidth": 2,
                        "linecolor": "#EBF0F8",
                        "showbackground": true,
                        "ticks": "",
                        "zerolinecolor": "#EBF0F8"
                      },
                      "zaxis": {
                        "backgroundcolor": "white",
                        "gridcolor": "#DFE8F3",
                        "gridwidth": 2,
                        "linecolor": "#EBF0F8",
                        "showbackground": true,
                        "ticks": "",
                        "zerolinecolor": "#EBF0F8"
                      }
                    },
                    "shapedefaults": {
                      "line": {
                        "color": "#2a3f5f"
                      }
                    },
                    "ternary": {
                      "aaxis": {
                        "gridcolor": "#DFE8F3",
                        "linecolor": "#A2B1C6",
                        "ticks": ""
                      },
                      "baxis": {
                        "gridcolor": "#DFE8F3",
                        "linecolor": "#A2B1C6",
                        "ticks": ""
                      },
                      "bgcolor": "white",
                      "caxis": {
                        "gridcolor": "#DFE8F3",
                        "linecolor": "#A2B1C6",
                        "ticks": ""
                      }
                    },
                    "title": {
                      "x": 0.5
                    },
                    "xaxis": {
                      "automargin": true,
                      "gridcolor": "#EBF0F8",
                      "linecolor": "#EBF0F8",
                      "linewidth": 2,
                      "showline": true,
                      "ticks": "",
                      "title": {
                        "standoff": 15
                      },
                      "zerolinecolor": "#EBF0F8",
                      "zerolinewidth": 2
                    },
                    "yaxis": {
                      "automargin": true,
                      "gridcolor": "#EBF0F8",
                      "linecolor": "#EBF0F8",
                      "linewidth": 2,
                      "showline": true,
                      "ticks": "",
                      "title": {
                        "standoff": 15
                      },
                      "zerolinecolor": "#EBF0F8",
                      "zerolinewidth": 2
                    }
                  }
                },
                "xaxis": {
                  "anchor": "y",
                  "domain": [
                    0,
                    1
                  ],
                  "title": {
                    "text": "Age 2"
                  }
                },
                "yaxis": {
                  "anchor": "x",
                  "domain": [
                    0,
                    1
                  ],
                  "title": {
                    "text": "count"
                  }
                }
              }
            }
          },
          "metadata": {}
        }
      ],
      "metadata": {}
    },
    {
      "cell_type": "markdown",
      "source": [
        "In this case, we notice an unlikely number of very young children. This would be cause for futher inspection of the data, and hopefully help us spot that the missing ages appear as zeros.\n",
        "\n",
        "## Handling Missing Data\n",
        "\n",
        "There are many ways to address missing data, each with pros and cons.\n",
        "\n",
        "Let's take a look at the less complicated options:\n",
        "\n",
        "### Option 1: Delete data with missing rows\n",
        "\n",
        "When we have a model that cannot handle missing data, the most prudent thing to do is to remove rows that have information missing.\n",
        "\n",
        "Let's remove some data from the `Embarked` column, which only has two rows with missing data."
      ],
      "metadata": {}
    },
    {
      "cell_type": "code",
      "execution_count": 10,
      "source": [
        "# Create a \"clean\" dataset where we cumulatively fix missing values\n",
        "# Start by removing rows ONLY where \"Embarked\" has no values\n",
        "print(f\"The original size of our dataset was\", dataset.shape)\n",
        "clean_dataset = dataset.dropna(subset=[\"Embarked\"])\n",
        "clean_dataset = clean_dataset.reindex()\n",
        "\n",
        "# How many rows do we have now?\n",
        "print(\"The shape for the clean dataset is\", clean_dataset.shape)"
      ],
      "outputs": [
        {
          "output_type": "stream",
          "name": "stdout",
          "text": [
            "The original size of our dataset was (891, 13)\n",
            "The shape for the clean dataset is (889, 13)\n"
          ]
        }
      ],
      "metadata": {}
    },
    {
      "cell_type": "markdown",
      "source": [
        "We can see that the offending two rows aren't present in our new clean dataset.\n",
        "\n",
        "### Option 2: Replace empty values with the mean or median for that data.\n",
        "\n",
        "In some circumstances, our model cannot handle missing values, and we also cannot afford to remove too much data. If this is the case, sometimes we can fill missing data with the average of the rest of the dataset. Note that imputing data like this can sometimes negatively affect model performance. Usually it's better to simply remove data that are missing, or to use a model that is designed to handle missing values.\n",
        "\n",
        "Below, we impute data for the `Age` field. We use the mean `Age` from the remaining rows, given that >80% of these aren't empty:"
      ],
      "metadata": {}
    },
    {
      "cell_type": "code",
      "execution_count": 11,
      "source": [
        "# Calculate the mean value for the Age column\n",
        "mean_age = clean_dataset[\"Age\"].mean()\n",
        "\n",
        "print(\"The mean age is\", mean_age)\n",
        "\n",
        "# Replace empty values in \"Age\" with the mean calculated above\n",
        "clean_dataset[\"Age\"].fillna(mean_age, inplace=True)\n",
        "\n",
        "# Let's see what the clean dataset looks like now\n",
        "print(clean_dataset.isnull().sum().to_frame().rename(columns={0:'Empty Cells'}))"
      ],
      "outputs": [
        {
          "output_type": "stream",
          "name": "stdout",
          "text": [
            "The mean age is 29.64209269662921\n",
            "             Empty Cells\n",
            "PassengerId            0\n",
            "Survived               0\n",
            "Pclass                 0\n",
            "Name                   0\n",
            "Sex                    0\n",
            "Age                    0\n",
            "SibSp                  0\n",
            "Parch                  0\n",
            "Ticket                 0\n",
            "Fare                   0\n",
            "Cabin                687\n",
            "Embarked               0\n",
            "Age_2                  0\n"
          ]
        }
      ],
      "metadata": {}
    },
    {
      "cell_type": "markdown",
      "source": [
        "As you can see above, the `Age` field has no empty cells anymore.\n",
        "\n",
        "### Option 3: Assign a new category to unknown categorical data\n",
        "\n",
        "The `Cabin` field is a categorical field because there's a finite number of possible options for cabins in the Titanic. Unfortunately, many records have no cabin listed.\n",
        "\n",
        "For this exercise it makes perfect sense to create an `Unknown` category and assign it to the cases where the cabin is unknown:"
      ],
      "metadata": {}
    },
    {
      "cell_type": "code",
      "execution_count": 12,
      "source": [
        "# Assign unknow to records where \"Cabin\" is empty\n",
        "clean_dataset[\"Cabin\"].fillna(\"Unknown\", inplace=True)\n",
        "\n",
        "# Let's see what the clean dataset looks like now\n",
        "print(clean_dataset.isnull().sum().to_frame().rename(columns={0:'Empty Cells'}))"
      ],
      "outputs": [
        {
          "output_type": "stream",
          "name": "stdout",
          "text": [
            "             Empty Cells\n",
            "PassengerId            0\n",
            "Survived               0\n",
            "Pclass                 0\n",
            "Name                   0\n",
            "Sex                    0\n",
            "Age                    0\n",
            "SibSp                  0\n",
            "Parch                  0\n",
            "Ticket                 0\n",
            "Fare                   0\n",
            "Cabin                  0\n",
            "Embarked               0\n",
            "Age_2                  0\n"
          ]
        }
      ],
      "metadata": {}
    },
    {
      "cell_type": "markdown",
      "source": [
        "That's it! No more missing data!\n",
        "\n",
        "We only lost two records (where `Embarked` was empty).\n",
        "\n",
        "That said, we had to make some approximations to fill the missing gaps for the `Age` and `Cabin` columns, and those will certainly influence the performance of any model we train on this data.\n",
        "\n",
        "## Summary\n",
        "\n",
        "Missing values can adversely affect the way a Machine Learning model works, so it's important to quickly verify if there are gaps in the data and where they are located.\n",
        "\n",
        "You are now able to get a \"big picture\" of what is missing, by using lists and charts, and also to select only the specific items that need to be addressed.\n",
        "\n",
        "In this exercise, we practiced:\n",
        "\n",
        "- Finding and visualizing missing values in a dataset using the `pandas` and `missingno` packages.\n",
        "- Checking whether a dataset uses the value 0 to represent missing values.\n",
        "- Dealing with missing data in three ways: removing the rows containing missing values, replacing the missing values with the mean or median of that particular feature, and creating a new `Unknown` category if dealing with categorical data."
      ],
      "metadata": {}
    }
  ],
  "metadata": {
    "kernelspec": {
      "name": "python3",
      "display_name": "Python 3.9.5 64-bit"
    },
    "language_info": {
      "name": "python",
      "version": "3.9.5",
      "mimetype": "text/x-python",
      "codemirror_mode": {
        "name": "ipython",
        "version": 3
      },
      "pygments_lexer": "ipython3",
      "nbconvert_exporter": "python",
      "file_extension": ".py"
    },
    "kernel_info": {
      "name": "conda-env-py37_default-py"
    },
    "nteract": {
      "version": "nteract-front-end@1.0.0"
    },
    "interpreter": {
      "hash": "397704579725e15f5c7cb49fe5f0341eb7531c82d19f2c29d197e8b64ab5776b"
    }
  },
  "nbformat": 4,
  "nbformat_minor": 2
}
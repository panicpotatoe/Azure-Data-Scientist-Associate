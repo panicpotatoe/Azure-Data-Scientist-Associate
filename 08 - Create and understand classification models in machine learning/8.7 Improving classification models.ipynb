{
  "cells": [
    {
      "cell_type": "markdown",
      "source": [
        "# Exercise: Improving a logistic regression model\n",
        "\n",
        "In the previous exercise, we fit a simple logistic regression model to predict the chance of an avalanche. This time, we'll improve its performance by using multiple features intelligently.\n",
        "\n",
        "## Data visualisation\n",
        "\n",
        "Let's load our data."
      ],
      "metadata": {}
    },
    {
      "cell_type": "code",
      "execution_count": 1,
      "source": [
        "import pandas\n",
        "!pip install statsmodels\n",
        "# !wget https://raw.githubusercontent.com/MicrosoftDocs/mslearn-introduction-to-machine-learning/main/graphing.py\n",
        "# !wget https://raw.githubusercontent.com/MicrosoftDocs/mslearn-introduction-to-machine-learning/main/Data/avalanche.csv\n",
        "import graphing # custom graphing code. See our GitHub repo for details\n",
        "\n",
        "#Import the data from the .csv file\n",
        "dataset = pandas.read_csv('avalanche.csv', delimiter=\"\\t\", index_col=0)\n",
        "\n",
        "# Split our data into training and test\n",
        "import sklearn.model_selection\n",
        "train, test = sklearn.model_selection.train_test_split(dataset, test_size=0.25, random_state=10)\n",
        "\n",
        "print(\"Train size:\", train.shape[0])\n",
        "print(\"Test size:\", test.shape[0])\n",
        "\n",
        "#Let's have a look at the data\n",
        "print(train.head())"
      ],
      "outputs": [
        {
          "output_type": "stream",
          "name": "stdout",
          "text": [
            "Requirement already satisfied: statsmodels in /Library/Frameworks/Python.framework/Versions/3.9/lib/python3.9/site-packages (0.12.2)\n",
            "Requirement already satisfied: numpy>=1.15 in /Library/Frameworks/Python.framework/Versions/3.9/lib/python3.9/site-packages (from statsmodels) (1.19.5)\n",
            "Requirement already satisfied: pandas>=0.21 in /Library/Frameworks/Python.framework/Versions/3.9/lib/python3.9/site-packages (from statsmodels) (1.2.4)\n",
            "Requirement already satisfied: scipy>=1.1 in /Library/Frameworks/Python.framework/Versions/3.9/lib/python3.9/site-packages (from statsmodels) (1.7.0)\n",
            "Requirement already satisfied: patsy>=0.5 in /Library/Frameworks/Python.framework/Versions/3.9/lib/python3.9/site-packages (from statsmodels) (0.5.1)\n",
            "Requirement already satisfied: pytz>=2017.3 in /Library/Frameworks/Python.framework/Versions/3.9/lib/python3.9/site-packages (from pandas>=0.21->statsmodels) (2021.1)\n",
            "Requirement already satisfied: python-dateutil>=2.7.3 in /Users/nhantran/Library/Python/3.9/lib/python/site-packages (from pandas>=0.21->statsmodels) (2.8.1)\n",
            "Requirement already satisfied: six in /Library/Frameworks/Python.framework/Versions/3.9/lib/python3.9/site-packages (from patsy>=0.5->statsmodels) (1.15.0)\n",
            "Train size: 821\n",
            "Test size: 274\n",
            "     avalanche  no_visitors  surface_hoar  fresh_thickness  wind  weak_layers  \\\n",
            "176          0            9      5.142447         9.877195     6            8   \n",
            "114          1            3      8.170281         9.136835    34            7   \n",
            "869          0            3      1.979579         9.497017    10            8   \n",
            "775          1            0      1.999078         9.337908    21            6   \n",
            "181          1            9      6.854401         6.099359    22            5   \n",
            "\n",
            "     tracked_out  \n",
            "176            1  \n",
            "114            0  \n",
            "869            0  \n",
            "775            0  \n",
            "181            0  \n"
          ]
        }
      ],
      "metadata": {
        "scrolled": true
      }
    },
    {
      "cell_type": "markdown",
      "source": [
        "We have numerous features available:\n",
        "\n",
        "* `surface_hoar` is how disturbed the surface of the snow is\n",
        "* `fresh_thickness` is how thick the top layer of snow is, or 0 if there's no fresh snow on top\n",
        "* `wind` is the top wind speed that day, in km/h\n",
        "* `weak_layers` is the number of layers of snow that aren't well-bound to other layers\n",
        "* `no_visitors` is the number of hikers who were on the trail that day\n",
        "* `tracked_out` is a `1` or `0`. A `1` means that the snow has been trampled heavily by hikers \n",
        "\n",
        "## Simple logistic regression\n",
        "\n",
        "Let's make a simple logistic regression model and assess its performance with accuracy.\n",
        "\n"
      ],
      "metadata": {}
    },
    {
      "cell_type": "code",
      "execution_count": 2,
      "source": [
        "import sklearn\n",
        "from sklearn.metrics import accuracy_score\n",
        "import statsmodels.formula.api as smf\n",
        "\n",
        "# Perform logistic regression.\n",
        "model = smf.logit(\"avalanche ~ weak_layers\", train).fit()\n",
        "\n",
        "# Calculate accuracy\n",
        "def calculate_accuracy(model):\n",
        "    '''\n",
        "    Calculates accuracy\n",
        "    '''\n",
        "    # Make estimations and convert to categories\n",
        "    avalanche_predicted = model.predict(test) > 0.5\n",
        "\n",
        "    # Calculate what proportion were predicted correctly\n",
        "    # We can use sklearn to calculate accuracy for us\n",
        "    print(\"Accuracy:\", accuracy_score(test.avalanche, avalanche_predicted))\n",
        "\n",
        "calculate_accuracy(model)"
      ],
      "outputs": [
        {
          "output_type": "stream",
          "name": "stdout",
          "text": [
            "Optimization terminated successfully.\n",
            "         Current function value: 0.616312\n",
            "         Iterations 5\n",
            "Accuracy: 0.6167883211678832\n"
          ]
        }
      ],
      "metadata": {}
    },
    {
      "cell_type": "markdown",
      "source": [
        "Let's see how we can improve our model\n",
        "\n",
        "## Utilizing multiple features\n",
        "\n",
        "Most of our features seem like they could be useful, least in theory. Let's try a model with all features we've available."
      ],
      "metadata": {}
    },
    {
      "cell_type": "code",
      "execution_count": 3,
      "source": [
        "# Perform logistic regression.\n",
        "model_all_features = smf.logit(\"avalanche ~ weak_layers + surface_hoar + fresh_thickness + wind + no_visitors + tracked_out\", train).fit()\n",
        "calculate_accuracy(model_all_features)"
      ],
      "outputs": [
        {
          "output_type": "stream",
          "name": "stdout",
          "text": [
            "Optimization terminated successfully.\n",
            "         Current function value: 0.459347\n",
            "         Iterations 7\n",
            "Accuracy: 0.7846715328467153\n"
          ]
        }
      ],
      "metadata": {}
    },
    {
      "cell_type": "markdown",
      "source": [
        "That's a big improvement on the simpler model we've been working with. \n",
        "\n",
        "To understand why, we can look at the summary information"
      ],
      "metadata": {}
    },
    {
      "cell_type": "code",
      "execution_count": 4,
      "source": [
        "model_all_features.summary()"
      ],
      "outputs": [
        {
          "output_type": "execute_result",
          "data": {
            "text/plain": [
              "<class 'statsmodels.iolib.summary.Summary'>\n",
              "\"\"\"\n",
              "                           Logit Regression Results                           \n",
              "==============================================================================\n",
              "Dep. Variable:              avalanche   No. Observations:                  821\n",
              "Model:                          Logit   Df Residuals:                      814\n",
              "Method:                           MLE   Df Model:                            6\n",
              "Date:                Sat, 14 Aug 2021   Pseudo R-squ.:                  0.3305\n",
              "Time:                        09:33:03   Log-Likelihood:                -377.12\n",
              "converged:                       True   LL-Null:                       -563.33\n",
              "Covariance Type:            nonrobust   LLR p-value:                 2.372e-77\n",
              "===================================================================================\n",
              "                      coef    std err          z      P>|z|      [0.025      0.975]\n",
              "-----------------------------------------------------------------------------------\n",
              "Intercept          -4.0107      0.443     -9.043      0.000      -4.880      -3.141\n",
              "weak_layers         0.3733      0.034     10.871      0.000       0.306       0.441\n",
              "surface_hoar        0.3306      0.035      9.424      0.000       0.262       0.399\n",
              "fresh_thickness    -0.0220      0.030     -0.732      0.464      -0.081       0.037\n",
              "wind                0.1009      0.009     11.149      0.000       0.083       0.119\n",
              "no_visitors        -0.1060      0.032     -3.262      0.001      -0.170      -0.042\n",
              "tracked_out        -0.0664      0.181     -0.367      0.713      -0.420       0.288\n",
              "===================================================================================\n",
              "\"\"\""
            ],
            "text/html": [
              "<table class=\"simpletable\">\n",
              "<caption>Logit Regression Results</caption>\n",
              "<tr>\n",
              "  <th>Dep. Variable:</th>       <td>avalanche</td>    <th>  No. Observations:  </th>  <td>   821</td>  \n",
              "</tr>\n",
              "<tr>\n",
              "  <th>Model:</th>                 <td>Logit</td>      <th>  Df Residuals:      </th>  <td>   814</td>  \n",
              "</tr>\n",
              "<tr>\n",
              "  <th>Method:</th>                 <td>MLE</td>       <th>  Df Model:          </th>  <td>     6</td>  \n",
              "</tr>\n",
              "<tr>\n",
              "  <th>Date:</th>            <td>Sat, 14 Aug 2021</td> <th>  Pseudo R-squ.:     </th>  <td>0.3305</td>  \n",
              "</tr>\n",
              "<tr>\n",
              "  <th>Time:</th>                <td>09:33:03</td>     <th>  Log-Likelihood:    </th> <td> -377.12</td> \n",
              "</tr>\n",
              "<tr>\n",
              "  <th>converged:</th>             <td>True</td>       <th>  LL-Null:           </th> <td> -563.33</td> \n",
              "</tr>\n",
              "<tr>\n",
              "  <th>Covariance Type:</th>     <td>nonrobust</td>    <th>  LLR p-value:       </th> <td>2.372e-77</td>\n",
              "</tr>\n",
              "</table>\n",
              "<table class=\"simpletable\">\n",
              "<tr>\n",
              "         <td></td>            <th>coef</th>     <th>std err</th>      <th>z</th>      <th>P>|z|</th>  <th>[0.025</th>    <th>0.975]</th>  \n",
              "</tr>\n",
              "<tr>\n",
              "  <th>Intercept</th>       <td>   -4.0107</td> <td>    0.443</td> <td>   -9.043</td> <td> 0.000</td> <td>   -4.880</td> <td>   -3.141</td>\n",
              "</tr>\n",
              "<tr>\n",
              "  <th>weak_layers</th>     <td>    0.3733</td> <td>    0.034</td> <td>   10.871</td> <td> 0.000</td> <td>    0.306</td> <td>    0.441</td>\n",
              "</tr>\n",
              "<tr>\n",
              "  <th>surface_hoar</th>    <td>    0.3306</td> <td>    0.035</td> <td>    9.424</td> <td> 0.000</td> <td>    0.262</td> <td>    0.399</td>\n",
              "</tr>\n",
              "<tr>\n",
              "  <th>fresh_thickness</th> <td>   -0.0220</td> <td>    0.030</td> <td>   -0.732</td> <td> 0.464</td> <td>   -0.081</td> <td>    0.037</td>\n",
              "</tr>\n",
              "<tr>\n",
              "  <th>wind</th>            <td>    0.1009</td> <td>    0.009</td> <td>   11.149</td> <td> 0.000</td> <td>    0.083</td> <td>    0.119</td>\n",
              "</tr>\n",
              "<tr>\n",
              "  <th>no_visitors</th>     <td>   -0.1060</td> <td>    0.032</td> <td>   -3.262</td> <td> 0.001</td> <td>   -0.170</td> <td>   -0.042</td>\n",
              "</tr>\n",
              "<tr>\n",
              "  <th>tracked_out</th>     <td>   -0.0664</td> <td>    0.181</td> <td>   -0.367</td> <td> 0.713</td> <td>   -0.420</td> <td>    0.288</td>\n",
              "</tr>\n",
              "</table>"
            ]
          },
          "metadata": {},
          "execution_count": 4
        }
      ],
      "metadata": {}
    },
    {
      "cell_type": "markdown",
      "source": [
        "Take a look at the P column, recalling that values less than 0.05 mean we can be confident that this parameter is helping the model make better predictions.\n",
        "\n",
        "Both `surface_hoar` and `wind` have very small values here, meaning they're useful predictors and probably explain why our model is working better. If we look at the `coef` (which states _parameters_) column we see that these have positive values. This means that higher winds, and greater amounts of surface hoar result in higher avalanche risk.\n",
        "\n",
        "## Simplifying our model\n",
        "\n",
        "Looking at the summary again, we can see that `tracked_out` (how trampled the snow is), and `fresh_thickness` have large p-values. This means they aren't useful predictors. Let's see what happens if we remove them from our model:"
      ],
      "metadata": {}
    },
    {
      "cell_type": "code",
      "execution_count": 5,
      "source": [
        "# Perform logistic regression.\n",
        "model_simplified = smf.logit(\"avalanche ~ weak_layers + surface_hoar + wind + no_visitors\", train).fit()\n",
        "calculate_accuracy(model_simplified)"
      ],
      "outputs": [
        {
          "output_type": "stream",
          "name": "stdout",
          "text": [
            "Optimization terminated successfully.\n",
            "         Current function value: 0.459760\n",
            "         Iterations 7\n",
            "Accuracy: 0.781021897810219\n"
          ]
        }
      ],
      "metadata": {}
    },
    {
      "cell_type": "markdown",
      "source": [
        "Our new model works very similarly to the old one! In some circumstances simplifying a model like this can even improve it, as it becomes less likely to overfit.\n",
        "\n",
        "## Careful feature selection\n",
        "\n",
        "Usually, we don't just pick features blindly. Let's think about what we've just done - we removed how much fresh snow was in a model, trying to predict avalanches. Something seems off. Surely avalanches are much _more_ likely after it has snowed? Similarly, the number of people on the track seems unrelated to how many avalanches there were, but we know that people often can trigger avalanches.\n",
        "\n",
        "Let's review our earlier model again:"
      ],
      "metadata": {}
    },
    {
      "cell_type": "code",
      "execution_count": 6,
      "source": [
        "model_all_features.summary()"
      ],
      "outputs": [
        {
          "output_type": "execute_result",
          "data": {
            "text/plain": [
              "<class 'statsmodels.iolib.summary.Summary'>\n",
              "\"\"\"\n",
              "                           Logit Regression Results                           \n",
              "==============================================================================\n",
              "Dep. Variable:              avalanche   No. Observations:                  821\n",
              "Model:                          Logit   Df Residuals:                      814\n",
              "Method:                           MLE   Df Model:                            6\n",
              "Date:                Sat, 14 Aug 2021   Pseudo R-squ.:                  0.3305\n",
              "Time:                        09:33:03   Log-Likelihood:                -377.12\n",
              "converged:                       True   LL-Null:                       -563.33\n",
              "Covariance Type:            nonrobust   LLR p-value:                 2.372e-77\n",
              "===================================================================================\n",
              "                      coef    std err          z      P>|z|      [0.025      0.975]\n",
              "-----------------------------------------------------------------------------------\n",
              "Intercept          -4.0107      0.443     -9.043      0.000      -4.880      -3.141\n",
              "weak_layers         0.3733      0.034     10.871      0.000       0.306       0.441\n",
              "surface_hoar        0.3306      0.035      9.424      0.000       0.262       0.399\n",
              "fresh_thickness    -0.0220      0.030     -0.732      0.464      -0.081       0.037\n",
              "wind                0.1009      0.009     11.149      0.000       0.083       0.119\n",
              "no_visitors        -0.1060      0.032     -3.262      0.001      -0.170      -0.042\n",
              "tracked_out        -0.0664      0.181     -0.367      0.713      -0.420       0.288\n",
              "===================================================================================\n",
              "\"\"\""
            ],
            "text/html": [
              "<table class=\"simpletable\">\n",
              "<caption>Logit Regression Results</caption>\n",
              "<tr>\n",
              "  <th>Dep. Variable:</th>       <td>avalanche</td>    <th>  No. Observations:  </th>  <td>   821</td>  \n",
              "</tr>\n",
              "<tr>\n",
              "  <th>Model:</th>                 <td>Logit</td>      <th>  Df Residuals:      </th>  <td>   814</td>  \n",
              "</tr>\n",
              "<tr>\n",
              "  <th>Method:</th>                 <td>MLE</td>       <th>  Df Model:          </th>  <td>     6</td>  \n",
              "</tr>\n",
              "<tr>\n",
              "  <th>Date:</th>            <td>Sat, 14 Aug 2021</td> <th>  Pseudo R-squ.:     </th>  <td>0.3305</td>  \n",
              "</tr>\n",
              "<tr>\n",
              "  <th>Time:</th>                <td>09:33:03</td>     <th>  Log-Likelihood:    </th> <td> -377.12</td> \n",
              "</tr>\n",
              "<tr>\n",
              "  <th>converged:</th>             <td>True</td>       <th>  LL-Null:           </th> <td> -563.33</td> \n",
              "</tr>\n",
              "<tr>\n",
              "  <th>Covariance Type:</th>     <td>nonrobust</td>    <th>  LLR p-value:       </th> <td>2.372e-77</td>\n",
              "</tr>\n",
              "</table>\n",
              "<table class=\"simpletable\">\n",
              "<tr>\n",
              "         <td></td>            <th>coef</th>     <th>std err</th>      <th>z</th>      <th>P>|z|</th>  <th>[0.025</th>    <th>0.975]</th>  \n",
              "</tr>\n",
              "<tr>\n",
              "  <th>Intercept</th>       <td>   -4.0107</td> <td>    0.443</td> <td>   -9.043</td> <td> 0.000</td> <td>   -4.880</td> <td>   -3.141</td>\n",
              "</tr>\n",
              "<tr>\n",
              "  <th>weak_layers</th>     <td>    0.3733</td> <td>    0.034</td> <td>   10.871</td> <td> 0.000</td> <td>    0.306</td> <td>    0.441</td>\n",
              "</tr>\n",
              "<tr>\n",
              "  <th>surface_hoar</th>    <td>    0.3306</td> <td>    0.035</td> <td>    9.424</td> <td> 0.000</td> <td>    0.262</td> <td>    0.399</td>\n",
              "</tr>\n",
              "<tr>\n",
              "  <th>fresh_thickness</th> <td>   -0.0220</td> <td>    0.030</td> <td>   -0.732</td> <td> 0.464</td> <td>   -0.081</td> <td>    0.037</td>\n",
              "</tr>\n",
              "<tr>\n",
              "  <th>wind</th>            <td>    0.1009</td> <td>    0.009</td> <td>   11.149</td> <td> 0.000</td> <td>    0.083</td> <td>    0.119</td>\n",
              "</tr>\n",
              "<tr>\n",
              "  <th>no_visitors</th>     <td>   -0.1060</td> <td>    0.032</td> <td>   -3.262</td> <td> 0.001</td> <td>   -0.170</td> <td>   -0.042</td>\n",
              "</tr>\n",
              "<tr>\n",
              "  <th>tracked_out</th>     <td>   -0.0664</td> <td>    0.181</td> <td>   -0.367</td> <td> 0.713</td> <td>   -0.420</td> <td>    0.288</td>\n",
              "</tr>\n",
              "</table>"
            ]
          },
          "metadata": {},
          "execution_count": 6
        }
      ],
      "metadata": {}
    },
    {
      "cell_type": "markdown",
      "source": [
        "Look at the `fresh_thickness` row. We're told that it has a negative coefficient. This means that as thickness increases, avalanches decrease.\n",
        "\n",
        "Similarly, `no_visitors` has a negative coefficient, meaning that fewer hikers means more avalanches.\n",
        "\n",
        "How can this bes? Well, while visitors can cause avalanches if there's a lot of fresh snow, presumably they cannot do so easily if there's no fresh snow. This means that our features aren't fully independent.\n",
        "\n",
        "We can tell the model to try to take into account that these features interact, using a multiply sign. Let's try that now."
      ],
      "metadata": {}
    },
    {
      "cell_type": "code",
      "execution_count": 7,
      "source": [
        "# Create a model with an interaction. Notice the end of the string where\n",
        "# we've a multiply sign between no_visitors and fresh_thickness\n",
        "formula = \"avalanche ~ weak_layers + surface_hoar + wind + no_visitors * fresh_thickness\"\n",
        "model_with_interaction = smf.logit(formula, train).fit()\n",
        "calculate_accuracy(model_with_interaction)"
      ],
      "outputs": [
        {
          "output_type": "stream",
          "name": "stdout",
          "text": [
            "Optimization terminated successfully.\n",
            "         Current function value: 0.413538\n",
            "         Iterations 7\n",
            "Accuracy: 0.8357664233576643\n"
          ]
        }
      ],
      "metadata": {}
    },
    {
      "cell_type": "markdown",
      "source": [
        "The model has improved to 84% accuracy! Let's look at the summary information:"
      ],
      "metadata": {}
    },
    {
      "cell_type": "code",
      "execution_count": 8,
      "source": [
        "model_with_interaction.summary()"
      ],
      "outputs": [
        {
          "output_type": "execute_result",
          "data": {
            "text/plain": [
              "<class 'statsmodels.iolib.summary.Summary'>\n",
              "\"\"\"\n",
              "                           Logit Regression Results                           \n",
              "==============================================================================\n",
              "Dep. Variable:              avalanche   No. Observations:                  821\n",
              "Model:                          Logit   Df Residuals:                      814\n",
              "Method:                           MLE   Df Model:                            6\n",
              "Date:                Sat, 14 Aug 2021   Pseudo R-squ.:                  0.3973\n",
              "Time:                        09:33:03   Log-Likelihood:                -339.51\n",
              "converged:                       True   LL-Null:                       -563.33\n",
              "Covariance Type:            nonrobust   LLR p-value:                 1.587e-93\n",
              "===============================================================================================\n",
              "                                  coef    std err          z      P>|z|      [0.025      0.975]\n",
              "-----------------------------------------------------------------------------------------------\n",
              "Intercept                      -0.9606      0.587     -1.636      0.102      -2.111       0.190\n",
              "weak_layers                     0.4327      0.039     11.193      0.000       0.357       0.508\n",
              "surface_hoar                    0.3887      0.039     10.035      0.000       0.313       0.465\n",
              "wind                            0.1204      0.010     11.607      0.000       0.100       0.141\n",
              "no_visitors                    -0.9430      0.114     -8.237      0.000      -1.167      -0.719\n",
              "fresh_thickness                -0.4962      0.069     -7.191      0.000      -0.631      -0.361\n",
              "no_visitors:fresh_thickness     0.1015      0.013      7.835      0.000       0.076       0.127\n",
              "===============================================================================================\n",
              "\"\"\""
            ],
            "text/html": [
              "<table class=\"simpletable\">\n",
              "<caption>Logit Regression Results</caption>\n",
              "<tr>\n",
              "  <th>Dep. Variable:</th>       <td>avalanche</td>    <th>  No. Observations:  </th>  <td>   821</td>  \n",
              "</tr>\n",
              "<tr>\n",
              "  <th>Model:</th>                 <td>Logit</td>      <th>  Df Residuals:      </th>  <td>   814</td>  \n",
              "</tr>\n",
              "<tr>\n",
              "  <th>Method:</th>                 <td>MLE</td>       <th>  Df Model:          </th>  <td>     6</td>  \n",
              "</tr>\n",
              "<tr>\n",
              "  <th>Date:</th>            <td>Sat, 14 Aug 2021</td> <th>  Pseudo R-squ.:     </th>  <td>0.3973</td>  \n",
              "</tr>\n",
              "<tr>\n",
              "  <th>Time:</th>                <td>09:33:03</td>     <th>  Log-Likelihood:    </th> <td> -339.51</td> \n",
              "</tr>\n",
              "<tr>\n",
              "  <th>converged:</th>             <td>True</td>       <th>  LL-Null:           </th> <td> -563.33</td> \n",
              "</tr>\n",
              "<tr>\n",
              "  <th>Covariance Type:</th>     <td>nonrobust</td>    <th>  LLR p-value:       </th> <td>1.587e-93</td>\n",
              "</tr>\n",
              "</table>\n",
              "<table class=\"simpletable\">\n",
              "<tr>\n",
              "               <td></td>                  <th>coef</th>     <th>std err</th>      <th>z</th>      <th>P>|z|</th>  <th>[0.025</th>    <th>0.975]</th>  \n",
              "</tr>\n",
              "<tr>\n",
              "  <th>Intercept</th>                   <td>   -0.9606</td> <td>    0.587</td> <td>   -1.636</td> <td> 0.102</td> <td>   -2.111</td> <td>    0.190</td>\n",
              "</tr>\n",
              "<tr>\n",
              "  <th>weak_layers</th>                 <td>    0.4327</td> <td>    0.039</td> <td>   11.193</td> <td> 0.000</td> <td>    0.357</td> <td>    0.508</td>\n",
              "</tr>\n",
              "<tr>\n",
              "  <th>surface_hoar</th>                <td>    0.3887</td> <td>    0.039</td> <td>   10.035</td> <td> 0.000</td> <td>    0.313</td> <td>    0.465</td>\n",
              "</tr>\n",
              "<tr>\n",
              "  <th>wind</th>                        <td>    0.1204</td> <td>    0.010</td> <td>   11.607</td> <td> 0.000</td> <td>    0.100</td> <td>    0.141</td>\n",
              "</tr>\n",
              "<tr>\n",
              "  <th>no_visitors</th>                 <td>   -0.9430</td> <td>    0.114</td> <td>   -8.237</td> <td> 0.000</td> <td>   -1.167</td> <td>   -0.719</td>\n",
              "</tr>\n",
              "<tr>\n",
              "  <th>fresh_thickness</th>             <td>   -0.4962</td> <td>    0.069</td> <td>   -7.191</td> <td> 0.000</td> <td>   -0.631</td> <td>   -0.361</td>\n",
              "</tr>\n",
              "<tr>\n",
              "  <th>no_visitors:fresh_thickness</th> <td>    0.1015</td> <td>    0.013</td> <td>    7.835</td> <td> 0.000</td> <td>    0.076</td> <td>    0.127</td>\n",
              "</tr>\n",
              "</table>"
            ]
          },
          "metadata": {},
          "execution_count": 8
        }
      ],
      "metadata": {}
    },
    {
      "cell_type": "markdown",
      "source": [
        "We can see that the interaction term is helpful - the p-value is less than 0.05. The model is also performing better than our previous attempts.\n",
        "\n",
        "## Making predictions with multiple features\n",
        "\n",
        "Very quickly, lets explore what this interaction means by looking at model predictions. \n",
        "\n",
        "We will first graph two independent features in 3D. Let's start with `weak_layers` and `wind`:"
      ],
      "metadata": {}
    },
    {
      "cell_type": "code",
      "execution_count": 9,
      "source": [
        "graphing.model_to_surface_plot(model_with_interaction, [\"weak_layers\", \"wind\"], test)"
      ],
      "outputs": [
        {
          "output_type": "stream",
          "name": "stdout",
          "text": [
            "Creating plot...\n"
          ]
        },
        {
          "output_type": "display_data",
          "data": {
            "application/vnd.plotly.v1+json": {
              "config": {
                "plotlyServerURL": "https://plot.ly"
              },
              "data": [
                {
                  "colorbar": {
                    "title": {
                      "text": "Probability"
                    }
                  },
                  "type": "surface",
                  "x": [
                    0,
                    0.5263157894736842,
                    1.0526315789473684,
                    1.5789473684210527,
                    2.1052631578947367,
                    2.631578947368421,
                    3.1578947368421053,
                    3.6842105263157894,
                    4.2105263157894735,
                    4.7368421052631575,
                    5.263157894736842,
                    5.789473684210526,
                    6.315789473684211,
                    6.842105263157895,
                    7.368421052631579,
                    7.894736842105263,
                    8.421052631578947,
                    8.947368421052632,
                    9.473684210526315,
                    10
                  ],
                  "y": [
                    0,
                    2.1052631578947367,
                    4.2105263157894735,
                    6.315789473684211,
                    8.421052631578947,
                    10.526315789473683,
                    12.631578947368421,
                    14.736842105263158,
                    16.842105263157894,
                    18.94736842105263,
                    21.052631578947366,
                    23.157894736842103,
                    25.263157894736842,
                    27.36842105263158,
                    29.473684210526315,
                    31.57894736842105,
                    33.68421052631579,
                    35.78947368421053,
                    37.89473684210526,
                    40
                  ],
                  "z": [
                    [
                      0.016645957693825056,
                      0.020814840607851454,
                      0.02600019030453691,
                      0.03243451515124588,
                      0.04039511781818852,
                      0.0502081541005343,
                      0.062250392880744104,
                      0.076946924689372,
                      0.09476250165120643,
                      0.11618374094289916,
                      0.14168936410604616,
                      0.17170638939602192,
                      0.206552225613091,
                      0.2463662699105276,
                      0.2910396955272618,
                      0.34015746366473865,
                      0.3929699130776832,
                      0.4484097530447753,
                      0.5051621313818826,
                      0.5617817957334993
                    ],
                    [
                      0.021346250874046388,
                      0.026660379959860345,
                      0.03325250563605881,
                      0.041405281377053606,
                      0.05145055573832171,
                      0.06377077263590873,
                      0.07879608612711335,
                      0.09699481187948708,
                      0.11885441453560695,
                      0.14485023834257182,
                      0.17540005473580328,
                      0.210804704373005,
                      0.251178950934364,
                      0.2963818573936387,
                      0.34596124808260154,
                      0.39912972998722407,
                      0.45478751969294684,
                      0.5115984217991139,
                      0.5681112654228488,
                      0.6229049297479151
                    ],
                    [
                      0.027336862478350966,
                      0.034090398796134416,
                      0.042439588961305376,
                      0.05272199409901785,
                      0.06532569878550104,
                      0.08068580151860122,
                      0.09927394146533045,
                      0.121578033134854,
                      0.1480694622664357,
                      0.17915599039593882,
                      0.21512099616532968,
                      0.25605370392682875,
                      0.30178033714576596,
                      0.35181125964278326,
                      0.4053216310213686,
                      0.461180154682843,
                      0.5180308686491494,
                      0.5744185707699189,
                      0.6289346881541376,
                      0.680353454459758
                    ],
                    [
                      0.0349486418445592,
                      0.04349856121946093,
                      0.05402306260154112,
                      0.06691582893685824,
                      0.08261677228887329,
                      0.10160059922327576,
                      0.1243552567179035,
                      0.15134756941626798,
                      0.18297450739284646,
                      0.21950108471615498,
                      0.26099008991842865,
                      0.30723421187014793,
                      0.3577060901897456,
                      0.41154379871971775,
                      0.4675855834184384,
                      0.5244573448590971,
                      0.5807017480046247,
                      0.6349245385796638,
                      0.68592777466668,
                      0.7328041649648125
                    ],
                    [
                      0.04458272717896005,
                      0.055354362536169696,
                      0.06854182693460967,
                      0.0845897028652513,
                      0.10397549166090808,
                      0.12718673524693097,
                      0.15468507326418146,
                      0.18685588500277098,
                      0.22394491033866615,
                      0.26598761738704635,
                      0.3127425025115834,
                      0.3636442799674191,
                      0.41779437764768235,
                      0.4740017144933722,
                      0.5308757312572936,
                      0.5869588642866029,
                      0.6408729098191851,
                      0.6914489707921985,
                      0.7378162846035233,
                      0.7794384064287011
                    ],
                    [
                      0.056716502944610885,
                      0.0702043625843675,
                      0.08660530018906318,
                      0.10639932223086003,
                      0.1300731076434591,
                      0.1580824659554316,
                      0.19080036940203474,
                      0.22845236871818472,
                      0.27104574151765154,
                      0.31830417394258337,
                      0.3696243187094081,
                      0.4240714764669754,
                      0.48042644240012156,
                      0.5372839193601388,
                      0.5931880199809338,
                      0.6467782796614671,
                      0.6969159942763314,
                      0.742767388610232,
                      0.783833796107235,
                      0.8199334554749756
                    ],
                    [
                      0.07190411135523353,
                      0.08866427320006474,
                      0.10887279055148738,
                      0.13301500073263564,
                      0.16154021702806481,
                      0.1948081723094288,
                      0.2330233097333141,
                      0.2761638635378257,
                      0.3239181351413375,
                      0.3756446468476769,
                      0.43037317010077486,
                      0.4868576502785505,
                      0.5436798141289763,
                      0.5993873508453103,
                      0.6526391761263508,
                      0.702327852598682,
                      0.7476569727396458,
                      0.788165399344314,
                      0.823704380646383,
                      0.8543826343307098
                    ],
                    [
                      0.09076733229295485,
                      0.11139659159602473,
                      0.1360130281579851,
                      0.1650587721144214,
                      0.1988794696340386,
                      0.23765753631757003,
                      0.2813413301334391,
                      0.3295832394807806,
                      0.38170365683881297,
                      0.4366975019886719,
                      0.4932932126962611,
                      0.5500613366893954,
                      0.605555030123668,
                      0.6584541785834421,
                      0.707683609373651,
                      0.7524845854834108,
                      0.7924331895614499,
                      0.8274129580459252,
                      0.8575574601807352,
                      0.8831802101483441
                    ],
                    [
                      0.11397141485009538,
                      0.13906778926737634,
                      0.1686385516265206,
                      0.20301440013196376,
                      0.24235480336595183,
                      0.28657743294872146,
                      0.33529828513098575,
                      0.38779969460651365,
                      0.44304248642613187,
                      0.4997309984530129,
                      0.5564264270055199,
                      0.6116892705417272,
                      0.6642219187519384,
                      0.7129823843392429,
                      0.7572498272751563,
                      0.7966371826481413,
                      0.8310595219050168,
                      0.8606743545154305,
                      0.8858110901652295,
                      0.9069032764599657
                    ],
                    [
                      0.1421798679710843,
                      0.17227994942751435,
                      0.20721306407553242,
                      0.2471148166909523,
                      0.29187140817481777,
                      0.34106201557677496,
                      0.3939310610984772,
                      0.44940611098279915,
                      0.5061688734013627,
                      0.5627730465020616,
                      0.6177883262003097,
                      0.6699410815814572,
                      0.7182233532425085,
                      0.7619523496275622,
                      0.8007774356937654,
                      0.8346444358063171,
                      0.863733883197193,
                      0.8883902080802186,
                      0.9090549085911791,
                      0.9262113037878474
                    ],
                    [
                      0.17598333149156445,
                      0.21147552193875388,
                      0.2519372320325445,
                      0.2972224362307823,
                      0.3468731202520752,
                      0.40009601395542227,
                      0.4557863389936233,
                      0.5126047032756065,
                      0.5690991806271593,
                      0.6238504943627536,
                      0.6756104060141774,
                      0.7234057476249417,
                      0.7665918542059719,
                      0.8048540456950112,
                      0.8381680913339093,
                      0.8667366287937117,
                      0.8909182464449444,
                      0.9111616839040712,
                      0.9279521440586539,
                      0.9417720006578868
                    ],
                    [
                      0.2158017931028902,
                      0.25682165412669666,
                      0.3026296415407731,
                      0.3527302352921669,
                      0.4062927692894986,
                      0.46218111211644264,
                      0.5190363565210503,
                      0.5754028413493049,
                      0.6298741171331828,
                      0.6812286856290083,
                      0.7285288545113714,
                      0.7711680918430946,
                      0.8088671482428635,
                      0.8416309067323197,
                      0.8696831894069273,
                      0.8933958942473217,
                      0.9132243137232935,
                      0.9296550332720765,
                      0.9431682550481996,
                      0.954213445875353
                    ],
                    [
                      0.2617676358369627,
                      0.3080920924110045,
                      0.35863194440457985,
                      0.4125195035688895,
                      0.46858835294935103,
                      0.5254617071156501,
                      0.5816820695819706,
                      0.6358575830228644,
                      0.6867947691689027,
                      0.7335920160060944,
                      0.7756808614993521,
                      0.8128169161930289,
                      0.8450333255769138,
                      0.8725741775288057,
                      0.895823846034714,
                      0.9152435085396288,
                      0.9313206526727138,
                      0.9445330004356005,
                      0.9553255177230231,
                      0.9640978962737138
                    ],
                    [
                      0.31360880100979305,
                      0.3645767798589708,
                      0.41877435560496284,
                      0.4750059677008967,
                      0.5318786373760893,
                      0.5879349375298795,
                      0.6417993284023285,
                      0.6923075609528093,
                      0.7385946288001816,
                      0.7801300091734076,
                      0.8167035583235579,
                      0.8483758154580294,
                      0.8754102189249392,
                      0.8982028010687956,
                      0.9172199774356153,
                      0.9329496781887815,
                      0.9458668541081956,
                      0.956411813192564,
                      0.9649787040389304,
                      0.9719112944640014
                    ],
                    [
                      0.37056322359589994,
                      0.4250554286378744,
                      0.4814318489059055,
                      0.5382850407404354,
                      0.5941595509512244,
                      0.6476978388374042,
                      0.6977660211741307,
                      0.7435361435940516,
                      0.7845154267673813,
                      0.8205273179832826,
                      0.8516588666810544,
                      0.8781919515468614,
                      0.9005334625120657,
                      0.9191544275397019,
                      0.9345427801108466,
                      0.9471704257495396,
                      0.9574728703739548,
                      0.9658386681162755,
                      0.9726058582162337,
                      0.9780629493614907
                    ],
                    [
                      0.43136079251610404,
                      0.4878638781795082,
                      0.5446788245196434,
                      0.6003540513305257,
                      0.6535516503077714,
                      0.7031691660878786,
                      0.7484160644395244,
                      0.7888370509112104,
                      0.8242884717345302,
                      0.8548829909844837,
                      0.880920024473833,
                      0.9028165366458969,
                      0.9210475635083619,
                      0.9361006227925329,
                      0.9484443173024492,
                      0.9585092189942931,
                      0.9666782445653918,
                      0.9732837192447673,
                      0.9786087459777622,
                      0.9828910582158095
                    ],
                    [
                      0.4942999290017697,
                      0.5510579126103025,
                      0.6065166179572108,
                      0.6593593503070883,
                      0.7085160680890588,
                      0.7532339480057016,
                      0.7930948617505403,
                      0.8279873279934331,
                      0.8580487202778405,
                      0.8835950968847349,
                      0.9050527321199293,
                      0.9229000870355565,
                      0.9376238643724679,
                      0.9496891228478452,
                      0.9595213804025995,
                      0.9674978812793721,
                      0.9739452561140353,
                      0.9791412527088456,
                      0.9833187796263508,
                      0.9866710334833123
                    ],
                    [
                      0.5574202481612274,
                      0.6126454699054307,
                      0.6651195788242044,
                      0.7138058556851002,
                      0.7579894027730836,
                      0.7972888817024616,
                      0.8316242256709865,
                      0.8611566054011814,
                      0.886217837060591,
                      0.9072427592325494,
                      0.924712696388919,
                      0.9391131565167516,
                      0.950905428497973,
                      0.9605098675638244,
                      0.9682980180398959,
                      0.9745908399409995,
                      0.9796607789064213,
                      0.9837359849930212,
                      0.9870055053241357,
                      0.9896246930062356
                    ],
                    [
                      0.6187388679110468,
                      0.6708310292053971,
                      0.7190377133654297,
                      0.7626820881604134,
                      0.8014191741833104,
                      0.8351995328178564,
                      0.8642072149077571,
                      0.888788921418126,
                      0.9093873292421425,
                      0.926486085972001,
                      0.9405691441812263,
                      0.9520938123033512,
                      0.9614751850615483,
                      0.9690790865772716,
                      0.9752208344848811,
                      0.9801676274236324,
                      0.9841429241199448,
                      0.9873316918230046,
                      0.9898858066476875,
                      0.9919291842124516
                    ],
                    [
                      0.6764924488980054,
                      0.7242108813715354,
                      0.7673117135887769,
                      0.8054858423126383,
                      0.8387136452757654,
                      0.8672011338712462,
                      0.8913090335746723,
                      0.9114871537087417,
                      0.9282209459119153,
                      0.9419924653928231,
                      0.9532548441728245,
                      0.9624178291088816,
                      0.9698415106350348,
                      0.9758355962389341,
                      0.9806620947164298,
                      0.9845398413099923,
                      0.9876497928747765,
                      0.9901404143557498,
                      0.9921327621613009,
                      0.9937250633679068
                    ]
                  ]
                }
              ],
              "layout": {
                "scene": {
                  "xaxis": {
                    "title": {
                      "text": "weak_layers"
                    }
                  },
                  "yaxis": {
                    "title": {
                      "text": "wind"
                    }
                  },
                  "zaxis": {
                    "title": {
                      "text": "Probability"
                    }
                  }
                },
                "template": {
                  "data": {
                    "bar": [
                      {
                        "error_x": {
                          "color": "#2a3f5f"
                        },
                        "error_y": {
                          "color": "#2a3f5f"
                        },
                        "marker": {
                          "line": {
                            "color": "white",
                            "width": 0.5
                          },
                          "pattern": {
                            "fillmode": "overlay",
                            "size": 10,
                            "solidity": 0.2
                          }
                        },
                        "type": "bar"
                      }
                    ],
                    "barpolar": [
                      {
                        "marker": {
                          "line": {
                            "color": "white",
                            "width": 0.5
                          },
                          "pattern": {
                            "fillmode": "overlay",
                            "size": 10,
                            "solidity": 0.2
                          }
                        },
                        "type": "barpolar"
                      }
                    ],
                    "box": [
                      {
                        "boxpoints": "outliers",
                        "notched": false,
                        "type": "box"
                      }
                    ],
                    "carpet": [
                      {
                        "aaxis": {
                          "endlinecolor": "#2a3f5f",
                          "gridcolor": "#C8D4E3",
                          "linecolor": "#C8D4E3",
                          "minorgridcolor": "#C8D4E3",
                          "startlinecolor": "#2a3f5f"
                        },
                        "baxis": {
                          "endlinecolor": "#2a3f5f",
                          "gridcolor": "#C8D4E3",
                          "linecolor": "#C8D4E3",
                          "minorgridcolor": "#C8D4E3",
                          "startlinecolor": "#2a3f5f"
                        },
                        "type": "carpet"
                      }
                    ],
                    "choropleth": [
                      {
                        "colorbar": {
                          "outlinewidth": 0,
                          "ticks": ""
                        },
                        "type": "choropleth"
                      }
                    ],
                    "contour": [
                      {
                        "colorbar": {
                          "outlinewidth": 0,
                          "ticks": ""
                        },
                        "colorscale": [
                          [
                            0,
                            "#0d0887"
                          ],
                          [
                            0.1111111111111111,
                            "#46039f"
                          ],
                          [
                            0.2222222222222222,
                            "#7201a8"
                          ],
                          [
                            0.3333333333333333,
                            "#9c179e"
                          ],
                          [
                            0.4444444444444444,
                            "#bd3786"
                          ],
                          [
                            0.5555555555555556,
                            "#d8576b"
                          ],
                          [
                            0.6666666666666666,
                            "#ed7953"
                          ],
                          [
                            0.7777777777777778,
                            "#fb9f3a"
                          ],
                          [
                            0.8888888888888888,
                            "#fdca26"
                          ],
                          [
                            1,
                            "#f0f921"
                          ]
                        ],
                        "type": "contour"
                      }
                    ],
                    "contourcarpet": [
                      {
                        "colorbar": {
                          "outlinewidth": 0,
                          "ticks": ""
                        },
                        "type": "contourcarpet"
                      }
                    ],
                    "heatmap": [
                      {
                        "colorbar": {
                          "outlinewidth": 0,
                          "ticks": ""
                        },
                        "colorscale": [
                          [
                            0,
                            "#0d0887"
                          ],
                          [
                            0.1111111111111111,
                            "#46039f"
                          ],
                          [
                            0.2222222222222222,
                            "#7201a8"
                          ],
                          [
                            0.3333333333333333,
                            "#9c179e"
                          ],
                          [
                            0.4444444444444444,
                            "#bd3786"
                          ],
                          [
                            0.5555555555555556,
                            "#d8576b"
                          ],
                          [
                            0.6666666666666666,
                            "#ed7953"
                          ],
                          [
                            0.7777777777777778,
                            "#fb9f3a"
                          ],
                          [
                            0.8888888888888888,
                            "#fdca26"
                          ],
                          [
                            1,
                            "#f0f921"
                          ]
                        ],
                        "type": "heatmap"
                      }
                    ],
                    "heatmapgl": [
                      {
                        "colorbar": {
                          "outlinewidth": 0,
                          "ticks": ""
                        },
                        "colorscale": [
                          [
                            0,
                            "#0d0887"
                          ],
                          [
                            0.1111111111111111,
                            "#46039f"
                          ],
                          [
                            0.2222222222222222,
                            "#7201a8"
                          ],
                          [
                            0.3333333333333333,
                            "#9c179e"
                          ],
                          [
                            0.4444444444444444,
                            "#bd3786"
                          ],
                          [
                            0.5555555555555556,
                            "#d8576b"
                          ],
                          [
                            0.6666666666666666,
                            "#ed7953"
                          ],
                          [
                            0.7777777777777778,
                            "#fb9f3a"
                          ],
                          [
                            0.8888888888888888,
                            "#fdca26"
                          ],
                          [
                            1,
                            "#f0f921"
                          ]
                        ],
                        "type": "heatmapgl"
                      }
                    ],
                    "histogram": [
                      {
                        "marker": {
                          "line": {
                            "width": 1
                          },
                          "pattern": {
                            "fillmode": "overlay",
                            "size": 10,
                            "solidity": 0.2
                          }
                        },
                        "type": "histogram"
                      }
                    ],
                    "histogram2d": [
                      {
                        "colorbar": {
                          "outlinewidth": 0,
                          "ticks": ""
                        },
                        "colorscale": [
                          [
                            0,
                            "#0d0887"
                          ],
                          [
                            0.1111111111111111,
                            "#46039f"
                          ],
                          [
                            0.2222222222222222,
                            "#7201a8"
                          ],
                          [
                            0.3333333333333333,
                            "#9c179e"
                          ],
                          [
                            0.4444444444444444,
                            "#bd3786"
                          ],
                          [
                            0.5555555555555556,
                            "#d8576b"
                          ],
                          [
                            0.6666666666666666,
                            "#ed7953"
                          ],
                          [
                            0.7777777777777778,
                            "#fb9f3a"
                          ],
                          [
                            0.8888888888888888,
                            "#fdca26"
                          ],
                          [
                            1,
                            "#f0f921"
                          ]
                        ],
                        "type": "histogram2d"
                      }
                    ],
                    "histogram2dcontour": [
                      {
                        "colorbar": {
                          "outlinewidth": 0,
                          "ticks": ""
                        },
                        "colorscale": [
                          [
                            0,
                            "#0d0887"
                          ],
                          [
                            0.1111111111111111,
                            "#46039f"
                          ],
                          [
                            0.2222222222222222,
                            "#7201a8"
                          ],
                          [
                            0.3333333333333333,
                            "#9c179e"
                          ],
                          [
                            0.4444444444444444,
                            "#bd3786"
                          ],
                          [
                            0.5555555555555556,
                            "#d8576b"
                          ],
                          [
                            0.6666666666666666,
                            "#ed7953"
                          ],
                          [
                            0.7777777777777778,
                            "#fb9f3a"
                          ],
                          [
                            0.8888888888888888,
                            "#fdca26"
                          ],
                          [
                            1,
                            "#f0f921"
                          ]
                        ],
                        "type": "histogram2dcontour"
                      }
                    ],
                    "mesh3d": [
                      {
                        "colorbar": {
                          "outlinewidth": 0,
                          "ticks": ""
                        },
                        "type": "mesh3d"
                      }
                    ],
                    "parcoords": [
                      {
                        "line": {
                          "colorbar": {
                            "outlinewidth": 0,
                            "ticks": ""
                          }
                        },
                        "type": "parcoords"
                      }
                    ],
                    "pie": [
                      {
                        "automargin": true,
                        "type": "pie"
                      }
                    ],
                    "scatter": [
                      {
                        "marker": {
                          "colorbar": {
                            "outlinewidth": 0,
                            "ticks": ""
                          },
                          "opacity": 0.8
                        },
                        "type": "scatter"
                      }
                    ],
                    "scatter3d": [
                      {
                        "line": {
                          "colorbar": {
                            "outlinewidth": 0,
                            "ticks": ""
                          }
                        },
                        "marker": {
                          "colorbar": {
                            "outlinewidth": 0,
                            "ticks": ""
                          },
                          "opacity": 0.8
                        },
                        "type": "scatter3d"
                      }
                    ],
                    "scattercarpet": [
                      {
                        "marker": {
                          "colorbar": {
                            "outlinewidth": 0,
                            "ticks": ""
                          }
                        },
                        "type": "scattercarpet"
                      }
                    ],
                    "scattergeo": [
                      {
                        "marker": {
                          "colorbar": {
                            "outlinewidth": 0,
                            "ticks": ""
                          }
                        },
                        "type": "scattergeo"
                      }
                    ],
                    "scattergl": [
                      {
                        "marker": {
                          "colorbar": {
                            "outlinewidth": 0,
                            "ticks": ""
                          }
                        },
                        "type": "scattergl"
                      }
                    ],
                    "scattermapbox": [
                      {
                        "marker": {
                          "colorbar": {
                            "outlinewidth": 0,
                            "ticks": ""
                          }
                        },
                        "type": "scattermapbox"
                      }
                    ],
                    "scatterpolar": [
                      {
                        "marker": {
                          "colorbar": {
                            "outlinewidth": 0,
                            "ticks": ""
                          }
                        },
                        "type": "scatterpolar"
                      }
                    ],
                    "scatterpolargl": [
                      {
                        "marker": {
                          "colorbar": {
                            "outlinewidth": 0,
                            "ticks": ""
                          }
                        },
                        "type": "scatterpolargl"
                      }
                    ],
                    "scatterternary": [
                      {
                        "marker": {
                          "colorbar": {
                            "outlinewidth": 0,
                            "ticks": ""
                          }
                        },
                        "type": "scatterternary"
                      }
                    ],
                    "surface": [
                      {
                        "colorbar": {
                          "outlinewidth": 0,
                          "ticks": ""
                        },
                        "colorscale": [
                          [
                            0,
                            "#0d0887"
                          ],
                          [
                            0.1111111111111111,
                            "#46039f"
                          ],
                          [
                            0.2222222222222222,
                            "#7201a8"
                          ],
                          [
                            0.3333333333333333,
                            "#9c179e"
                          ],
                          [
                            0.4444444444444444,
                            "#bd3786"
                          ],
                          [
                            0.5555555555555556,
                            "#d8576b"
                          ],
                          [
                            0.6666666666666666,
                            "#ed7953"
                          ],
                          [
                            0.7777777777777778,
                            "#fb9f3a"
                          ],
                          [
                            0.8888888888888888,
                            "#fdca26"
                          ],
                          [
                            1,
                            "#f0f921"
                          ]
                        ],
                        "type": "surface"
                      }
                    ],
                    "table": [
                      {
                        "cells": {
                          "fill": {
                            "color": "#EBF0F8"
                          },
                          "line": {
                            "color": "white"
                          }
                        },
                        "header": {
                          "fill": {
                            "color": "#C8D4E3"
                          },
                          "line": {
                            "color": "white"
                          }
                        },
                        "type": "table"
                      }
                    ]
                  },
                  "layout": {
                    "annotationdefaults": {
                      "arrowcolor": "#2a3f5f",
                      "arrowhead": 0,
                      "arrowwidth": 1
                    },
                    "autotypenumbers": "strict",
                    "coloraxis": {
                      "colorbar": {
                        "outlinewidth": 0,
                        "ticks": ""
                      }
                    },
                    "colorscale": {
                      "diverging": [
                        [
                          0,
                          "#8e0152"
                        ],
                        [
                          0.1,
                          "#c51b7d"
                        ],
                        [
                          0.2,
                          "#de77ae"
                        ],
                        [
                          0.3,
                          "#f1b6da"
                        ],
                        [
                          0.4,
                          "#fde0ef"
                        ],
                        [
                          0.5,
                          "#f7f7f7"
                        ],
                        [
                          0.6,
                          "#e6f5d0"
                        ],
                        [
                          0.7,
                          "#b8e186"
                        ],
                        [
                          0.8,
                          "#7fbc41"
                        ],
                        [
                          0.9,
                          "#4d9221"
                        ],
                        [
                          1,
                          "#276419"
                        ]
                      ],
                      "sequential": [
                        [
                          0,
                          "#0d0887"
                        ],
                        [
                          0.1111111111111111,
                          "#46039f"
                        ],
                        [
                          0.2222222222222222,
                          "#7201a8"
                        ],
                        [
                          0.3333333333333333,
                          "#9c179e"
                        ],
                        [
                          0.4444444444444444,
                          "#bd3786"
                        ],
                        [
                          0.5555555555555556,
                          "#d8576b"
                        ],
                        [
                          0.6666666666666666,
                          "#ed7953"
                        ],
                        [
                          0.7777777777777778,
                          "#fb9f3a"
                        ],
                        [
                          0.8888888888888888,
                          "#fdca26"
                        ],
                        [
                          1,
                          "#f0f921"
                        ]
                      ],
                      "sequentialminus": [
                        [
                          0,
                          "#0d0887"
                        ],
                        [
                          0.1111111111111111,
                          "#46039f"
                        ],
                        [
                          0.2222222222222222,
                          "#7201a8"
                        ],
                        [
                          0.3333333333333333,
                          "#9c179e"
                        ],
                        [
                          0.4444444444444444,
                          "#bd3786"
                        ],
                        [
                          0.5555555555555556,
                          "#d8576b"
                        ],
                        [
                          0.6666666666666666,
                          "#ed7953"
                        ],
                        [
                          0.7777777777777778,
                          "#fb9f3a"
                        ],
                        [
                          0.8888888888888888,
                          "#fdca26"
                        ],
                        [
                          1,
                          "#f0f921"
                        ]
                      ]
                    },
                    "colorway": [
                      "#636efa",
                      "#EF553B",
                      "#00cc96",
                      "#ab63fa",
                      "#FFA15A",
                      "#19d3f3",
                      "#FF6692",
                      "#B6E880",
                      "#FF97FF",
                      "#FECB52"
                    ],
                    "font": {
                      "color": "#2a3f5f"
                    },
                    "geo": {
                      "bgcolor": "white",
                      "lakecolor": "white",
                      "landcolor": "white",
                      "showlakes": true,
                      "showland": true,
                      "subunitcolor": "#C8D4E3"
                    },
                    "height": 400,
                    "hoverlabel": {
                      "align": "left"
                    },
                    "hovermode": "closest",
                    "mapbox": {
                      "style": "light"
                    },
                    "margin": {
                      "b": 2,
                      "l": 2,
                      "r": 2,
                      "t": 30
                    },
                    "paper_bgcolor": "white",
                    "plot_bgcolor": "white",
                    "polar": {
                      "angularaxis": {
                        "gridcolor": "#EBF0F8",
                        "linecolor": "#EBF0F8",
                        "ticks": ""
                      },
                      "bgcolor": "white",
                      "radialaxis": {
                        "gridcolor": "#EBF0F8",
                        "linecolor": "#EBF0F8",
                        "ticks": ""
                      }
                    },
                    "scene": {
                      "camera": {
                        "eye": {
                          "x": 1.5,
                          "y": 1.5,
                          "z": 0.1
                        }
                      },
                      "xaxis": {
                        "backgroundcolor": "white",
                        "gridcolor": "#DFE8F3",
                        "gridwidth": 2,
                        "linecolor": "#EBF0F8",
                        "showbackground": true,
                        "ticks": "",
                        "zerolinecolor": "#EBF0F8"
                      },
                      "yaxis": {
                        "backgroundcolor": "white",
                        "gridcolor": "#DFE8F3",
                        "gridwidth": 2,
                        "linecolor": "#EBF0F8",
                        "showbackground": true,
                        "ticks": "",
                        "zerolinecolor": "#EBF0F8"
                      },
                      "zaxis": {
                        "backgroundcolor": "white",
                        "gridcolor": "#DFE8F3",
                        "gridwidth": 2,
                        "linecolor": "#EBF0F8",
                        "showbackground": true,
                        "ticks": "",
                        "zerolinecolor": "#EBF0F8"
                      }
                    },
                    "shapedefaults": {
                      "line": {
                        "color": "#2a3f5f"
                      }
                    },
                    "ternary": {
                      "aaxis": {
                        "gridcolor": "#DFE8F3",
                        "linecolor": "#A2B1C6",
                        "ticks": ""
                      },
                      "baxis": {
                        "gridcolor": "#DFE8F3",
                        "linecolor": "#A2B1C6",
                        "ticks": ""
                      },
                      "bgcolor": "white",
                      "caxis": {
                        "gridcolor": "#DFE8F3",
                        "linecolor": "#A2B1C6",
                        "ticks": ""
                      }
                    },
                    "title": {
                      "x": 0.5
                    },
                    "xaxis": {
                      "automargin": true,
                      "gridcolor": "#EBF0F8",
                      "linecolor": "#EBF0F8",
                      "linewidth": 2,
                      "showline": true,
                      "ticks": "",
                      "title": {
                        "standoff": 15
                      },
                      "zerolinecolor": "#EBF0F8",
                      "zerolinewidth": 2
                    },
                    "yaxis": {
                      "automargin": true,
                      "gridcolor": "#EBF0F8",
                      "linecolor": "#EBF0F8",
                      "linewidth": 2,
                      "showline": true,
                      "ticks": "",
                      "title": {
                        "standoff": 15
                      },
                      "zerolinecolor": "#EBF0F8",
                      "zerolinewidth": 2
                    }
                  }
                },
                "title": {
                  "text": "Model Prediction"
                }
              }
            }
          },
          "metadata": {}
        }
      ],
      "metadata": {}
    },
    {
      "cell_type": "markdown",
      "source": [
        "The graph is interactive - rotate it and explore how there's a clear s-shaped relationship between the features and probability.\n",
        "\n",
        "Let's now look at the features that we've said can interact:"
      ],
      "metadata": {}
    },
    {
      "cell_type": "code",
      "execution_count": 10,
      "source": [
        "graphing.model_to_surface_plot(model_with_interaction, [\"no_visitors\", \"fresh_thickness\"], test)"
      ],
      "outputs": [
        {
          "output_type": "stream",
          "name": "stdout",
          "text": [
            "Creating plot...\n"
          ]
        },
        {
          "output_type": "display_data",
          "data": {
            "application/vnd.plotly.v1+json": {
              "config": {
                "plotlyServerURL": "https://plot.ly"
              },
              "data": [
                {
                  "colorbar": {
                    "title": {
                      "text": "Probability"
                    }
                  },
                  "type": "surface",
                  "x": [
                    0,
                    0.47368421052631576,
                    0.9473684210526315,
                    1.4210526315789473,
                    1.894736842105263,
                    2.3684210526315788,
                    2.8421052631578947,
                    3.31578947368421,
                    3.789473684210526,
                    4.263157894736842,
                    4.7368421052631575,
                    5.2105263157894735,
                    5.684210526315789,
                    6.157894736842105,
                    6.63157894736842,
                    7.105263157894736,
                    7.578947368421052,
                    8.052631578947368,
                    8.526315789473683,
                    9
                  ],
                  "y": [
                    0.4137014307004687,
                    1.2959187122253057,
                    2.1781359937501428,
                    3.0603532752749802,
                    3.9425705567998173,
                    4.824787838324655,
                    5.707005119849492,
                    6.589222401374329,
                    7.471439682899166,
                    8.353656964424003,
                    9.23587424594884,
                    10.118091527473677,
                    11.000308808998515,
                    11.882526090523351,
                    12.764743372048189,
                    13.646960653573025,
                    14.529177935097863,
                    15.4113952166227,
                    16.29361249814754,
                    17.175829779672377
                  ],
                  "z": [
                    [
                      0.99044918008353,
                      0.9854392371316607,
                      0.9778600417499922,
                      0.966469944710615,
                      0.9495225928648764,
                      0.9246769998260712,
                      0.8890313166146229,
                      0.8394457433886228,
                      0.7733518652935403,
                      0.6900944442979232,
                      0.5923735767580229,
                      0.48675605667711785,
                      0.3823081645994713,
                      0.2877089539516023,
                      0.20861209423162824,
                      0.1467795382116589,
                      0.10093661725478204,
                      0.06826601525051644,
                      0.04563331996344384,
                      0.030260497637880756
                    ],
                    [
                      0.9852805799553711,
                      0.9785303897364478,
                      0.9687827037145869,
                      0.9548137161707447,
                      0.9350132513097364,
                      0.9073779610227785,
                      0.8696294712482958,
                      0.8195558525936687,
                      0.7556535479978903,
                      0.6780119636373162,
                      0.5891143092897567,
                      0.49399024743964326,
                      0.399299305499253,
                      0.31158259783380976,
                      0.23557830435770652,
                      0.17344275287706346,
                      0.12501566386065802,
                      0.08865958913492786,
                      0.062125614039974936,
                      0.043156656612182966
                    ],
                    [
                      0.9773787812881171,
                      0.9684483644175702,
                      0.9561505644008693,
                      0.939359618670887,
                      0.9166991944073006,
                      0.8865932077592886,
                      0.8474175942462413,
                      0.7977954769159217,
                      0.737043133596836,
                      0.6656866223244288,
                      0.5858472013833483,
                      0.5012269555332391,
                      0.4165363650661542,
                      0.3365013743273299,
                      0.2648636669745737,
                      0.20379259420751364,
                      0.15385591367802232,
                      0.1143974662901065,
                      0.08405341946170539,
                      0.06120192945481738
                    ],
                    [
                      0.9653841059371397,
                      0.9538551336028975,
                      0.9387300859192843,
                      0.9190680908910764,
                      0.8938101642972097,
                      0.8618543811722701,
                      0.8221951187646509,
                      0.7741341492141389,
                      0.7175450997272511,
                      0.6531308525319148,
                      0.5825725226493615,
                      0.5084631496155106,
                      0.4339799433101537,
                      0.3623640314854629,
                      0.29637807668707167,
                      0.23792449347860864,
                      0.18792049132653876,
                      0.14640672023126394,
                      0.11279006758473796,
                      0.08611348547981064
                    ],
                    [
                      0.9473718388209149,
                      0.9329793598287853,
                      0.9150040266384516,
                      0.8927617469677955,
                      0.8655542010259727,
                      0.8327370775944403,
                      0.7938177047393369,
                      0.7485766208337944,
                      0.6971952760168534,
                      0.6403582882366234,
                      0.5792905453283065,
                      0.5156957992051338,
                      0.45158862910337394,
                      0.3890488976322275,
                      0.3299591654769667,
                      0.27579281341728606,
                      0.2274993490812108,
                      0.18549640569261358,
                      0.1497451604798275,
                      0.11987028947390016
                    ],
                    [
                      0.9207563007618523,
                      0.9036137806867809,
                      0.8832331606674778,
                      0.8592145314224403,
                      0.8311995580229822,
                      0.7989145434534148,
                      0.7622210807346387,
                      0.7211687938868458,
                      0.6760412542509631,
                      0.6273837265502263,
                      0.5760015442048455,
                      0.5229218797560145,
                      0.4693193773048234,
                      0.4164155330306058,
                      0.36536938678238445,
                      0.3171797598812926,
                      0.2726157370111059,
                      0.23218393100813534,
                      0.19613170529318583,
                      0.16447829081559803
                    ],
                    [
                      0.8823520755898339,
                      0.863267146398373,
                      0.8416418887665548,
                      0.817320206019015,
                      0.7901942261324283,
                      0.7602220040536134,
                      0.7274449057833643,
                      0.6920025121277957,
                      0.6541425113595655,
                      0.6142230766317983,
                      0.5727057965201441,
                      0.530138377710342,
                      0.48712791982637754,
                      0.4443072436018359,
                      0.40229810356759305,
                      0.36167574891441506,
                      0.32293902053633755,
                      0.2864890722561507,
                      0.25261820312645694,
                      0.22150861835634064
                    ],
                    [
                      0.82879651836193,
                      0.8095904930850267,
                      0.7887789891168765,
                      0.766349293388957,
                      0.7423158854941226,
                      0.7167241812762754,
                      0.6896534540273163,
                      0.661218569935555,
                      0.6315702058556375,
                      0.60089329626284,
                      0.5694035818824222,
                      0.537342295512623,
                      0.5049692025311007,
                      0.47255438926119664,
                      0.44036933428144465,
                      0.4086778819466336,
                      0.37772774902666983,
                      0.3477431323775782,
                      0.31891885911511836,
                      0.29141635254737425
                    ],
                    [
                      0.7575601053938387,
                      0.7411602762959261,
                      0.7240551734504722,
                      0.7062676825184355,
                      0.6878279485334937,
                      0.6687735088959361,
                      0.6491492736840158,
                      0.6290073385291837,
                      0.6084066207882168,
                      0.5874123163854295,
                      0.5660951821757622,
                      0.54453065656702,
                      0.522797838926923,
                      0.5009783554384429,
                      0.4791551450183895,
                      0.45741120321088063,
                      0.43582832426040374,
                      0.4144858816690155,
                      0.39345968544057186,
                      0.3728209500856286
                    ],
                    [
                      0.6685371538019936,
                      0.6585106517915471,
                      0.6483403924658074,
                      0.6380337333213337,
                      0.6275985090473765,
                      0.6170430132797602,
                      0.6063759770448288,
                      0.595606543962195,
                      0.5847442423142707,
                      0.5737989541298101,
                      0.5627808814672379,
                      0.5517005101206618,
                      0.5405685710064142,
                      0.5293959995200488,
                      0.5181938931822546,
                      0.5069734679165429,
                      0.4957460133212742,
                      0.48452284731320205,
                      0.47331527052889405,
                      0.46213452087393736
                    ],
                    [
                      0.5655710296385342,
                      0.5649608876032273,
                      0.5643505487170919,
                      0.563740014767019,
                      0.5631292875422443,
                      0.5625183688343288,
                      0.5619072604371373,
                      0.5612959641468193,
                      0.5606844817617868,
                      0.5600728150826949,
                      0.559460965912421,
                      0.5588489360560427,
                      0.5582367273208196,
                      0.55762434151617,
                      0.5570117804536501,
                      0.5563990459469356,
                      0.5557861398117984,
                      0.555173063866085,
                      0.5545598199296977,
                      0.5539464098245717
                    ],
                    [
                      0.45661701763568135,
                      0.466544292098323,
                      0.4764981327761916,
                      0.48647067810594885,
                      0.4964540070789616,
                      0.5064401643389816,
                      0.5164211855120062,
                      0.5263891225971773,
                      0.5363360692468783,
                      0.5462541857654657,
                      0.5561357236593345,
                      0.5659730495761744,
                      0.5757586684782886,
                      0.5854852459035074,
                      0.595145629177505,
                      0.6047328674529243,
                      0.6142402304635327,
                      0.623661225895397,
                      0.632989615291602,
                      0.6422194284220826
                    ],
                    [
                      0.35166188392904263,
                      0.37066460005206553,
                      0.39007635507910443,
                      0.4098426674428876,
                      0.42990460718255596,
                      0.4501994408995729,
                      0.47066137842093414,
                      0.49122240348843665,
                      0.5118131668926816,
                      0.5323639174957342,
                      0.5528054447509141,
                      0.573070005766788,
                      0.5930922107166634,
                      0.612809842408914,
                      0.6321645889597727,
                      0.6511026725248611,
                      0.6695753616706156,
                      0.6875393598966933,
                      0.7049570677503123,
                      0.7217967206240489
                    ],
                    [
                      0.25931824520492336,
                      0.28399909527999,
                      0.3100456787108204,
                      0.33735555380408044,
                      0.3657956179398289,
                      0.39520333782138395,
                      0.42538948212563094,
                      0.4561423389951988,
                      0.48723326769756437,
                      0.518423302990068,
                      0.5494704210260515,
                      0.5801370040206275,
                      0.6101970189946818,
                      0.6394424573644634,
                      0.6676886617368445,
                      0.6947782811650302,
                      0.7205837287113265,
                      0.7450081467880811,
                      0.7679850002023195,
                      0.7894765028768312
                    ],
                    [
                      0.18432916123876425,
                      0.21080930528163203,
                      0.2399743319083759,
                      0.2717847165949877,
                      0.3061134545956835,
                      0.3427374440527716,
                      0.3813351368496395,
                      0.42149206507117026,
                      0.4627149603957814,
                      0.5044539472241175,
                      0.5461309460192838,
                      0.5871712923096762,
                      0.6270349621284823,
                      0.6652438708953693,
                      0.7014024578981101,
                      0.7352099727942767,
                      0.7664642273101309,
                      0.7950577538804511,
                      0.8209681116773462,
                      0.8442444266160963
                    ],
                    [
                      0.12729830320347704,
                      0.1524649228596123,
                      0.18157176764508715,
                      0.2148268737359558,
                      0.2522951238501687,
                      0.29385256803759546,
                      0.3391503311694825,
                      0.38759805689019045,
                      0.4383756498134951,
                      0.4904776341936838,
                      0.5427873148592043,
                      0.5941701712920427,
                      0.6435704238148239,
                      0.6900937727677963,
                      0.7330633349025443,
                      0.7720430702833635,
                      0.806830658307595,
                      0.8374273497797222,
                      0.8639946652907259,
                      0.8868072398124105
                    ],
                    [
                      0.08605109388601176,
                      0.10805719708168997,
                      0.13486057596189405,
                      0.16706716538727803,
                      0.20514136185201728,
                      0.2492955562289805,
                      0.2993739684470711,
                      0.3547582162378354,
                      0.41432932530163097,
                      0.4765161913122091,
                      0.5394398241656675,
                      0.6011309982411995,
                      0.6597705648601859,
                      0.7138923539334422,
                      0.7625038557026498,
                      0.8051107334039286,
                      0.8416611852659909,
                      0.8724428355653436,
                      0.8979658645564408,
                      0.9188569459616382
                    ],
                    [
                      0.05729142433785022,
                      0.07543270074598056,
                      0.09871686183763854,
                      0.12819173959336624,
                      0.16485746944286916,
                      0.20949040646222375,
                      0.26241026737329926,
                      0.3232321983504671,
                      0.3906844665021609,
                      0.462591353233543,
                      0.5360887719458591,
                      0.6080511907862611,
                      0.6756055335023512,
                      0.7365610341764276,
                      0.7896291817449367,
                      0.8344104028195284,
                      0.8712138541994167,
                      0.9008098528897743,
                      0.9241962578413474,
                      0.9424212111107135
                    ],
                    [
                      0.03774672216054448,
                      0.052082986831560464,
                      0.07145983009533921,
                      0.09730558273492,
                      0.13117866242567203,
                      0.17456305764519398,
                      0.22852187290623246,
                      0.2932345727938616,
                      0.3675421663239989,
                      0.44872462690187026,
                      0.5327344574893165,
                      0.614928230453065,
                      0.6910486222944143,
                      0.7580423822832729,
                      0.8144104805279218,
                      0.8600707371383154,
                      0.8959327521910543,
                      0.923422140854075,
                      0.9441032312968476,
                      0.9594443568634645
                    ],
                    [
                      0.024694941718144917,
                      0.03568208589846687,
                      0.05130044891370541,
                      0.07323591881496948,
                      0.10352721299830095,
                      0.14439529627003023,
                      0.19783607252309507,
                      0.26493106866446514,
                      0.3449945365360637,
                      0.4349371596028981,
                      0.529377181261965,
                      0.6217596659969115,
                      0.7060763715510665,
                      0.7782993291185389,
                      0.8368756443471579,
                      0.8823154875872372,
                      0.916362640394202,
                      0.9412159191238683,
                      0.9590142345085426,
                      0.9715863560479974
                    ]
                  ]
                }
              ],
              "layout": {
                "scene": {
                  "xaxis": {
                    "title": {
                      "text": "no_visitors"
                    }
                  },
                  "yaxis": {
                    "title": {
                      "text": "fresh_thickness"
                    }
                  },
                  "zaxis": {
                    "title": {
                      "text": "Probability"
                    }
                  }
                },
                "template": {
                  "data": {
                    "bar": [
                      {
                        "error_x": {
                          "color": "#2a3f5f"
                        },
                        "error_y": {
                          "color": "#2a3f5f"
                        },
                        "marker": {
                          "line": {
                            "color": "white",
                            "width": 0.5
                          },
                          "pattern": {
                            "fillmode": "overlay",
                            "size": 10,
                            "solidity": 0.2
                          }
                        },
                        "type": "bar"
                      }
                    ],
                    "barpolar": [
                      {
                        "marker": {
                          "line": {
                            "color": "white",
                            "width": 0.5
                          },
                          "pattern": {
                            "fillmode": "overlay",
                            "size": 10,
                            "solidity": 0.2
                          }
                        },
                        "type": "barpolar"
                      }
                    ],
                    "box": [
                      {
                        "boxpoints": "outliers",
                        "notched": false,
                        "type": "box"
                      }
                    ],
                    "carpet": [
                      {
                        "aaxis": {
                          "endlinecolor": "#2a3f5f",
                          "gridcolor": "#C8D4E3",
                          "linecolor": "#C8D4E3",
                          "minorgridcolor": "#C8D4E3",
                          "startlinecolor": "#2a3f5f"
                        },
                        "baxis": {
                          "endlinecolor": "#2a3f5f",
                          "gridcolor": "#C8D4E3",
                          "linecolor": "#C8D4E3",
                          "minorgridcolor": "#C8D4E3",
                          "startlinecolor": "#2a3f5f"
                        },
                        "type": "carpet"
                      }
                    ],
                    "choropleth": [
                      {
                        "colorbar": {
                          "outlinewidth": 0,
                          "ticks": ""
                        },
                        "type": "choropleth"
                      }
                    ],
                    "contour": [
                      {
                        "colorbar": {
                          "outlinewidth": 0,
                          "ticks": ""
                        },
                        "colorscale": [
                          [
                            0,
                            "#0d0887"
                          ],
                          [
                            0.1111111111111111,
                            "#46039f"
                          ],
                          [
                            0.2222222222222222,
                            "#7201a8"
                          ],
                          [
                            0.3333333333333333,
                            "#9c179e"
                          ],
                          [
                            0.4444444444444444,
                            "#bd3786"
                          ],
                          [
                            0.5555555555555556,
                            "#d8576b"
                          ],
                          [
                            0.6666666666666666,
                            "#ed7953"
                          ],
                          [
                            0.7777777777777778,
                            "#fb9f3a"
                          ],
                          [
                            0.8888888888888888,
                            "#fdca26"
                          ],
                          [
                            1,
                            "#f0f921"
                          ]
                        ],
                        "type": "contour"
                      }
                    ],
                    "contourcarpet": [
                      {
                        "colorbar": {
                          "outlinewidth": 0,
                          "ticks": ""
                        },
                        "type": "contourcarpet"
                      }
                    ],
                    "heatmap": [
                      {
                        "colorbar": {
                          "outlinewidth": 0,
                          "ticks": ""
                        },
                        "colorscale": [
                          [
                            0,
                            "#0d0887"
                          ],
                          [
                            0.1111111111111111,
                            "#46039f"
                          ],
                          [
                            0.2222222222222222,
                            "#7201a8"
                          ],
                          [
                            0.3333333333333333,
                            "#9c179e"
                          ],
                          [
                            0.4444444444444444,
                            "#bd3786"
                          ],
                          [
                            0.5555555555555556,
                            "#d8576b"
                          ],
                          [
                            0.6666666666666666,
                            "#ed7953"
                          ],
                          [
                            0.7777777777777778,
                            "#fb9f3a"
                          ],
                          [
                            0.8888888888888888,
                            "#fdca26"
                          ],
                          [
                            1,
                            "#f0f921"
                          ]
                        ],
                        "type": "heatmap"
                      }
                    ],
                    "heatmapgl": [
                      {
                        "colorbar": {
                          "outlinewidth": 0,
                          "ticks": ""
                        },
                        "colorscale": [
                          [
                            0,
                            "#0d0887"
                          ],
                          [
                            0.1111111111111111,
                            "#46039f"
                          ],
                          [
                            0.2222222222222222,
                            "#7201a8"
                          ],
                          [
                            0.3333333333333333,
                            "#9c179e"
                          ],
                          [
                            0.4444444444444444,
                            "#bd3786"
                          ],
                          [
                            0.5555555555555556,
                            "#d8576b"
                          ],
                          [
                            0.6666666666666666,
                            "#ed7953"
                          ],
                          [
                            0.7777777777777778,
                            "#fb9f3a"
                          ],
                          [
                            0.8888888888888888,
                            "#fdca26"
                          ],
                          [
                            1,
                            "#f0f921"
                          ]
                        ],
                        "type": "heatmapgl"
                      }
                    ],
                    "histogram": [
                      {
                        "marker": {
                          "line": {
                            "width": 1
                          },
                          "pattern": {
                            "fillmode": "overlay",
                            "size": 10,
                            "solidity": 0.2
                          }
                        },
                        "type": "histogram"
                      }
                    ],
                    "histogram2d": [
                      {
                        "colorbar": {
                          "outlinewidth": 0,
                          "ticks": ""
                        },
                        "colorscale": [
                          [
                            0,
                            "#0d0887"
                          ],
                          [
                            0.1111111111111111,
                            "#46039f"
                          ],
                          [
                            0.2222222222222222,
                            "#7201a8"
                          ],
                          [
                            0.3333333333333333,
                            "#9c179e"
                          ],
                          [
                            0.4444444444444444,
                            "#bd3786"
                          ],
                          [
                            0.5555555555555556,
                            "#d8576b"
                          ],
                          [
                            0.6666666666666666,
                            "#ed7953"
                          ],
                          [
                            0.7777777777777778,
                            "#fb9f3a"
                          ],
                          [
                            0.8888888888888888,
                            "#fdca26"
                          ],
                          [
                            1,
                            "#f0f921"
                          ]
                        ],
                        "type": "histogram2d"
                      }
                    ],
                    "histogram2dcontour": [
                      {
                        "colorbar": {
                          "outlinewidth": 0,
                          "ticks": ""
                        },
                        "colorscale": [
                          [
                            0,
                            "#0d0887"
                          ],
                          [
                            0.1111111111111111,
                            "#46039f"
                          ],
                          [
                            0.2222222222222222,
                            "#7201a8"
                          ],
                          [
                            0.3333333333333333,
                            "#9c179e"
                          ],
                          [
                            0.4444444444444444,
                            "#bd3786"
                          ],
                          [
                            0.5555555555555556,
                            "#d8576b"
                          ],
                          [
                            0.6666666666666666,
                            "#ed7953"
                          ],
                          [
                            0.7777777777777778,
                            "#fb9f3a"
                          ],
                          [
                            0.8888888888888888,
                            "#fdca26"
                          ],
                          [
                            1,
                            "#f0f921"
                          ]
                        ],
                        "type": "histogram2dcontour"
                      }
                    ],
                    "mesh3d": [
                      {
                        "colorbar": {
                          "outlinewidth": 0,
                          "ticks": ""
                        },
                        "type": "mesh3d"
                      }
                    ],
                    "parcoords": [
                      {
                        "line": {
                          "colorbar": {
                            "outlinewidth": 0,
                            "ticks": ""
                          }
                        },
                        "type": "parcoords"
                      }
                    ],
                    "pie": [
                      {
                        "automargin": true,
                        "type": "pie"
                      }
                    ],
                    "scatter": [
                      {
                        "marker": {
                          "colorbar": {
                            "outlinewidth": 0,
                            "ticks": ""
                          },
                          "opacity": 0.8
                        },
                        "type": "scatter"
                      }
                    ],
                    "scatter3d": [
                      {
                        "line": {
                          "colorbar": {
                            "outlinewidth": 0,
                            "ticks": ""
                          }
                        },
                        "marker": {
                          "colorbar": {
                            "outlinewidth": 0,
                            "ticks": ""
                          },
                          "opacity": 0.8
                        },
                        "type": "scatter3d"
                      }
                    ],
                    "scattercarpet": [
                      {
                        "marker": {
                          "colorbar": {
                            "outlinewidth": 0,
                            "ticks": ""
                          }
                        },
                        "type": "scattercarpet"
                      }
                    ],
                    "scattergeo": [
                      {
                        "marker": {
                          "colorbar": {
                            "outlinewidth": 0,
                            "ticks": ""
                          }
                        },
                        "type": "scattergeo"
                      }
                    ],
                    "scattergl": [
                      {
                        "marker": {
                          "colorbar": {
                            "outlinewidth": 0,
                            "ticks": ""
                          }
                        },
                        "type": "scattergl"
                      }
                    ],
                    "scattermapbox": [
                      {
                        "marker": {
                          "colorbar": {
                            "outlinewidth": 0,
                            "ticks": ""
                          }
                        },
                        "type": "scattermapbox"
                      }
                    ],
                    "scatterpolar": [
                      {
                        "marker": {
                          "colorbar": {
                            "outlinewidth": 0,
                            "ticks": ""
                          }
                        },
                        "type": "scatterpolar"
                      }
                    ],
                    "scatterpolargl": [
                      {
                        "marker": {
                          "colorbar": {
                            "outlinewidth": 0,
                            "ticks": ""
                          }
                        },
                        "type": "scatterpolargl"
                      }
                    ],
                    "scatterternary": [
                      {
                        "marker": {
                          "colorbar": {
                            "outlinewidth": 0,
                            "ticks": ""
                          }
                        },
                        "type": "scatterternary"
                      }
                    ],
                    "surface": [
                      {
                        "colorbar": {
                          "outlinewidth": 0,
                          "ticks": ""
                        },
                        "colorscale": [
                          [
                            0,
                            "#0d0887"
                          ],
                          [
                            0.1111111111111111,
                            "#46039f"
                          ],
                          [
                            0.2222222222222222,
                            "#7201a8"
                          ],
                          [
                            0.3333333333333333,
                            "#9c179e"
                          ],
                          [
                            0.4444444444444444,
                            "#bd3786"
                          ],
                          [
                            0.5555555555555556,
                            "#d8576b"
                          ],
                          [
                            0.6666666666666666,
                            "#ed7953"
                          ],
                          [
                            0.7777777777777778,
                            "#fb9f3a"
                          ],
                          [
                            0.8888888888888888,
                            "#fdca26"
                          ],
                          [
                            1,
                            "#f0f921"
                          ]
                        ],
                        "type": "surface"
                      }
                    ],
                    "table": [
                      {
                        "cells": {
                          "fill": {
                            "color": "#EBF0F8"
                          },
                          "line": {
                            "color": "white"
                          }
                        },
                        "header": {
                          "fill": {
                            "color": "#C8D4E3"
                          },
                          "line": {
                            "color": "white"
                          }
                        },
                        "type": "table"
                      }
                    ]
                  },
                  "layout": {
                    "annotationdefaults": {
                      "arrowcolor": "#2a3f5f",
                      "arrowhead": 0,
                      "arrowwidth": 1
                    },
                    "autotypenumbers": "strict",
                    "coloraxis": {
                      "colorbar": {
                        "outlinewidth": 0,
                        "ticks": ""
                      }
                    },
                    "colorscale": {
                      "diverging": [
                        [
                          0,
                          "#8e0152"
                        ],
                        [
                          0.1,
                          "#c51b7d"
                        ],
                        [
                          0.2,
                          "#de77ae"
                        ],
                        [
                          0.3,
                          "#f1b6da"
                        ],
                        [
                          0.4,
                          "#fde0ef"
                        ],
                        [
                          0.5,
                          "#f7f7f7"
                        ],
                        [
                          0.6,
                          "#e6f5d0"
                        ],
                        [
                          0.7,
                          "#b8e186"
                        ],
                        [
                          0.8,
                          "#7fbc41"
                        ],
                        [
                          0.9,
                          "#4d9221"
                        ],
                        [
                          1,
                          "#276419"
                        ]
                      ],
                      "sequential": [
                        [
                          0,
                          "#0d0887"
                        ],
                        [
                          0.1111111111111111,
                          "#46039f"
                        ],
                        [
                          0.2222222222222222,
                          "#7201a8"
                        ],
                        [
                          0.3333333333333333,
                          "#9c179e"
                        ],
                        [
                          0.4444444444444444,
                          "#bd3786"
                        ],
                        [
                          0.5555555555555556,
                          "#d8576b"
                        ],
                        [
                          0.6666666666666666,
                          "#ed7953"
                        ],
                        [
                          0.7777777777777778,
                          "#fb9f3a"
                        ],
                        [
                          0.8888888888888888,
                          "#fdca26"
                        ],
                        [
                          1,
                          "#f0f921"
                        ]
                      ],
                      "sequentialminus": [
                        [
                          0,
                          "#0d0887"
                        ],
                        [
                          0.1111111111111111,
                          "#46039f"
                        ],
                        [
                          0.2222222222222222,
                          "#7201a8"
                        ],
                        [
                          0.3333333333333333,
                          "#9c179e"
                        ],
                        [
                          0.4444444444444444,
                          "#bd3786"
                        ],
                        [
                          0.5555555555555556,
                          "#d8576b"
                        ],
                        [
                          0.6666666666666666,
                          "#ed7953"
                        ],
                        [
                          0.7777777777777778,
                          "#fb9f3a"
                        ],
                        [
                          0.8888888888888888,
                          "#fdca26"
                        ],
                        [
                          1,
                          "#f0f921"
                        ]
                      ]
                    },
                    "colorway": [
                      "#636efa",
                      "#EF553B",
                      "#00cc96",
                      "#ab63fa",
                      "#FFA15A",
                      "#19d3f3",
                      "#FF6692",
                      "#B6E880",
                      "#FF97FF",
                      "#FECB52"
                    ],
                    "font": {
                      "color": "#2a3f5f"
                    },
                    "geo": {
                      "bgcolor": "white",
                      "lakecolor": "white",
                      "landcolor": "white",
                      "showlakes": true,
                      "showland": true,
                      "subunitcolor": "#C8D4E3"
                    },
                    "height": 400,
                    "hoverlabel": {
                      "align": "left"
                    },
                    "hovermode": "closest",
                    "mapbox": {
                      "style": "light"
                    },
                    "margin": {
                      "b": 2,
                      "l": 2,
                      "r": 2,
                      "t": 30
                    },
                    "paper_bgcolor": "white",
                    "plot_bgcolor": "white",
                    "polar": {
                      "angularaxis": {
                        "gridcolor": "#EBF0F8",
                        "linecolor": "#EBF0F8",
                        "ticks": ""
                      },
                      "bgcolor": "white",
                      "radialaxis": {
                        "gridcolor": "#EBF0F8",
                        "linecolor": "#EBF0F8",
                        "ticks": ""
                      }
                    },
                    "scene": {
                      "camera": {
                        "eye": {
                          "x": 1.5,
                          "y": 1.5,
                          "z": 0.1
                        }
                      },
                      "xaxis": {
                        "backgroundcolor": "white",
                        "gridcolor": "#DFE8F3",
                        "gridwidth": 2,
                        "linecolor": "#EBF0F8",
                        "showbackground": true,
                        "ticks": "",
                        "zerolinecolor": "#EBF0F8"
                      },
                      "yaxis": {
                        "backgroundcolor": "white",
                        "gridcolor": "#DFE8F3",
                        "gridwidth": 2,
                        "linecolor": "#EBF0F8",
                        "showbackground": true,
                        "ticks": "",
                        "zerolinecolor": "#EBF0F8"
                      },
                      "zaxis": {
                        "backgroundcolor": "white",
                        "gridcolor": "#DFE8F3",
                        "gridwidth": 2,
                        "linecolor": "#EBF0F8",
                        "showbackground": true,
                        "ticks": "",
                        "zerolinecolor": "#EBF0F8"
                      }
                    },
                    "shapedefaults": {
                      "line": {
                        "color": "#2a3f5f"
                      }
                    },
                    "ternary": {
                      "aaxis": {
                        "gridcolor": "#DFE8F3",
                        "linecolor": "#A2B1C6",
                        "ticks": ""
                      },
                      "baxis": {
                        "gridcolor": "#DFE8F3",
                        "linecolor": "#A2B1C6",
                        "ticks": ""
                      },
                      "bgcolor": "white",
                      "caxis": {
                        "gridcolor": "#DFE8F3",
                        "linecolor": "#A2B1C6",
                        "ticks": ""
                      }
                    },
                    "title": {
                      "x": 0.5
                    },
                    "xaxis": {
                      "automargin": true,
                      "gridcolor": "#EBF0F8",
                      "linecolor": "#EBF0F8",
                      "linewidth": 2,
                      "showline": true,
                      "ticks": "",
                      "title": {
                        "standoff": 15
                      },
                      "zerolinecolor": "#EBF0F8",
                      "zerolinewidth": 2
                    },
                    "yaxis": {
                      "automargin": true,
                      "gridcolor": "#EBF0F8",
                      "linecolor": "#EBF0F8",
                      "linewidth": 2,
                      "showline": true,
                      "ticks": "",
                      "title": {
                        "standoff": 15
                      },
                      "zerolinecolor": "#EBF0F8",
                      "zerolinewidth": 2
                    }
                  }
                },
                "title": {
                  "text": "Model Prediction"
                }
              }
            }
          },
          "metadata": {}
        }
      ],
      "metadata": {}
    },
    {
      "cell_type": "markdown",
      "source": [
        "It looks quite different to the other! From any side, we can see an s-shape, but these combine in strange ways.\n",
        "\n",
        "We can see that the risk goes up on days with lots of visitors _and_ lots of snow. There is no real risk of avalanche when there's a lot of snow but no visitors, or when there are a lot of visitors but no snow.\n",
        "\n",
        "The fact that it shows high risk when there's no fresh snow and no visitors could be due to rain, which keeps visitors and snow clouds away but results in avalanches of the older snow. To confirm this, we'd need to explore the data in more depth, but we'll stop here for now.\n",
        "\n",
        "## Summary\n",
        "\n",
        "Well done! Let's recap. We've:\n",
        "\n",
        "* improved our simple model by adding more features. \n",
        "* practiced interpreting our model coefficients (parameters) from the model summary\n",
        "* eliminated unnecessary features\n",
        "* explored how sometimes it's important to think about what your data really mean\n",
        "* created a model that combined features to give superior result"
      ],
      "metadata": {}
    }
  ],
  "metadata": {
    "kernelspec": {
      "name": "python3",
      "display_name": "Python 3.9.5 64-bit"
    },
    "language_info": {
      "name": "python",
      "version": "3.9.5",
      "mimetype": "text/x-python",
      "codemirror_mode": {
        "name": "ipython",
        "version": 3
      },
      "pygments_lexer": "ipython3",
      "nbconvert_exporter": "python",
      "file_extension": ".py"
    },
    "kernel_info": {
      "name": "conda-env-py37_default-py"
    },
    "nteract": {
      "version": "nteract-front-end@1.0.0"
    },
    "interpreter": {
      "hash": "397704579725e15f5c7cb49fe5f0341eb7531c82d19f2c29d197e8b64ab5776b"
    }
  },
  "nbformat": 4,
  "nbformat_minor": 2
}